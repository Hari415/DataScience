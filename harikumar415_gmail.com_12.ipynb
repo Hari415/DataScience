{
  "nbformat": 4,
  "nbformat_minor": 0,
  "metadata": {
    "accelerator": "GPU",
    "colab": {
      "name": "harikumar415@gmail.com_12.ipynb",
      "provenance": [],
      "collapsed_sections": []
    },
    "kernelspec": {
      "display_name": "Python 3",
      "language": "python",
      "name": "python3"
    },
    "language_info": {
      "codemirror_mode": {
        "name": "ipython",
        "version": 3
      },
      "file_extension": ".py",
      "mimetype": "text/x-python",
      "name": "python",
      "nbconvert_exporter": "python",
      "pygments_lexer": "ipython3",
      "version": "3.7.4"
    }
  },
  "cells": [
    {
      "cell_type": "markdown",
      "metadata": {
        "colab_type": "text",
        "id": "UTJmsXnXQKbG"
      },
      "source": [
        "## Keras -- MLPs on MNIST"
      ]
    },
    {
      "cell_type": "code",
      "metadata": {
        "colab_type": "code",
        "id": "2UILABPAQKbH",
        "colab": {}
      },
      "source": [
        "# if you keras is not using tensorflow as backend set \"KERAS_BACKEND=tensorflow\" use this command\n",
        "from keras.utils import np_utils \n",
        "from keras.datasets import mnist \n",
        "import seaborn as sns\n",
        "from keras.initializers import RandomNormal"
      ],
      "execution_count": 0,
      "outputs": []
    },
    {
      "cell_type": "code",
      "metadata": {
        "colab_type": "code",
        "id": "lOO-TM_7QKbM",
        "colab": {}
      },
      "source": [
        "%matplotlib notebook\n",
        "import matplotlib.pyplot as plt\n",
        "%matplotlib inline\n",
        "import numpy as np\n",
        "import time\n",
        "# https://gist.github.com/greydanus/f6eee59eaf1d90fcb3b534a25362cea4\n",
        "# https://stackoverflow.com/a/14434334\n",
        "# this function is used to update the plots for each epoch and error\n",
        "def plt_dynamic(x, vy, ty, ax, colors=['b']):\n",
        "    ax.plot(x, vy, 'b', label=\"Validation Loss\")\n",
        "    ax.plot(x, ty, 'r', label=\"Train Loss\")\n",
        "    plt.legend()\n",
        "    plt.grid()\n",
        "    fig.canvas.draw()"
      ],
      "execution_count": 0,
      "outputs": []
    },
    {
      "cell_type": "code",
      "metadata": {
        "colab_type": "code",
        "id": "TKmYKnibQKbQ",
        "colab": {}
      },
      "source": [
        "# the data, shuffled and split between train and test sets \n",
        "(X_train, y_train), (X_test, y_test) = mnist.load_data()"
      ],
      "execution_count": 0,
      "outputs": []
    },
    {
      "cell_type": "code",
      "metadata": {
        "colab_type": "code",
        "id": "CCwnZae-QKbT",
        "outputId": "b5f63638-6be1-4762-a88b-bf9e155bed4c",
        "colab": {
          "base_uri": "https://localhost:8080/",
          "height": 52
        }
      },
      "source": [
        "print(\"Number of training examples :\", X_train.shape[0], \"and each image is of shape (%d, %d)\"%(X_train.shape[1], X_train.shape[2]))\n",
        "print(\"Number of testing examples :\", X_test.shape[0], \"and each image is of shape (%d, %d)\"%(X_test.shape[1], X_test.shape[2]))"
      ],
      "execution_count": 71,
      "outputs": [
        {
          "output_type": "stream",
          "text": [
            "Number of training examples : 60000 and each image is of shape (28, 28)\n",
            "Number of testing examples : 10000 and each image is of shape (28, 28)\n"
          ],
          "name": "stdout"
        }
      ]
    },
    {
      "cell_type": "code",
      "metadata": {
        "colab_type": "code",
        "id": "BlotuCmoQKbW",
        "colab": {}
      },
      "source": [
        "# if you observe the input shape its 2 dimensional vector\n",
        "# for each image we have a (28*28) vector\n",
        "# we will convert the (28*28) vector into single dimensional vector of 1 * 784 \n",
        "\n",
        "X_train = X_train.reshape(X_train.shape[0], X_train.shape[1]*X_train.shape[2]) \n",
        "X_test = X_test.reshape(X_test.shape[0], X_test.shape[1]*X_test.shape[2]) "
      ],
      "execution_count": 0,
      "outputs": []
    },
    {
      "cell_type": "code",
      "metadata": {
        "colab_type": "code",
        "id": "8JvpNJy4QKbY",
        "outputId": "d37eddc0-0b3e-421d-befa-1d5a1d13e8bf",
        "colab": {
          "base_uri": "https://localhost:8080/",
          "height": 52
        }
      },
      "source": [
        "# after converting the input images from 3d to 2d vectors\n",
        "\n",
        "print(\"Number of training examples :\", X_train.shape[0], \"and each image is of shape (%d)\"%(X_train.shape[1]))\n",
        "print(\"Number of testing examples :\", X_test.shape[0], \"and each image is of shape (%d)\"%(X_test.shape[1]))"
      ],
      "execution_count": 73,
      "outputs": [
        {
          "output_type": "stream",
          "text": [
            "Number of training examples : 60000 and each image is of shape (784)\n",
            "Number of testing examples : 10000 and each image is of shape (784)\n"
          ],
          "name": "stdout"
        }
      ]
    },
    {
      "cell_type": "code",
      "metadata": {
        "colab_type": "code",
        "id": "qvuaHDk0QKbb",
        "outputId": "fad2f95b-1f89-4742-9168-5c00524ecc8e",
        "colab": {
          "base_uri": "https://localhost:8080/",
          "height": 780
        }
      },
      "source": [
        "# An example data point\n",
        "print(X_train[0])"
      ],
      "execution_count": 74,
      "outputs": [
        {
          "output_type": "stream",
          "text": [
            "[  0   0   0   0   0   0   0   0   0   0   0   0   0   0   0   0   0   0\n",
            "   0   0   0   0   0   0   0   0   0   0   0   0   0   0   0   0   0   0\n",
            "   0   0   0   0   0   0   0   0   0   0   0   0   0   0   0   0   0   0\n",
            "   0   0   0   0   0   0   0   0   0   0   0   0   0   0   0   0   0   0\n",
            "   0   0   0   0   0   0   0   0   0   0   0   0   0   0   0   0   0   0\n",
            "   0   0   0   0   0   0   0   0   0   0   0   0   0   0   0   0   0   0\n",
            "   0   0   0   0   0   0   0   0   0   0   0   0   0   0   0   0   0   0\n",
            "   0   0   0   0   0   0   0   0   0   0   0   0   0   0   0   0   0   0\n",
            "   0   0   0   0   0   0   0   0   3  18  18  18 126 136 175  26 166 255\n",
            " 247 127   0   0   0   0   0   0   0   0   0   0   0   0  30  36  94 154\n",
            " 170 253 253 253 253 253 225 172 253 242 195  64   0   0   0   0   0   0\n",
            "   0   0   0   0   0  49 238 253 253 253 253 253 253 253 253 251  93  82\n",
            "  82  56  39   0   0   0   0   0   0   0   0   0   0   0   0  18 219 253\n",
            " 253 253 253 253 198 182 247 241   0   0   0   0   0   0   0   0   0   0\n",
            "   0   0   0   0   0   0   0   0  80 156 107 253 253 205  11   0  43 154\n",
            "   0   0   0   0   0   0   0   0   0   0   0   0   0   0   0   0   0   0\n",
            "   0  14   1 154 253  90   0   0   0   0   0   0   0   0   0   0   0   0\n",
            "   0   0   0   0   0   0   0   0   0   0   0   0   0 139 253 190   2   0\n",
            "   0   0   0   0   0   0   0   0   0   0   0   0   0   0   0   0   0   0\n",
            "   0   0   0   0   0  11 190 253  70   0   0   0   0   0   0   0   0   0\n",
            "   0   0   0   0   0   0   0   0   0   0   0   0   0   0   0   0  35 241\n",
            " 225 160 108   1   0   0   0   0   0   0   0   0   0   0   0   0   0   0\n",
            "   0   0   0   0   0   0   0   0   0  81 240 253 253 119  25   0   0   0\n",
            "   0   0   0   0   0   0   0   0   0   0   0   0   0   0   0   0   0   0\n",
            "   0   0  45 186 253 253 150  27   0   0   0   0   0   0   0   0   0   0\n",
            "   0   0   0   0   0   0   0   0   0   0   0   0   0  16  93 252 253 187\n",
            "   0   0   0   0   0   0   0   0   0   0   0   0   0   0   0   0   0   0\n",
            "   0   0   0   0   0   0   0 249 253 249  64   0   0   0   0   0   0   0\n",
            "   0   0   0   0   0   0   0   0   0   0   0   0   0   0  46 130 183 253\n",
            " 253 207   2   0   0   0   0   0   0   0   0   0   0   0   0   0   0   0\n",
            "   0   0   0   0  39 148 229 253 253 253 250 182   0   0   0   0   0   0\n",
            "   0   0   0   0   0   0   0   0   0   0   0   0  24 114 221 253 253 253\n",
            " 253 201  78   0   0   0   0   0   0   0   0   0   0   0   0   0   0   0\n",
            "   0   0  23  66 213 253 253 253 253 198  81   2   0   0   0   0   0   0\n",
            "   0   0   0   0   0   0   0   0   0   0  18 171 219 253 253 253 253 195\n",
            "  80   9   0   0   0   0   0   0   0   0   0   0   0   0   0   0   0   0\n",
            "  55 172 226 253 253 253 253 244 133  11   0   0   0   0   0   0   0   0\n",
            "   0   0   0   0   0   0   0   0   0   0 136 253 253 253 212 135 132  16\n",
            "   0   0   0   0   0   0   0   0   0   0   0   0   0   0   0   0   0   0\n",
            "   0   0   0   0   0   0   0   0   0   0   0   0   0   0   0   0   0   0\n",
            "   0   0   0   0   0   0   0   0   0   0   0   0   0   0   0   0   0   0\n",
            "   0   0   0   0   0   0   0   0   0   0   0   0   0   0   0   0   0   0\n",
            "   0   0   0   0   0   0   0   0   0   0   0   0   0   0   0   0   0   0\n",
            "   0   0   0   0   0   0   0   0   0   0]\n"
          ],
          "name": "stdout"
        }
      ]
    },
    {
      "cell_type": "code",
      "metadata": {
        "colab_type": "code",
        "id": "lfohtdKPQKbd",
        "colab": {}
      },
      "source": [
        "# if we observe the above matrix each cell is having a value between 0-255\n",
        "# before we move to apply machine learning algorithms lets try to normalize the data\n",
        "# X => (X - Xmin)/(Xmax-Xmin) = X/255\n",
        "\n",
        "X_train = X_train/255\n",
        "X_test = X_test/255"
      ],
      "execution_count": 0,
      "outputs": []
    },
    {
      "cell_type": "code",
      "metadata": {
        "colab_type": "code",
        "id": "4C-dmsXJQKbf",
        "outputId": "2a5ea845-984f-4d08-d1f2-e343faa64b73",
        "colab": {
          "base_uri": "https://localhost:8080/",
          "height": 1000
        }
      },
      "source": [
        "# example data point after normlizing\n",
        "print(X_train[0])"
      ],
      "execution_count": 76,
      "outputs": [
        {
          "output_type": "stream",
          "text": [
            "[0.         0.         0.         0.         0.         0.\n",
            " 0.         0.         0.         0.         0.         0.\n",
            " 0.         0.         0.         0.         0.         0.\n",
            " 0.         0.         0.         0.         0.         0.\n",
            " 0.         0.         0.         0.         0.         0.\n",
            " 0.         0.         0.         0.         0.         0.\n",
            " 0.         0.         0.         0.         0.         0.\n",
            " 0.         0.         0.         0.         0.         0.\n",
            " 0.         0.         0.         0.         0.         0.\n",
            " 0.         0.         0.         0.         0.         0.\n",
            " 0.         0.         0.         0.         0.         0.\n",
            " 0.         0.         0.         0.         0.         0.\n",
            " 0.         0.         0.         0.         0.         0.\n",
            " 0.         0.         0.         0.         0.         0.\n",
            " 0.         0.         0.         0.         0.         0.\n",
            " 0.         0.         0.         0.         0.         0.\n",
            " 0.         0.         0.         0.         0.         0.\n",
            " 0.         0.         0.         0.         0.         0.\n",
            " 0.         0.         0.         0.         0.         0.\n",
            " 0.         0.         0.         0.         0.         0.\n",
            " 0.         0.         0.         0.         0.         0.\n",
            " 0.         0.         0.         0.         0.         0.\n",
            " 0.         0.         0.         0.         0.         0.\n",
            " 0.         0.         0.         0.         0.         0.\n",
            " 0.         0.         0.         0.         0.         0.\n",
            " 0.         0.         0.01176471 0.07058824 0.07058824 0.07058824\n",
            " 0.49411765 0.53333333 0.68627451 0.10196078 0.65098039 1.\n",
            " 0.96862745 0.49803922 0.         0.         0.         0.\n",
            " 0.         0.         0.         0.         0.         0.\n",
            " 0.         0.         0.11764706 0.14117647 0.36862745 0.60392157\n",
            " 0.66666667 0.99215686 0.99215686 0.99215686 0.99215686 0.99215686\n",
            " 0.88235294 0.6745098  0.99215686 0.94901961 0.76470588 0.25098039\n",
            " 0.         0.         0.         0.         0.         0.\n",
            " 0.         0.         0.         0.         0.         0.19215686\n",
            " 0.93333333 0.99215686 0.99215686 0.99215686 0.99215686 0.99215686\n",
            " 0.99215686 0.99215686 0.99215686 0.98431373 0.36470588 0.32156863\n",
            " 0.32156863 0.21960784 0.15294118 0.         0.         0.\n",
            " 0.         0.         0.         0.         0.         0.\n",
            " 0.         0.         0.         0.07058824 0.85882353 0.99215686\n",
            " 0.99215686 0.99215686 0.99215686 0.99215686 0.77647059 0.71372549\n",
            " 0.96862745 0.94509804 0.         0.         0.         0.\n",
            " 0.         0.         0.         0.         0.         0.\n",
            " 0.         0.         0.         0.         0.         0.\n",
            " 0.         0.         0.31372549 0.61176471 0.41960784 0.99215686\n",
            " 0.99215686 0.80392157 0.04313725 0.         0.16862745 0.60392157\n",
            " 0.         0.         0.         0.         0.         0.\n",
            " 0.         0.         0.         0.         0.         0.\n",
            " 0.         0.         0.         0.         0.         0.\n",
            " 0.         0.05490196 0.00392157 0.60392157 0.99215686 0.35294118\n",
            " 0.         0.         0.         0.         0.         0.\n",
            " 0.         0.         0.         0.         0.         0.\n",
            " 0.         0.         0.         0.         0.         0.\n",
            " 0.         0.         0.         0.         0.         0.\n",
            " 0.         0.54509804 0.99215686 0.74509804 0.00784314 0.\n",
            " 0.         0.         0.         0.         0.         0.\n",
            " 0.         0.         0.         0.         0.         0.\n",
            " 0.         0.         0.         0.         0.         0.\n",
            " 0.         0.         0.         0.         0.         0.04313725\n",
            " 0.74509804 0.99215686 0.2745098  0.         0.         0.\n",
            " 0.         0.         0.         0.         0.         0.\n",
            " 0.         0.         0.         0.         0.         0.\n",
            " 0.         0.         0.         0.         0.         0.\n",
            " 0.         0.         0.         0.         0.1372549  0.94509804\n",
            " 0.88235294 0.62745098 0.42352941 0.00392157 0.         0.\n",
            " 0.         0.         0.         0.         0.         0.\n",
            " 0.         0.         0.         0.         0.         0.\n",
            " 0.         0.         0.         0.         0.         0.\n",
            " 0.         0.         0.         0.31764706 0.94117647 0.99215686\n",
            " 0.99215686 0.46666667 0.09803922 0.         0.         0.\n",
            " 0.         0.         0.         0.         0.         0.\n",
            " 0.         0.         0.         0.         0.         0.\n",
            " 0.         0.         0.         0.         0.         0.\n",
            " 0.         0.         0.17647059 0.72941176 0.99215686 0.99215686\n",
            " 0.58823529 0.10588235 0.         0.         0.         0.\n",
            " 0.         0.         0.         0.         0.         0.\n",
            " 0.         0.         0.         0.         0.         0.\n",
            " 0.         0.         0.         0.         0.         0.\n",
            " 0.         0.0627451  0.36470588 0.98823529 0.99215686 0.73333333\n",
            " 0.         0.         0.         0.         0.         0.\n",
            " 0.         0.         0.         0.         0.         0.\n",
            " 0.         0.         0.         0.         0.         0.\n",
            " 0.         0.         0.         0.         0.         0.\n",
            " 0.         0.97647059 0.99215686 0.97647059 0.25098039 0.\n",
            " 0.         0.         0.         0.         0.         0.\n",
            " 0.         0.         0.         0.         0.         0.\n",
            " 0.         0.         0.         0.         0.         0.\n",
            " 0.         0.         0.18039216 0.50980392 0.71764706 0.99215686\n",
            " 0.99215686 0.81176471 0.00784314 0.         0.         0.\n",
            " 0.         0.         0.         0.         0.         0.\n",
            " 0.         0.         0.         0.         0.         0.\n",
            " 0.         0.         0.         0.         0.15294118 0.58039216\n",
            " 0.89803922 0.99215686 0.99215686 0.99215686 0.98039216 0.71372549\n",
            " 0.         0.         0.         0.         0.         0.\n",
            " 0.         0.         0.         0.         0.         0.\n",
            " 0.         0.         0.         0.         0.         0.\n",
            " 0.09411765 0.44705882 0.86666667 0.99215686 0.99215686 0.99215686\n",
            " 0.99215686 0.78823529 0.30588235 0.         0.         0.\n",
            " 0.         0.         0.         0.         0.         0.\n",
            " 0.         0.         0.         0.         0.         0.\n",
            " 0.         0.         0.09019608 0.25882353 0.83529412 0.99215686\n",
            " 0.99215686 0.99215686 0.99215686 0.77647059 0.31764706 0.00784314\n",
            " 0.         0.         0.         0.         0.         0.\n",
            " 0.         0.         0.         0.         0.         0.\n",
            " 0.         0.         0.         0.         0.07058824 0.67058824\n",
            " 0.85882353 0.99215686 0.99215686 0.99215686 0.99215686 0.76470588\n",
            " 0.31372549 0.03529412 0.         0.         0.         0.\n",
            " 0.         0.         0.         0.         0.         0.\n",
            " 0.         0.         0.         0.         0.         0.\n",
            " 0.21568627 0.6745098  0.88627451 0.99215686 0.99215686 0.99215686\n",
            " 0.99215686 0.95686275 0.52156863 0.04313725 0.         0.\n",
            " 0.         0.         0.         0.         0.         0.\n",
            " 0.         0.         0.         0.         0.         0.\n",
            " 0.         0.         0.         0.         0.53333333 0.99215686\n",
            " 0.99215686 0.99215686 0.83137255 0.52941176 0.51764706 0.0627451\n",
            " 0.         0.         0.         0.         0.         0.\n",
            " 0.         0.         0.         0.         0.         0.\n",
            " 0.         0.         0.         0.         0.         0.\n",
            " 0.         0.         0.         0.         0.         0.\n",
            " 0.         0.         0.         0.         0.         0.\n",
            " 0.         0.         0.         0.         0.         0.\n",
            " 0.         0.         0.         0.         0.         0.\n",
            " 0.         0.         0.         0.         0.         0.\n",
            " 0.         0.         0.         0.         0.         0.\n",
            " 0.         0.         0.         0.         0.         0.\n",
            " 0.         0.         0.         0.         0.         0.\n",
            " 0.         0.         0.         0.         0.         0.\n",
            " 0.         0.         0.         0.         0.         0.\n",
            " 0.         0.         0.         0.         0.         0.\n",
            " 0.         0.         0.         0.         0.         0.\n",
            " 0.         0.         0.         0.         0.         0.\n",
            " 0.         0.         0.         0.        ]\n"
          ],
          "name": "stdout"
        }
      ]
    },
    {
      "cell_type": "code",
      "metadata": {
        "colab_type": "code",
        "id": "3Ruu-vXzQKbi",
        "outputId": "77c8c79c-0789-4eee-a4b8-bb294894bbc7",
        "colab": {
          "base_uri": "https://localhost:8080/",
          "height": 52
        }
      },
      "source": [
        "# here we are having a class number for each image\n",
        "print(\"Class label of first image :\", y_train[0])\n",
        "\n",
        "# lets convert this into a 10 dimensional vector\n",
        "# ex: consider an image is 5 convert it into 5 => [0, 0, 0, 0, 0, 1, 0, 0, 0, 0]\n",
        "# this conversion needed for MLPs \n",
        "\n",
        "Y_train = np_utils.to_categorical(y_train, 10) \n",
        "Y_test = np_utils.to_categorical(y_test, 10)\n",
        "\n",
        "print(\"After converting the output into a vector : \",Y_train[0])"
      ],
      "execution_count": 77,
      "outputs": [
        {
          "output_type": "stream",
          "text": [
            "Class label of first image : 5\n",
            "After converting the output into a vector :  [0. 0. 0. 0. 0. 1. 0. 0. 0. 0.]\n"
          ],
          "name": "stdout"
        }
      ]
    },
    {
      "cell_type": "markdown",
      "metadata": {
        "colab_type": "text",
        "id": "u0pWB6UyQKbk"
      },
      "source": [
        "<h2>  Softmax classifier  </h2>"
      ]
    },
    {
      "cell_type": "code",
      "metadata": {
        "colab_type": "code",
        "id": "tLAGMubCQKbm",
        "colab": {}
      },
      "source": [
        "# https://keras.io/getting-started/sequential-model-guide/\n",
        "\n",
        "# The Sequential model is a linear stack of layers.\n",
        "# you can create a Sequential model by passing a list of layer instances to the constructor:\n",
        "\n",
        "# model = Sequential([\n",
        "#     Dense(32, input_shape=(784,)),\n",
        "#     Activation('relu'),\n",
        "#     Dense(10),\n",
        "#     Activation('softmax'),\n",
        "# ])\n",
        "\n",
        "# You can also simply add layers via the .add() method:\n",
        "\n",
        "# model = Sequential()\n",
        "# model.add(Dense(32, input_dim=784))\n",
        "# model.add(Activation('relu'))\n",
        "\n",
        "###\n",
        "\n",
        "# https://keras.io/layers/core/\n",
        "\n",
        "# keras.layers.Dense(units, activation=None, use_bias=True, kernel_initializer='glorot_uniform', \n",
        "# bias_initializer='zeros', kernel_regularizer=None, bias_regularizer=None, activity_regularizer=None, \n",
        "# kernel_constraint=None, bias_constraint=None)\n",
        "\n",
        "# Dense implements the operation: output = activation(dot(input, kernel) + bias) where\n",
        "# activation is the element-wise activation function passed as the activation argument, \n",
        "# kernel is a weights matrix created by the layer, and \n",
        "# bias is a bias vector created by the layer (only applicable if use_bias is True).\n",
        "\n",
        "# output = activation(dot(input, kernel) + bias)  => y = activation(WT. X + b)\n",
        "\n",
        "####\n",
        "\n",
        "# https://keras.io/activations/\n",
        "\n",
        "# Activations can either be used through an Activation layer, or through the activation argument supported by all forward layers:\n",
        "\n",
        "# from keras.layers import Activation, Dense\n",
        "\n",
        "# model.add(Dense(64))\n",
        "# model.add(Activation('tanh'))\n",
        "\n",
        "# This is equivalent to:\n",
        "# model.add(Dense(64, activation='tanh'))\n",
        "\n",
        "# there are many activation functions ar available ex: tanh, relu, softmax\n",
        "\n",
        "\n",
        "from keras.models import Sequential \n",
        "from keras.layers import Dense, Activation \n"
      ],
      "execution_count": 0,
      "outputs": []
    },
    {
      "cell_type": "code",
      "metadata": {
        "colab_type": "code",
        "id": "I0s7jzhVQKbn",
        "colab": {}
      },
      "source": [
        "# some model parameters\n",
        "\n",
        "output_dim = 10\n",
        "input_dim = X_train.shape[1]\n",
        "\n",
        "batch_size = 128 \n",
        "nb_epoch = 20"
      ],
      "execution_count": 0,
      "outputs": []
    },
    {
      "cell_type": "code",
      "metadata": {
        "colab_type": "code",
        "id": "HdQg5wGDQKbr",
        "colab": {}
      },
      "source": [
        "# start building a model\n",
        "model = Sequential()\n",
        "\n",
        "# The model needs to know what input shape it should expect. \n",
        "# For this reason, the first layer in a Sequential model \n",
        "# (and only the first, because following layers can do automatic shape inference)\n",
        "# needs to receive information about its input shape. \n",
        "# you can use input_shape and input_dim to pass the shape of input\n",
        "\n",
        "# output_dim represent the number of nodes need in that layer\n",
        "# here we have 10 nodes\n",
        "\n",
        "model.add(Dense(output_dim, input_dim=input_dim, activation='softmax'))"
      ],
      "execution_count": 0,
      "outputs": []
    },
    {
      "cell_type": "code",
      "metadata": {
        "colab_type": "code",
        "id": "EVA11VpmQKbt",
        "outputId": "dde91ca1-1e13-4cd0-ce92-ce45312831f7",
        "colab": {
          "base_uri": "https://localhost:8080/",
          "height": 728
        }
      },
      "source": [
        "# Before training a model, you need to configure the learning process, which is done via the compile method\n",
        "\n",
        "# It receives three arguments:\n",
        "# An optimizer. This could be the string identifier of an existing optimizer , https://keras.io/optimizers/\n",
        "# A loss function. This is the objective that the model will try to minimize., https://keras.io/losses/\n",
        "# A list of metrics. For any classification problem you will want to set this to metrics=['accuracy'].  https://keras.io/metrics/\n",
        "\n",
        "\n",
        "# Note: when using the categorical_crossentropy loss, your targets should be in categorical format \n",
        "# (e.g. if you have 10 classes, the target for each sample should be a 10-dimensional vector that is all-zeros except \n",
        "# for a 1 at the index corresponding to the class of the sample).\n",
        "\n",
        "# that is why we converted out labels into vectors\n",
        "\n",
        "model.compile(optimizer='sgd', loss='categorical_crossentropy', metrics=['accuracy'])\n",
        "\n",
        "# Keras models are trained on Numpy arrays of input data and labels. \n",
        "# For training a model, you will typically use the  fit function\n",
        "\n",
        "# fit(self, x=None, y=None, batch_size=None, epochs=1, verbose=1, callbacks=None, validation_split=0.0, \n",
        "# validation_data=None, shuffle=True, class_weight=None, sample_weight=None, initial_epoch=0, steps_per_epoch=None, \n",
        "# validation_steps=None)\n",
        "\n",
        "# fit() function Trains the model for a fixed number of epochs (iterations on a dataset).\n",
        "\n",
        "# it returns A History object. Its History.history attribute is a record of training loss values and \n",
        "# metrics values at successive epochs, as well as validation loss values and validation metrics values (if applicable).\n",
        "\n",
        "# https://github.com/openai/baselines/issues/20\n",
        "\n",
        "history = model.fit(X_train, Y_train, batch_size=batch_size, epochs=nb_epoch, verbose=1, validation_data=(X_test, Y_test)) \n"
      ],
      "execution_count": 81,
      "outputs": [
        {
          "output_type": "stream",
          "text": [
            "Train on 60000 samples, validate on 10000 samples\n",
            "Epoch 1/20\n",
            "60000/60000 [==============================] - 6s 92us/step - loss: 1.2734 - acc: 0.6978 - val_loss: 0.8121 - val_acc: 0.8317\n",
            "Epoch 2/20\n",
            "60000/60000 [==============================] - 2s 38us/step - loss: 0.7196 - acc: 0.8388 - val_loss: 0.6089 - val_acc: 0.8607\n",
            "Epoch 3/20\n",
            "60000/60000 [==============================] - 2s 37us/step - loss: 0.5896 - acc: 0.8591 - val_loss: 0.5267 - val_acc: 0.8731\n",
            "Epoch 4/20\n",
            "60000/60000 [==============================] - 2s 37us/step - loss: 0.5269 - acc: 0.8683 - val_loss: 0.4807 - val_acc: 0.8801\n",
            "Epoch 5/20\n",
            "60000/60000 [==============================] - 2s 37us/step - loss: 0.4887 - acc: 0.8754 - val_loss: 0.4508 - val_acc: 0.8850\n",
            "Epoch 6/20\n",
            "60000/60000 [==============================] - 2s 38us/step - loss: 0.4625 - acc: 0.8802 - val_loss: 0.4290 - val_acc: 0.8895\n",
            "Epoch 7/20\n",
            "60000/60000 [==============================] - 2s 37us/step - loss: 0.4431 - acc: 0.8834 - val_loss: 0.4129 - val_acc: 0.8922\n",
            "Epoch 8/20\n",
            "60000/60000 [==============================] - 2s 37us/step - loss: 0.4280 - acc: 0.8865 - val_loss: 0.3997 - val_acc: 0.8946\n",
            "Epoch 9/20\n",
            "60000/60000 [==============================] - 2s 37us/step - loss: 0.4158 - acc: 0.8893 - val_loss: 0.3895 - val_acc: 0.8977\n",
            "Epoch 10/20\n",
            "60000/60000 [==============================] - 2s 37us/step - loss: 0.4057 - acc: 0.8911 - val_loss: 0.3808 - val_acc: 0.8991\n",
            "Epoch 11/20\n",
            "60000/60000 [==============================] - 2s 38us/step - loss: 0.3971 - acc: 0.8929 - val_loss: 0.3735 - val_acc: 0.9016\n",
            "Epoch 12/20\n",
            "60000/60000 [==============================] - 2s 36us/step - loss: 0.3898 - acc: 0.8943 - val_loss: 0.3669 - val_acc: 0.9020\n",
            "Epoch 13/20\n",
            "60000/60000 [==============================] - 2s 37us/step - loss: 0.3834 - acc: 0.8961 - val_loss: 0.3612 - val_acc: 0.9033\n",
            "Epoch 14/20\n",
            "60000/60000 [==============================] - 2s 37us/step - loss: 0.3777 - acc: 0.8969 - val_loss: 0.3564 - val_acc: 0.9043\n",
            "Epoch 15/20\n",
            "60000/60000 [==============================] - 2s 37us/step - loss: 0.3727 - acc: 0.8980 - val_loss: 0.3519 - val_acc: 0.9067\n",
            "Epoch 16/20\n",
            "60000/60000 [==============================] - 2s 36us/step - loss: 0.3681 - acc: 0.8993 - val_loss: 0.3480 - val_acc: 0.9061\n",
            "Epoch 17/20\n",
            "60000/60000 [==============================] - 2s 37us/step - loss: 0.3640 - acc: 0.8998 - val_loss: 0.3444 - val_acc: 0.9082\n",
            "Epoch 18/20\n",
            "60000/60000 [==============================] - 2s 37us/step - loss: 0.3603 - acc: 0.9007 - val_loss: 0.3410 - val_acc: 0.9084\n",
            "Epoch 19/20\n",
            "60000/60000 [==============================] - 2s 37us/step - loss: 0.3568 - acc: 0.9014 - val_loss: 0.3383 - val_acc: 0.9094\n",
            "Epoch 20/20\n",
            "60000/60000 [==============================] - 2s 37us/step - loss: 0.3537 - acc: 0.9022 - val_loss: 0.3354 - val_acc: 0.9099\n"
          ],
          "name": "stdout"
        }
      ]
    },
    {
      "cell_type": "code",
      "metadata": {
        "colab_type": "code",
        "id": "HNpwTMHcQKbw",
        "outputId": "ffd4168f-bb53-4c23-d388-b0f20648054d",
        "colab": {
          "base_uri": "https://localhost:8080/",
          "height": 314
        }
      },
      "source": [
        "score = model.evaluate(X_test, Y_test, verbose=0) \n",
        "print('Test score:', score[0]) \n",
        "print('Test accuracy:', score[1])\n",
        "\n",
        "fig,ax = plt.subplots(1,1)\n",
        "ax.set_xlabel('epoch') ; ax.set_ylabel('Categorical Crossentropy Loss')\n",
        "\n",
        "# list of epoch numbers\n",
        "x = list(range(1,nb_epoch+1))\n",
        "\n",
        "# print(history.history.keys())\n",
        "# dict_keys(['val_loss', 'val_acc', 'loss', 'acc'])\n",
        "# history = model_drop.fit(X_train, Y_train, batch_size=batch_size, epochs=nb_epoch, verbose=1, validation_data=(X_test, Y_test))\n",
        "\n",
        "# we will get val_loss and val_acc only when you pass the paramter validation_data\n",
        "# val_loss : validation loss\n",
        "# val_acc : validation accuracy\n",
        "\n",
        "# loss : training loss\n",
        "# acc : train accuracy\n",
        "# for each key in histrory.histrory we will have a list of length equal to number of epochs\n",
        "\n",
        "vy = history.history['val_loss']\n",
        "ty = history.history['loss']\n",
        "plt_dynamic(x, vy, ty, ax)"
      ],
      "execution_count": 82,
      "outputs": [
        {
          "output_type": "stream",
          "text": [
            "Test score: 0.3353978250801563\n",
            "Test accuracy: 0.9099\n"
          ],
          "name": "stdout"
        },
        {
          "output_type": "display_data",
          "data": {
            "image/png": "[encoded data removed]",
            "text/plain": [
              "<Figure size 432x288 with 1 Axes>"
            ]
          },
          "metadata": {
            "tags": []
          }
        }
      ]
    },
    {
      "cell_type": "markdown",
      "metadata": {
        "colab_type": "text",
        "id": "eh4VWYrHQKbz"
      },
      "source": [
        " <h3>  MLP + Sigmoid activation + SGDOptimizer </h3>"
      ]
    },
    {
      "cell_type": "code",
      "metadata": {
        "colab_type": "code",
        "id": "7rzbngqHQKbz",
        "outputId": "4665785c-2e40-41dc-8af1-c2a0e893c1ec",
        "colab": {
          "base_uri": "https://localhost:8080/",
          "height": 260
        }
      },
      "source": [
        "# Multilayer perceptron\n",
        "\n",
        "model_sigmoid = Sequential()\n",
        "model_sigmoid.add(Dense(512, activation='sigmoid', input_shape=(input_dim,)))\n",
        "model_sigmoid.add(Dense(128, activation='sigmoid'))\n",
        "model_sigmoid.add(Dense(output_dim, activation='softmax'))\n",
        "\n",
        "model_sigmoid.summary()"
      ],
      "execution_count": 83,
      "outputs": [
        {
          "output_type": "stream",
          "text": [
            "Model: \"sequential_25\"\n",
            "_________________________________________________________________\n",
            "Layer (type)                 Output Shape              Param #   \n",
            "=================================================================\n",
            "dense_73 (Dense)             (None, 512)               401920    \n",
            "_________________________________________________________________\n",
            "dense_74 (Dense)             (None, 128)               65664     \n",
            "_________________________________________________________________\n",
            "dense_75 (Dense)             (None, 10)                1290      \n",
            "=================================================================\n",
            "Total params: 468,874\n",
            "Trainable params: 468,874\n",
            "Non-trainable params: 0\n",
            "_________________________________________________________________\n"
          ],
          "name": "stdout"
        }
      ]
    },
    {
      "cell_type": "code",
      "metadata": {
        "colab_type": "code",
        "id": "48vVImSpQKb5",
        "outputId": "e6f43547-7670-449d-e77c-e6a5cfc07ff4",
        "colab": {
          "base_uri": "https://localhost:8080/",
          "height": 728
        }
      },
      "source": [
        "model_sigmoid.compile(optimizer='sgd', loss='categorical_crossentropy', metrics=['accuracy'])\n",
        "\n",
        "history = model_sigmoid.fit(X_train, Y_train, batch_size=batch_size, epochs=nb_epoch, verbose=1, validation_data=(X_test, Y_test))"
      ],
      "execution_count": 84,
      "outputs": [
        {
          "output_type": "stream",
          "text": [
            "Train on 60000 samples, validate on 10000 samples\n",
            "Epoch 1/20\n",
            "60000/60000 [==============================] - 6s 98us/step - loss: 2.2744 - acc: 0.1890 - val_loss: 2.2350 - val_acc: 0.4947\n",
            "Epoch 2/20\n",
            "60000/60000 [==============================] - 2s 40us/step - loss: 2.1967 - acc: 0.4353 - val_loss: 2.1493 - val_acc: 0.5931\n",
            "Epoch 3/20\n",
            "60000/60000 [==============================] - 2s 41us/step - loss: 2.0976 - acc: 0.5767 - val_loss: 2.0299 - val_acc: 0.6617\n",
            "Epoch 4/20\n",
            "60000/60000 [==============================] - 3s 43us/step - loss: 1.9544 - acc: 0.6437 - val_loss: 1.8555 - val_acc: 0.7083\n",
            "Epoch 5/20\n",
            "60000/60000 [==============================] - 3s 42us/step - loss: 1.7552 - acc: 0.6784 - val_loss: 1.6280 - val_acc: 0.7205\n",
            "Epoch 6/20\n",
            "60000/60000 [==============================] - 3s 42us/step - loss: 1.5198 - acc: 0.7088 - val_loss: 1.3885 - val_acc: 0.7349\n",
            "Epoch 7/20\n",
            "60000/60000 [==============================] - 2s 41us/step - loss: 1.2967 - acc: 0.7363 - val_loss: 1.1846 - val_acc: 0.7598\n",
            "Epoch 8/20\n",
            "60000/60000 [==============================] - 2s 41us/step - loss: 1.1163 - acc: 0.7615 - val_loss: 1.0271 - val_acc: 0.7785\n",
            "Epoch 9/20\n",
            "60000/60000 [==============================] - 2s 42us/step - loss: 0.9800 - acc: 0.7817 - val_loss: 0.9101 - val_acc: 0.7987\n",
            "Epoch 10/20\n",
            "60000/60000 [==============================] - 2s 41us/step - loss: 0.8768 - acc: 0.8008 - val_loss: 0.8197 - val_acc: 0.8127\n",
            "Epoch 11/20\n",
            "60000/60000 [==============================] - 3s 43us/step - loss: 0.7967 - acc: 0.8143 - val_loss: 0.7490 - val_acc: 0.8252\n",
            "Epoch 12/20\n",
            "60000/60000 [==============================] - 2s 41us/step - loss: 0.7332 - acc: 0.8253 - val_loss: 0.6910 - val_acc: 0.8367\n",
            "Epoch 13/20\n",
            "60000/60000 [==============================] - 3s 42us/step - loss: 0.6814 - acc: 0.8339 - val_loss: 0.6443 - val_acc: 0.8453\n",
            "Epoch 14/20\n",
            "60000/60000 [==============================] - 2s 41us/step - loss: 0.6389 - acc: 0.8421 - val_loss: 0.6059 - val_acc: 0.8489\n",
            "Epoch 15/20\n",
            "60000/60000 [==============================] - 2s 41us/step - loss: 0.6034 - acc: 0.8483 - val_loss: 0.5731 - val_acc: 0.8575\n",
            "Epoch 16/20\n",
            "60000/60000 [==============================] - 2s 41us/step - loss: 0.5736 - acc: 0.8543 - val_loss: 0.5448 - val_acc: 0.8627\n",
            "Epoch 17/20\n",
            "60000/60000 [==============================] - 3s 42us/step - loss: 0.5481 - acc: 0.8590 - val_loss: 0.5210 - val_acc: 0.8684\n",
            "Epoch 18/20\n",
            "60000/60000 [==============================] - 3s 42us/step - loss: 0.5262 - acc: 0.8634 - val_loss: 0.5009 - val_acc: 0.8712\n",
            "Epoch 19/20\n",
            "60000/60000 [==============================] - 3s 42us/step - loss: 0.5073 - acc: 0.8665 - val_loss: 0.4835 - val_acc: 0.8732\n",
            "Epoch 20/20\n",
            "60000/60000 [==============================] - 2s 42us/step - loss: 0.4906 - acc: 0.8706 - val_loss: 0.4679 - val_acc: 0.8757\n"
          ],
          "name": "stdout"
        }
      ]
    },
    {
      "cell_type": "code",
      "metadata": {
        "colab_type": "code",
        "id": "6ffjzr8hQKb8",
        "outputId": "5dd88b9d-40ec-4240-9ecd-bcea898b2f92",
        "colab": {
          "base_uri": "https://localhost:8080/",
          "height": 314
        }
      },
      "source": [
        "score = model_sigmoid.evaluate(X_test, Y_test, verbose=0) \n",
        "print('Test score:', score[0]) \n",
        "print('Test accuracy:', score[1])\n",
        "\n",
        "fig,ax = plt.subplots(1,1)\n",
        "ax.set_xlabel('epoch') ; ax.set_ylabel('Categorical Crossentropy Loss')\n",
        "\n",
        "# list of epoch numbers\n",
        "x = list(range(1,nb_epoch+1))\n",
        "\n",
        "# print(history.history.keys())\n",
        "# dict_keys(['val_loss', 'val_acc', 'loss', 'acc'])\n",
        "# history = model_drop.fit(X_train, Y_train, batch_size=batch_size, epochs=nb_epoch, verbose=1, validation_data=(X_test, Y_test))\n",
        "\n",
        "# we will get val_loss and val_acc only when you pass the paramter validation_data\n",
        "# val_loss : validation loss\n",
        "# val_acc : validation accuracy\n",
        "\n",
        "# loss : training loss\n",
        "# acc : train accuracy\n",
        "# for each key in histrory.histrory we will have a list of length equal to number of epochs\n",
        "\n",
        "vy = history.history['val_loss']\n",
        "ty = history.history['loss']\n",
        "plt_dynamic(x, vy, ty, ax)"
      ],
      "execution_count": 85,
      "outputs": [
        {
          "output_type": "stream",
          "text": [
            "Test score: 0.46791549773216246\n",
            "Test accuracy: 0.8757\n"
          ],
          "name": "stdout"
        },
        {
          "output_type": "display_data",
          "data": {
            "image/png": "[encoded data removed]",
            "text/plain": [
              "<Figure size 432x288 with 1 Axes>"
            ]
          },
          "metadata": {
            "tags": []
          }
        }
      ]
    },
    {
      "cell_type": "code",
      "metadata": {
        "colab_type": "code",
        "id": "Ejn01XXdQKb-",
        "outputId": "7746e5b9-21ea-4915-9d41-e276bf470996",
        "colab": {
          "base_uri": "https://localhost:8080/",
          "height": 285
        }
      },
      "source": [
        "w_after = model_sigmoid.get_weights()\n",
        "\n",
        "h1_w = w_after[0].flatten().reshape(-1,1)\n",
        "h2_w = w_after[2].flatten().reshape(-1,1)\n",
        "out_w = w_after[4].flatten().reshape(-1,1)\n",
        "\n",
        "\n",
        "fig = plt.figure()\n",
        "plt.title(\"Weight matrices after model trained\")\n",
        "plt.subplot(1, 3, 1)\n",
        "plt.title(\"Trained model Weights\")\n",
        "ax = sns.violinplot(y=h1_w,color='b')\n",
        "plt.xlabel('Hidden Layer 1')\n",
        "\n",
        "plt.subplot(1, 3, 2)\n",
        "plt.title(\"Trained model Weights\")\n",
        "ax = sns.violinplot(y=h2_w, color='r')\n",
        "plt.xlabel('Hidden Layer 2 ')\n",
        "\n",
        "plt.subplot(1, 3, 3)\n",
        "plt.title(\"Trained model Weights\")\n",
        "ax = sns.violinplot(y=out_w,color='y')\n",
        "plt.xlabel('Output Layer ')\n",
        "plt.show()"
      ],
      "execution_count": 86,
      "outputs": [
        {
          "output_type": "display_data",
          "data": {
            "image/png": "[encoded data removed]",
            "text/plain": [
              "<Figure size 432x288 with 3 Axes>"
            ]
          },
          "metadata": {
            "tags": []
          }
        }
      ]
    },
    {
      "cell_type": "markdown",
      "metadata": {
        "colab_type": "text",
        "id": "ExLv_CAeQKcA"
      },
      "source": [
        "<h2>MLP + Sigmoid activation + ADAM </h2>"
      ]
    },
    {
      "cell_type": "code",
      "metadata": {
        "colab_type": "code",
        "id": "w9BtnNGaQKcD",
        "outputId": "171c8ebf-e75f-4417-dd02-af7ca3d415ec",
        "colab": {
          "base_uri": "https://localhost:8080/",
          "height": 971
        }
      },
      "source": [
        "model_sigmoid = Sequential()\n",
        "model_sigmoid.add(Dense(512, activation='sigmoid', input_shape=(input_dim,)))\n",
        "model_sigmoid.add(Dense(128, activation='sigmoid'))\n",
        "model_sigmoid.add(Dense(output_dim, activation='softmax'))\n",
        "\n",
        "model_sigmoid.summary()\n",
        "\n",
        "model_sigmoid.compile(optimizer='adam', loss='categorical_crossentropy', metrics=['accuracy'])\n",
        "\n",
        "history = model_sigmoid.fit(X_train, Y_train, batch_size=batch_size, epochs=nb_epoch, verbose=1, validation_data=(X_test, Y_test))"
      ],
      "execution_count": 87,
      "outputs": [
        {
          "output_type": "stream",
          "text": [
            "Model: \"sequential_26\"\n",
            "_________________________________________________________________\n",
            "Layer (type)                 Output Shape              Param #   \n",
            "=================================================================\n",
            "dense_76 (Dense)             (None, 512)               401920    \n",
            "_________________________________________________________________\n",
            "dense_77 (Dense)             (None, 128)               65664     \n",
            "_________________________________________________________________\n",
            "dense_78 (Dense)             (None, 10)                1290      \n",
            "=================================================================\n",
            "Total params: 468,874\n",
            "Trainable params: 468,874\n",
            "Non-trainable params: 0\n",
            "_________________________________________________________________\n",
            "Train on 60000 samples, validate on 10000 samples\n",
            "Epoch 1/20\n",
            "60000/60000 [==============================] - 7s 109us/step - loss: 0.5570 - acc: 0.8544 - val_loss: 0.2545 - val_acc: 0.9247\n",
            "Epoch 2/20\n",
            "60000/60000 [==============================] - 3s 48us/step - loss: 0.2237 - acc: 0.9341 - val_loss: 0.1855 - val_acc: 0.9453\n",
            "Epoch 3/20\n",
            "60000/60000 [==============================] - 3s 49us/step - loss: 0.1674 - acc: 0.9505 - val_loss: 0.1423 - val_acc: 0.9566\n",
            "Epoch 4/20\n",
            "60000/60000 [==============================] - 3s 47us/step - loss: 0.1286 - acc: 0.9619 - val_loss: 0.1242 - val_acc: 0.9623\n",
            "Epoch 5/20\n",
            "60000/60000 [==============================] - 3s 49us/step - loss: 0.1003 - acc: 0.9702 - val_loss: 0.1049 - val_acc: 0.9678\n",
            "Epoch 6/20\n",
            "60000/60000 [==============================] - 3s 50us/step - loss: 0.0803 - acc: 0.9761 - val_loss: 0.0873 - val_acc: 0.9732\n",
            "Epoch 7/20\n",
            "60000/60000 [==============================] - 3s 49us/step - loss: 0.0641 - acc: 0.9809 - val_loss: 0.0834 - val_acc: 0.9736\n",
            "Epoch 8/20\n",
            "60000/60000 [==============================] - 3s 48us/step - loss: 0.0525 - acc: 0.9847 - val_loss: 0.0721 - val_acc: 0.9767\n",
            "Epoch 9/20\n",
            "60000/60000 [==============================] - 3s 51us/step - loss: 0.0432 - acc: 0.9876 - val_loss: 0.0716 - val_acc: 0.9769\n",
            "Epoch 10/20\n",
            "60000/60000 [==============================] - 3s 51us/step - loss: 0.0335 - acc: 0.9908 - val_loss: 0.0743 - val_acc: 0.9774\n",
            "Epoch 11/20\n",
            "60000/60000 [==============================] - 3s 49us/step - loss: 0.0275 - acc: 0.9927 - val_loss: 0.0688 - val_acc: 0.9790\n",
            "Epoch 12/20\n",
            "60000/60000 [==============================] - 3s 49us/step - loss: 0.0213 - acc: 0.9944 - val_loss: 0.0669 - val_acc: 0.9789\n",
            "Epoch 13/20\n",
            "60000/60000 [==============================] - 3s 49us/step - loss: 0.0179 - acc: 0.9956 - val_loss: 0.0658 - val_acc: 0.9800\n",
            "Epoch 14/20\n",
            "60000/60000 [==============================] - 3s 49us/step - loss: 0.0142 - acc: 0.9968 - val_loss: 0.0623 - val_acc: 0.9812\n",
            "Epoch 15/20\n",
            "60000/60000 [==============================] - 3s 49us/step - loss: 0.0112 - acc: 0.9974 - val_loss: 0.0623 - val_acc: 0.9821\n",
            "Epoch 16/20\n",
            "60000/60000 [==============================] - 3s 50us/step - loss: 0.0090 - acc: 0.9980 - val_loss: 0.0674 - val_acc: 0.9811\n",
            "Epoch 17/20\n",
            "60000/60000 [==============================] - 3s 49us/step - loss: 0.0067 - acc: 0.9987 - val_loss: 0.0654 - val_acc: 0.9816\n",
            "Epoch 18/20\n",
            "60000/60000 [==============================] - 3s 49us/step - loss: 0.0052 - acc: 0.9991 - val_loss: 0.0734 - val_acc: 0.9790\n",
            "Epoch 19/20\n",
            "60000/60000 [==============================] - 3s 49us/step - loss: 0.0051 - acc: 0.9989 - val_loss: 0.0681 - val_acc: 0.9808\n",
            "Epoch 20/20\n",
            "60000/60000 [==============================] - 3s 50us/step - loss: 0.0040 - acc: 0.9993 - val_loss: 0.0712 - val_acc: 0.9818\n"
          ],
          "name": "stdout"
        }
      ]
    },
    {
      "cell_type": "code",
      "metadata": {
        "colab_type": "code",
        "id": "AslSnqQ2QKcF",
        "outputId": "54abc2d4-6810-4be3-f243-10b2e0d1a04a",
        "colab": {
          "base_uri": "https://localhost:8080/",
          "height": 314
        }
      },
      "source": [
        "score = model_sigmoid.evaluate(X_test, Y_test, verbose=0) \n",
        "print('Test score:', score[0]) \n",
        "print('Test accuracy:', score[1])\n",
        "\n",
        "fig,ax = plt.subplots(1,1)\n",
        "ax.set_xlabel('epoch') ; ax.set_ylabel('Categorical Crossentropy Loss')\n",
        "\n",
        "# list of epoch numbers\n",
        "x = list(range(1,nb_epoch+1))\n",
        "\n",
        "# print(history.history.keys())\n",
        "# dict_keys(['val_loss', 'val_acc', 'loss', 'acc'])\n",
        "# history = model_drop.fit(X_train, Y_train, batch_size=batch_size, epochs=nb_epoch, verbose=1, validation_data=(X_test, Y_test))\n",
        "\n",
        "# we will get val_loss and val_acc only when you pass the paramter validation_data\n",
        "# val_loss : validation loss\n",
        "# val_acc : validation accuracy\n",
        "\n",
        "# loss : training loss\n",
        "# acc : train accuracy\n",
        "# for each key in histrory.histrory we will have a list of length equal to number of epochs\n",
        "\n",
        "vy = history.history['val_loss']\n",
        "ty = history.history['loss']\n",
        "plt_dynamic(x, vy, ty, ax)"
      ],
      "execution_count": 88,
      "outputs": [
        {
          "output_type": "stream",
          "text": [
            "Test score: 0.07117319775300347\n",
            "Test accuracy: 0.9818\n"
          ],
          "name": "stdout"
        },
        {
          "output_type": "display_data",
          "data": {
            "image/png": "[encoded data removed]",
            "text/plain": [
              "<Figure size 432x288 with 1 Axes>"
            ]
          },
          "metadata": {
            "tags": []
          }
        }
      ]
    },
    {
      "cell_type": "code",
      "metadata": {
        "colab_type": "code",
        "id": "HEp-AZCSQKcI",
        "outputId": "1c7231a9-6c4c-4164-93ca-142ddcd7db9e",
        "colab": {
          "base_uri": "https://localhost:8080/",
          "height": 285
        }
      },
      "source": [
        "w_after = model_sigmoid.get_weights()\n",
        "\n",
        "h1_w = w_after[0].flatten().reshape(-1,1)\n",
        "h2_w = w_after[2].flatten().reshape(-1,1)\n",
        "out_w = w_after[4].flatten().reshape(-1,1)\n",
        "\n",
        "\n",
        "fig = plt.figure()\n",
        "plt.title(\"Weight matrices after model trained\")\n",
        "plt.subplot(1, 3, 1)\n",
        "plt.title(\"Trained model Weights\")\n",
        "ax = sns.violinplot(y=h1_w,color='b')\n",
        "plt.xlabel('Hidden Layer 1')\n",
        "\n",
        "plt.subplot(1, 3, 2)\n",
        "plt.title(\"Trained model Weights\")\n",
        "ax = sns.violinplot(y=h2_w, color='r')\n",
        "plt.xlabel('Hidden Layer 2 ')\n",
        "\n",
        "plt.subplot(1, 3, 3)\n",
        "plt.title(\"Trained model Weights\")\n",
        "ax = sns.violinplot(y=out_w,color='y')\n",
        "plt.xlabel('Output Layer ')\n",
        "plt.show()"
      ],
      "execution_count": 89,
      "outputs": [
        {
          "output_type": "display_data",
          "data": {
            "image/png": "[encoded data removed]",
            "text/plain": [
              "<Figure size 432x288 with 3 Axes>"
            ]
          },
          "metadata": {
            "tags": []
          }
        }
      ]
    },
    {
      "cell_type": "markdown",
      "metadata": {
        "colab_type": "text",
        "id": "bRVrzqvSQKcL"
      },
      "source": [
        "<h2> MLP + ReLU +SGD </h2>"
      ]
    },
    {
      "cell_type": "code",
      "metadata": {
        "colab_type": "code",
        "id": "O8lG2jzmQKcM",
        "outputId": "59acfd34-769f-48d0-ecae-a178c0549af8",
        "colab": {
          "base_uri": "https://localhost:8080/",
          "height": 260
        }
      },
      "source": [
        "# Multilayer perceptron\n",
        "\n",
        "# https://arxiv.org/pdf/1707.09725.pdf#page=95\n",
        "# for relu layers\n",
        "# If we sample weights from a normal distribution N(0,σ) we satisfy this condition with σ=√(2/(ni). \n",
        "# h1 =>  σ=√(2/(fan_in) = 0.062  => N(0,σ) = N(0,0.062)\n",
        "# h2 =>  σ=√(2/(fan_in) = 0.125  => N(0,σ) = N(0,0.125)\n",
        "# out =>  σ=√(2/(fan_in+1) = 0.120  => N(0,σ) = N(0,0.120)\n",
        "\n",
        "model_relu = Sequential()\n",
        "model_relu.add(Dense(512, activation='relu', input_shape=(input_dim,), kernel_initializer=RandomNormal(mean=0.0, stddev=0.062, seed=None)))\n",
        "model_relu.add(Dense(128, activation='relu', kernel_initializer=RandomNormal(mean=0.0, stddev=0.125, seed=None)) )\n",
        "model_relu.add(Dense(output_dim, activation='softmax'))\n",
        "\n",
        "model_relu.summary()"
      ],
      "execution_count": 90,
      "outputs": [
        {
          "output_type": "stream",
          "text": [
            "Model: \"sequential_27\"\n",
            "_________________________________________________________________\n",
            "Layer (type)                 Output Shape              Param #   \n",
            "=================================================================\n",
            "dense_79 (Dense)             (None, 512)               401920    \n",
            "_________________________________________________________________\n",
            "dense_80 (Dense)             (None, 128)               65664     \n",
            "_________________________________________________________________\n",
            "dense_81 (Dense)             (None, 10)                1290      \n",
            "=================================================================\n",
            "Total params: 468,874\n",
            "Trainable params: 468,874\n",
            "Non-trainable params: 0\n",
            "_________________________________________________________________\n"
          ],
          "name": "stdout"
        }
      ]
    },
    {
      "cell_type": "code",
      "metadata": {
        "colab_type": "code",
        "id": "QhtoviFKQKcP",
        "outputId": "092ff766-75f1-4a61-e651-76783f85b5e5",
        "colab": {
          "base_uri": "https://localhost:8080/",
          "height": 728
        }
      },
      "source": [
        "model_relu.compile(optimizer='sgd', loss='categorical_crossentropy', metrics=['accuracy'])\n",
        "\n",
        "history = model_relu.fit(X_train, Y_train, batch_size=batch_size, epochs=nb_epoch, verbose=1, validation_data=(X_test, Y_test))"
      ],
      "execution_count": 91,
      "outputs": [
        {
          "output_type": "stream",
          "text": [
            "Train on 60000 samples, validate on 10000 samples\n",
            "Epoch 1/20\n",
            "60000/60000 [==============================] - 6s 103us/step - loss: 0.7332 - acc: 0.7892 - val_loss: 0.3822 - val_acc: 0.8934\n",
            "Epoch 2/20\n",
            "60000/60000 [==============================] - 3s 42us/step - loss: 0.3451 - acc: 0.9029 - val_loss: 0.2992 - val_acc: 0.9156\n",
            "Epoch 3/20\n",
            "60000/60000 [==============================] - 2s 41us/step - loss: 0.2848 - acc: 0.9199 - val_loss: 0.2602 - val_acc: 0.9263\n",
            "Epoch 4/20\n",
            "60000/60000 [==============================] - 2s 42us/step - loss: 0.2521 - acc: 0.9289 - val_loss: 0.2355 - val_acc: 0.9337\n",
            "Epoch 5/20\n",
            "60000/60000 [==============================] - 3s 42us/step - loss: 0.2292 - acc: 0.9354 - val_loss: 0.2198 - val_acc: 0.9378\n",
            "Epoch 6/20\n",
            "60000/60000 [==============================] - 2s 41us/step - loss: 0.2114 - acc: 0.9406 - val_loss: 0.2052 - val_acc: 0.9415\n",
            "Epoch 7/20\n",
            "60000/60000 [==============================] - 2s 41us/step - loss: 0.1973 - acc: 0.9440 - val_loss: 0.1934 - val_acc: 0.9436\n",
            "Epoch 8/20\n",
            "60000/60000 [==============================] - 3s 42us/step - loss: 0.1851 - acc: 0.9485 - val_loss: 0.1834 - val_acc: 0.9488\n",
            "Epoch 9/20\n",
            "60000/60000 [==============================] - 2s 41us/step - loss: 0.1744 - acc: 0.9513 - val_loss: 0.1762 - val_acc: 0.9494\n",
            "Epoch 10/20\n",
            "60000/60000 [==============================] - 3s 42us/step - loss: 0.1650 - acc: 0.9536 - val_loss: 0.1691 - val_acc: 0.9515\n",
            "Epoch 11/20\n",
            "60000/60000 [==============================] - 2s 42us/step - loss: 0.1569 - acc: 0.9558 - val_loss: 0.1639 - val_acc: 0.9535\n",
            "Epoch 12/20\n",
            "60000/60000 [==============================] - 3s 42us/step - loss: 0.1494 - acc: 0.9580 - val_loss: 0.1556 - val_acc: 0.9551\n",
            "Epoch 13/20\n",
            "60000/60000 [==============================] - 2s 41us/step - loss: 0.1426 - acc: 0.9601 - val_loss: 0.1508 - val_acc: 0.9560\n",
            "Epoch 14/20\n",
            "60000/60000 [==============================] - 3s 42us/step - loss: 0.1363 - acc: 0.9621 - val_loss: 0.1481 - val_acc: 0.9559\n",
            "Epoch 15/20\n",
            "60000/60000 [==============================] - 2s 42us/step - loss: 0.1309 - acc: 0.9637 - val_loss: 0.1420 - val_acc: 0.9588\n",
            "Epoch 16/20\n",
            "60000/60000 [==============================] - 3s 42us/step - loss: 0.1257 - acc: 0.9655 - val_loss: 0.1381 - val_acc: 0.9599\n",
            "Epoch 17/20\n",
            "60000/60000 [==============================] - 3s 42us/step - loss: 0.1209 - acc: 0.9667 - val_loss: 0.1343 - val_acc: 0.9612\n",
            "Epoch 18/20\n",
            "60000/60000 [==============================] - 3s 43us/step - loss: 0.1163 - acc: 0.9679 - val_loss: 0.1312 - val_acc: 0.9621\n",
            "Epoch 19/20\n",
            "60000/60000 [==============================] - 3s 42us/step - loss: 0.1123 - acc: 0.9690 - val_loss: 0.1272 - val_acc: 0.9628\n",
            "Epoch 20/20\n",
            "60000/60000 [==============================] - 3s 43us/step - loss: 0.1082 - acc: 0.9703 - val_loss: 0.1249 - val_acc: 0.9626\n"
          ],
          "name": "stdout"
        }
      ]
    },
    {
      "cell_type": "code",
      "metadata": {
        "colab_type": "code",
        "id": "0rKzoKxgQKcS",
        "outputId": "25ad9127-5f4a-48f0-8e94-ddd5f84cceaa",
        "colab": {
          "base_uri": "https://localhost:8080/",
          "height": 314
        }
      },
      "source": [
        "score = model_relu.evaluate(X_test, Y_test, verbose=0) \n",
        "print('Test score:', score[0]) \n",
        "print('Test accuracy:', score[1])\n",
        "\n",
        "fig,ax = plt.subplots(1,1)\n",
        "ax.set_xlabel('epoch') ; ax.set_ylabel('Categorical Crossentropy Loss')\n",
        "\n",
        "# list of epoch numbers\n",
        "x = list(range(1,nb_epoch+1))\n",
        "\n",
        "# print(history.history.keys())\n",
        "# dict_keys(['val_loss', 'val_acc', 'loss', 'acc'])\n",
        "# history = model_drop.fit(X_train, Y_train, batch_size=batch_size, epochs=nb_epoch, verbose=1, validation_data=(X_test, Y_test))\n",
        "\n",
        "# we will get val_loss and val_acc only when you pass the paramter validation_data\n",
        "# val_loss : validation loss\n",
        "# val_acc : validation accuracy\n",
        "\n",
        "# loss : training loss\n",
        "# acc : train accuracy\n",
        "# for each key in histrory.histrory we will have a list of length equal to number of epochs\n",
        "\n",
        "vy = history.history['val_loss']\n",
        "ty = history.history['loss']\n",
        "plt_dynamic(x, vy, ty, ax)"
      ],
      "execution_count": 92,
      "outputs": [
        {
          "output_type": "stream",
          "text": [
            "Test score: 0.12485450383797288\n",
            "Test accuracy: 0.9626\n"
          ],
          "name": "stdout"
        },
        {
          "output_type": "display_data",
          "data": {
            "image/png": "[encoded data removed]",
            "text/plain": [
              "<Figure size 432x288 with 1 Axes>"
            ]
          },
          "metadata": {
            "tags": []
          }
        }
      ]
    },
    {
      "cell_type": "code",
      "metadata": {
        "colab_type": "code",
        "id": "z386BnBlQKcV",
        "outputId": "29b48851-5150-4085-ad86-d004dbeafecd",
        "colab": {
          "base_uri": "https://localhost:8080/",
          "height": 285
        }
      },
      "source": [
        "w_after = model_relu.get_weights()\n",
        "\n",
        "h1_w = w_after[0].flatten().reshape(-1,1)\n",
        "h2_w = w_after[2].flatten().reshape(-1,1)\n",
        "out_w = w_after[4].flatten().reshape(-1,1)\n",
        "\n",
        "\n",
        "fig = plt.figure()\n",
        "plt.title(\"Weight matrices after model trained\")\n",
        "plt.subplot(1, 3, 1)\n",
        "plt.title(\"Trained model Weights\")\n",
        "ax = sns.violinplot(y=h1_w,color='b')\n",
        "plt.xlabel('Hidden Layer 1')\n",
        "\n",
        "plt.subplot(1, 3, 2)\n",
        "plt.title(\"Trained model Weights\")\n",
        "ax = sns.violinplot(y=h2_w, color='r')\n",
        "plt.xlabel('Hidden Layer 2 ')\n",
        "\n",
        "plt.subplot(1, 3, 3)\n",
        "plt.title(\"Trained model Weights\")\n",
        "ax = sns.violinplot(y=out_w,color='y')\n",
        "plt.xlabel('Output Layer ')\n",
        "plt.show()"
      ],
      "execution_count": 93,
      "outputs": [
        {
          "output_type": "display_data",
          "data": {
            "image/png": "[encoded data removed]",
            "text/plain": [
              "<Figure size 432x288 with 3 Axes>"
            ]
          },
          "metadata": {
            "tags": []
          }
        }
      ]
    },
    {
      "cell_type": "markdown",
      "metadata": {
        "colab_type": "text",
        "id": "9ccmfiVGQKcc"
      },
      "source": [
        "<h2> MLP + ReLU + ADAM </h2>"
      ]
    },
    {
      "cell_type": "code",
      "metadata": {
        "colab_type": "code",
        "id": "-CtwrinkQKcc",
        "outputId": "23f8326b-ff4f-4e5a-f4da-c4bb848cab20",
        "colab": {
          "base_uri": "https://localhost:8080/",
          "height": 988
        }
      },
      "source": [
        "model_relu = Sequential()\n",
        "model_relu.add(Dense(512, activation='relu', input_shape=(input_dim,), kernel_initializer=RandomNormal(mean=0.0, stddev=0.062, seed=None)))\n",
        "model_relu.add(Dense(128, activation='relu', kernel_initializer=RandomNormal(mean=0.0, stddev=0.125, seed=None)) )\n",
        "model_relu.add(Dense(output_dim, activation='softmax'))\n",
        "\n",
        "print(model_relu.summary())\n",
        "\n",
        "model_relu.compile(optimizer='adam', loss='categorical_crossentropy', metrics=['accuracy'])\n",
        "\n",
        "history = model_relu.fit(X_train, Y_train, batch_size=batch_size, epochs=nb_epoch, verbose=1, validation_data=(X_test, Y_test))"
      ],
      "execution_count": 94,
      "outputs": [
        {
          "output_type": "stream",
          "text": [
            "Model: \"sequential_28\"\n",
            "_________________________________________________________________\n",
            "Layer (type)                 Output Shape              Param #   \n",
            "=================================================================\n",
            "dense_82 (Dense)             (None, 512)               401920    \n",
            "_________________________________________________________________\n",
            "dense_83 (Dense)             (None, 128)               65664     \n",
            "_________________________________________________________________\n",
            "dense_84 (Dense)             (None, 10)                1290      \n",
            "=================================================================\n",
            "Total params: 468,874\n",
            "Trainable params: 468,874\n",
            "Non-trainable params: 0\n",
            "_________________________________________________________________\n",
            "None\n",
            "Train on 60000 samples, validate on 10000 samples\n",
            "Epoch 1/20\n",
            "60000/60000 [==============================] - 7s 111us/step - loss: 0.2339 - acc: 0.9300 - val_loss: 0.1131 - val_acc: 0.9662\n",
            "Epoch 2/20\n",
            "60000/60000 [==============================] - 3s 49us/step - loss: 0.0871 - acc: 0.9732 - val_loss: 0.0750 - val_acc: 0.9764\n",
            "Epoch 3/20\n",
            "60000/60000 [==============================] - 3s 49us/step - loss: 0.0542 - acc: 0.9835 - val_loss: 0.0715 - val_acc: 0.9777\n",
            "Epoch 4/20\n",
            "60000/60000 [==============================] - 3s 49us/step - loss: 0.0357 - acc: 0.9883 - val_loss: 0.0678 - val_acc: 0.9802\n",
            "Epoch 5/20\n",
            "60000/60000 [==============================] - 3s 48us/step - loss: 0.0263 - acc: 0.9916 - val_loss: 0.0761 - val_acc: 0.9782\n",
            "Epoch 6/20\n",
            "60000/60000 [==============================] - 3s 50us/step - loss: 0.0209 - acc: 0.9932 - val_loss: 0.0798 - val_acc: 0.9786\n",
            "Epoch 7/20\n",
            "60000/60000 [==============================] - 3s 50us/step - loss: 0.0184 - acc: 0.9940 - val_loss: 0.0671 - val_acc: 0.9809\n",
            "Epoch 8/20\n",
            "60000/60000 [==============================] - 3s 48us/step - loss: 0.0125 - acc: 0.9962 - val_loss: 0.0669 - val_acc: 0.9813\n",
            "Epoch 9/20\n",
            "60000/60000 [==============================] - 3s 49us/step - loss: 0.0095 - acc: 0.9970 - val_loss: 0.0956 - val_acc: 0.9762\n",
            "Epoch 10/20\n",
            "60000/60000 [==============================] - 3s 49us/step - loss: 0.0162 - acc: 0.9940 - val_loss: 0.0805 - val_acc: 0.9805\n",
            "Epoch 11/20\n",
            "60000/60000 [==============================] - 3s 49us/step - loss: 0.0119 - acc: 0.9961 - val_loss: 0.0860 - val_acc: 0.9778\n",
            "Epoch 12/20\n",
            "60000/60000 [==============================] - 3s 49us/step - loss: 0.0083 - acc: 0.9974 - val_loss: 0.0836 - val_acc: 0.9794\n",
            "Epoch 13/20\n",
            "60000/60000 [==============================] - 3s 48us/step - loss: 0.0093 - acc: 0.9971 - val_loss: 0.0913 - val_acc: 0.9792\n",
            "Epoch 14/20\n",
            "60000/60000 [==============================] - 3s 49us/step - loss: 0.0126 - acc: 0.9955 - val_loss: 0.0901 - val_acc: 0.9799\n",
            "Epoch 15/20\n",
            "60000/60000 [==============================] - 3s 49us/step - loss: 0.0082 - acc: 0.9971 - val_loss: 0.0901 - val_acc: 0.9800\n",
            "Epoch 16/20\n",
            "60000/60000 [==============================] - 3s 49us/step - loss: 0.0059 - acc: 0.9978 - val_loss: 0.0840 - val_acc: 0.9809\n",
            "Epoch 17/20\n",
            "60000/60000 [==============================] - 3s 50us/step - loss: 0.0043 - acc: 0.9987 - val_loss: 0.0872 - val_acc: 0.9813\n",
            "Epoch 18/20\n",
            "60000/60000 [==============================] - 3s 50us/step - loss: 0.0126 - acc: 0.9961 - val_loss: 0.1290 - val_acc: 0.9734\n",
            "Epoch 19/20\n",
            "60000/60000 [==============================] - 3s 49us/step - loss: 0.0081 - acc: 0.9974 - val_loss: 0.0966 - val_acc: 0.9800\n",
            "Epoch 20/20\n",
            "60000/60000 [==============================] - 3s 49us/step - loss: 0.0065 - acc: 0.9979 - val_loss: 0.0967 - val_acc: 0.9810\n"
          ],
          "name": "stdout"
        }
      ]
    },
    {
      "cell_type": "code",
      "metadata": {
        "colab_type": "code",
        "id": "niCdh2TUQKce",
        "outputId": "5f8100ce-fc7d-48c9-8ad9-1e38626f3cad",
        "colab": {
          "base_uri": "https://localhost:8080/",
          "height": 314
        }
      },
      "source": [
        "score = model_relu.evaluate(X_test, Y_test, verbose=0) \n",
        "print('Test score:', score[0]) \n",
        "print('Test accuracy:', score[1])\n",
        "\n",
        "fig,ax = plt.subplots(1,1)\n",
        "ax.set_xlabel('epoch') ; ax.set_ylabel('Categorical Crossentropy Loss')\n",
        "\n",
        "# list of epoch numbers\n",
        "x = list(range(1,nb_epoch+1))\n",
        "\n",
        "# print(history.history.keys())\n",
        "# dict_keys(['val_loss', 'val_acc', 'loss', 'acc'])\n",
        "# history = model_drop.fit(X_train, Y_train, batch_size=batch_size, epochs=nb_epoch, verbose=1, validation_data=(X_test, Y_test))\n",
        "\n",
        "# we will get val_loss and val_acc only when you pass the paramter validation_data\n",
        "# val_loss : validation loss\n",
        "# val_acc : validation accuracy\n",
        "\n",
        "# loss : training loss\n",
        "# acc : train accuracy\n",
        "# for each key in histrory.histrory we will have a list of length equal to number of epochs\n",
        "\n",
        "\n",
        "vy = history.history['val_loss']\n",
        "ty = history.history['loss']\n",
        "plt_dynamic(x, vy, ty, ax)"
      ],
      "execution_count": 95,
      "outputs": [
        {
          "output_type": "stream",
          "text": [
            "Test score: 0.09667216630082585\n",
            "Test accuracy: 0.981\n"
          ],
          "name": "stdout"
        },
        {
          "output_type": "display_data",
          "data": {
            "image/png": "[encoded data removed]",
            "text/plain": [
              "<Figure size 432x288 with 1 Axes>"
            ]
          },
          "metadata": {
            "tags": []
          }
        }
      ]
    },
    {
      "cell_type": "code",
      "metadata": {
        "colab_type": "code",
        "id": "PDtptoSnQKcf",
        "outputId": "ccf5fd93-77bb-4797-fe5c-b6e4fc1a8ba4",
        "colab": {
          "base_uri": "https://localhost:8080/",
          "height": 285
        }
      },
      "source": [
        "w_after = model_relu.get_weights()\n",
        "\n",
        "h1_w = w_after[0].flatten().reshape(-1,1)\n",
        "h2_w = w_after[2].flatten().reshape(-1,1)\n",
        "out_w = w_after[4].flatten().reshape(-1,1)\n",
        "\n",
        "\n",
        "fig = plt.figure()\n",
        "plt.title(\"Weight matrices after model trained\")\n",
        "plt.subplot(1, 3, 1)\n",
        "plt.title(\"Trained model Weights\")\n",
        "ax = sns.violinplot(y=h1_w,color='b')\n",
        "plt.xlabel('Hidden Layer 1')\n",
        "\n",
        "plt.subplot(1, 3, 2)\n",
        "plt.title(\"Trained model Weights\")\n",
        "ax = sns.violinplot(y=h2_w, color='r')\n",
        "plt.xlabel('Hidden Layer 2 ')\n",
        "\n",
        "plt.subplot(1, 3, 3)\n",
        "plt.title(\"Trained model Weights\")\n",
        "ax = sns.violinplot(y=out_w,color='y')\n",
        "plt.xlabel('Output Layer ')\n",
        "plt.show()"
      ],
      "execution_count": 96,
      "outputs": [
        {
          "output_type": "display_data",
          "data": {
            "image/png": "[encoded data removed]",
            "text/plain": [
              "<Figure size 432x288 with 3 Axes>"
            ]
          },
          "metadata": {
            "tags": []
          }
        }
      ]
    },
    {
      "cell_type": "markdown",
      "metadata": {
        "colab_type": "text",
        "id": "TjduBU7hQKch"
      },
      "source": [
        "<h2> MLP + Batch-Norm on hidden Layers + AdamOptimizer </2>"
      ]
    },
    {
      "cell_type": "code",
      "metadata": {
        "colab_type": "code",
        "id": "KGHnPnoTQKci",
        "outputId": "ad59d809-748f-4485-80dd-7fd2b70f484c",
        "colab": {
          "base_uri": "https://localhost:8080/",
          "height": 329
        }
      },
      "source": [
        "# Multilayer perceptron\n",
        "\n",
        "# https://intoli.com/blog/neural-network-initialization/ \n",
        "# If we sample weights from a normal distribution N(0,σ) we satisfy this condition with σ=√(2/(ni+ni+1). \n",
        "# h1 =>  σ=√(2/(ni+ni+1) = 0.039  => N(0,σ) = N(0,0.039)\n",
        "# h2 =>  σ=√(2/(ni+ni+1) = 0.055  => N(0,σ) = N(0,0.055)\n",
        "# h1 =>  σ=√(2/(ni+ni+1) = 0.120  => N(0,σ) = N(0,0.120)\n",
        "\n",
        "from keras.layers.normalization import BatchNormalization\n",
        "\n",
        "model_batch = Sequential()\n",
        "\n",
        "model_batch.add(Dense(512, activation='sigmoid', input_shape=(input_dim,), kernel_initializer=RandomNormal(mean=0.0, stddev=0.039, seed=None)))\n",
        "model_batch.add(BatchNormalization())\n",
        "\n",
        "model_batch.add(Dense(128, activation='sigmoid', kernel_initializer=RandomNormal(mean=0.0, stddev=0.55, seed=None)) )\n",
        "model_batch.add(BatchNormalization())\n",
        "\n",
        "model_batch.add(Dense(output_dim, activation='softmax'))\n",
        "\n",
        "\n",
        "model_batch.summary()"
      ],
      "execution_count": 97,
      "outputs": [
        {
          "output_type": "stream",
          "text": [
            "Model: \"sequential_29\"\n",
            "_________________________________________________________________\n",
            "Layer (type)                 Output Shape              Param #   \n",
            "=================================================================\n",
            "dense_85 (Dense)             (None, 512)               401920    \n",
            "_________________________________________________________________\n",
            "batch_normalization_19 (Batc (None, 512)               2048      \n",
            "_________________________________________________________________\n",
            "dense_86 (Dense)             (None, 128)               65664     \n",
            "_________________________________________________________________\n",
            "batch_normalization_20 (Batc (None, 128)               512       \n",
            "_________________________________________________________________\n",
            "dense_87 (Dense)             (None, 10)                1290      \n",
            "=================================================================\n",
            "Total params: 471,434\n",
            "Trainable params: 470,154\n",
            "Non-trainable params: 1,280\n",
            "_________________________________________________________________\n"
          ],
          "name": "stdout"
        }
      ]
    },
    {
      "cell_type": "code",
      "metadata": {
        "colab_type": "code",
        "id": "yMPo5fcUQKcm",
        "outputId": "2ac68e08-561d-4971-ab73-4a28cfbb8966",
        "colab": {
          "base_uri": "https://localhost:8080/",
          "height": 728
        }
      },
      "source": [
        "model_batch.compile(optimizer='adam', loss='categorical_crossentropy', metrics=['accuracy'])\n",
        "\n",
        "history = model_batch.fit(X_train, Y_train, batch_size=batch_size, epochs=nb_epoch, verbose=1, validation_data=(X_test, Y_test))"
      ],
      "execution_count": 98,
      "outputs": [
        {
          "output_type": "stream",
          "text": [
            "Train on 60000 samples, validate on 10000 samples\n",
            "Epoch 1/20\n",
            "60000/60000 [==============================] - 9s 147us/step - loss: 0.3000 - acc: 0.9114 - val_loss: 0.1998 - val_acc: 0.9409\n",
            "Epoch 2/20\n",
            "60000/60000 [==============================] - 5s 78us/step - loss: 0.1724 - acc: 0.9485 - val_loss: 0.1622 - val_acc: 0.9529\n",
            "Epoch 3/20\n",
            "60000/60000 [==============================] - 5s 78us/step - loss: 0.1333 - acc: 0.9608 - val_loss: 0.1498 - val_acc: 0.9553\n",
            "Epoch 4/20\n",
            "60000/60000 [==============================] - 5s 76us/step - loss: 0.1097 - acc: 0.9679 - val_loss: 0.1372 - val_acc: 0.9584\n",
            "Epoch 5/20\n",
            "60000/60000 [==============================] - 5s 77us/step - loss: 0.0934 - acc: 0.9725 - val_loss: 0.1245 - val_acc: 0.9625\n",
            "Epoch 6/20\n",
            "60000/60000 [==============================] - 5s 78us/step - loss: 0.0797 - acc: 0.9754 - val_loss: 0.1160 - val_acc: 0.9664\n",
            "Epoch 7/20\n",
            "60000/60000 [==============================] - 5s 77us/step - loss: 0.0699 - acc: 0.9779 - val_loss: 0.1168 - val_acc: 0.9657\n",
            "Epoch 8/20\n",
            "60000/60000 [==============================] - 5s 77us/step - loss: 0.0573 - acc: 0.9821 - val_loss: 0.1099 - val_acc: 0.9689\n",
            "Epoch 9/20\n",
            "60000/60000 [==============================] - 4s 75us/step - loss: 0.0500 - acc: 0.9849 - val_loss: 0.1121 - val_acc: 0.9664\n",
            "Epoch 10/20\n",
            "60000/60000 [==============================] - 5s 75us/step - loss: 0.0442 - acc: 0.9858 - val_loss: 0.0996 - val_acc: 0.9705\n",
            "Epoch 11/20\n",
            "60000/60000 [==============================] - 5s 77us/step - loss: 0.0413 - acc: 0.9867 - val_loss: 0.1020 - val_acc: 0.9701\n",
            "Epoch 12/20\n",
            "60000/60000 [==============================] - 4s 74us/step - loss: 0.0355 - acc: 0.9887 - val_loss: 0.0943 - val_acc: 0.9710\n",
            "Epoch 13/20\n",
            "60000/60000 [==============================] - 5s 77us/step - loss: 0.0310 - acc: 0.9900 - val_loss: 0.1004 - val_acc: 0.9724\n",
            "Epoch 14/20\n",
            "60000/60000 [==============================] - 5s 76us/step - loss: 0.0276 - acc: 0.9912 - val_loss: 0.0994 - val_acc: 0.9718\n",
            "Epoch 15/20\n",
            "60000/60000 [==============================] - 5s 76us/step - loss: 0.0237 - acc: 0.9925 - val_loss: 0.1022 - val_acc: 0.9722\n",
            "Epoch 16/20\n",
            "60000/60000 [==============================] - 5s 77us/step - loss: 0.0222 - acc: 0.9926 - val_loss: 0.1068 - val_acc: 0.9724\n",
            "Epoch 17/20\n",
            "60000/60000 [==============================] - 5s 77us/step - loss: 0.0197 - acc: 0.9936 - val_loss: 0.1003 - val_acc: 0.9721\n",
            "Epoch 18/20\n",
            "60000/60000 [==============================] - 4s 74us/step - loss: 0.0170 - acc: 0.9945 - val_loss: 0.1006 - val_acc: 0.9732\n",
            "Epoch 19/20\n",
            "60000/60000 [==============================] - 5s 76us/step - loss: 0.0198 - acc: 0.9936 - val_loss: 0.1147 - val_acc: 0.9705\n",
            "Epoch 20/20\n",
            "60000/60000 [==============================] - 5s 77us/step - loss: 0.0177 - acc: 0.9941 - val_loss: 0.1047 - val_acc: 0.9711\n"
          ],
          "name": "stdout"
        }
      ]
    },
    {
      "cell_type": "code",
      "metadata": {
        "colab_type": "code",
        "id": "HThyBcHUQKcn",
        "outputId": "daa1fa13-669e-4cae-99a1-833cb2a53384",
        "colab": {
          "base_uri": "https://localhost:8080/",
          "height": 314
        }
      },
      "source": [
        "score = model_batch.evaluate(X_test, Y_test, verbose=0) \n",
        "print('Test score:', score[0]) \n",
        "print('Test accuracy:', score[1])\n",
        "\n",
        "fig,ax = plt.subplots(1,1)\n",
        "ax.set_xlabel('epoch') ; ax.set_ylabel('Categorical Crossentropy Loss')\n",
        "\n",
        "# list of epoch numbers\n",
        "x = list(range(1,nb_epoch+1))\n",
        "\n",
        "# print(history.history.keys())\n",
        "# dict_keys(['val_loss', 'val_acc', 'loss', 'acc'])\n",
        "# history = model_drop.fit(X_train, Y_train, batch_size=batch_size, epochs=nb_epoch, verbose=1, validation_data=(X_test, Y_test))\n",
        "\n",
        "# we will get val_loss and val_acc only when you pass the paramter validation_data\n",
        "# val_loss : validation loss\n",
        "# val_acc : validation accuracy\n",
        "\n",
        "# loss : training loss\n",
        "# acc : train accuracy\n",
        "# for each key in histrory.histrory we will have a list of length equal to number of epochs\n",
        "\n",
        "vy = history.history['val_loss']\n",
        "ty = history.history['loss']\n",
        "plt_dynamic(x, vy, ty, ax)"
      ],
      "execution_count": 99,
      "outputs": [
        {
          "output_type": "stream",
          "text": [
            "Test score: 0.1047434159736731\n",
            "Test accuracy: 0.9711\n"
          ],
          "name": "stdout"
        },
        {
          "output_type": "display_data",
          "data": {
            "image/png": "[encoded data removed]",
            "text/plain": [
              "<Figure size 432x288 with 1 Axes>"
            ]
          },
          "metadata": {
            "tags": []
          }
        }
      ]
    },
    {
      "cell_type": "code",
      "metadata": {
        "colab_type": "code",
        "id": "Ilj0es2yQKcp",
        "outputId": "074aaee1-f537-48ac-db26-4e36fc5de56d",
        "colab": {
          "base_uri": "https://localhost:8080/",
          "height": 285
        }
      },
      "source": [
        "w_after = model_batch.get_weights()\n",
        "\n",
        "h1_w = w_after[0].flatten().reshape(-1,1)\n",
        "h2_w = w_after[2].flatten().reshape(-1,1)\n",
        "out_w = w_after[4].flatten().reshape(-1,1)\n",
        "\n",
        "\n",
        "fig = plt.figure()\n",
        "plt.title(\"Weight matrices after model trained\")\n",
        "plt.subplot(1, 3, 1)\n",
        "plt.title(\"Trained model Weights\")\n",
        "ax = sns.violinplot(y=h1_w,color='b')\n",
        "plt.xlabel('Hidden Layer 1')\n",
        "\n",
        "plt.subplot(1, 3, 2)\n",
        "plt.title(\"Trained model Weights\")\n",
        "ax = sns.violinplot(y=h2_w, color='r')\n",
        "plt.xlabel('Hidden Layer 2 ')\n",
        "\n",
        "plt.subplot(1, 3, 3)\n",
        "plt.title(\"Trained model Weights\")\n",
        "ax = sns.violinplot(y=out_w,color='y')\n",
        "plt.xlabel('Output Layer ')\n",
        "plt.show()"
      ],
      "execution_count": 100,
      "outputs": [
        {
          "output_type": "display_data",
          "data": {
            "image/png": "[encoded data removed]",
            "text/plain": [
              "<Figure size 432x288 with 3 Axes>"
            ]
          },
          "metadata": {
            "tags": []
          }
        }
      ]
    },
    {
      "cell_type": "markdown",
      "metadata": {
        "colab_type": "text",
        "id": "IWYP8-3pQKct"
      },
      "source": [
        "<h2> 5. MLP + Dropout + AdamOptimizer </h2>"
      ]
    },
    {
      "cell_type": "code",
      "metadata": {
        "colab_type": "code",
        "id": "DJj0hu0-QKct",
        "outputId": "2b81ee25-2d1a-4e3b-da2a-4111ba3fdae2",
        "colab": {
          "base_uri": "https://localhost:8080/",
          "height": 399
        }
      },
      "source": [
        "# https://stackoverflow.com/questions/34716454/where-do-i-call-the-batchnormalization-function-in-keras\n",
        "\n",
        "from keras.layers import Dropout\n",
        "\n",
        "model_drop = Sequential()\n",
        "\n",
        "model_drop.add(Dense(512, activation='sigmoid', input_shape=(input_dim,), kernel_initializer=RandomNormal(mean=0.0, stddev=0.039, seed=None)))\n",
        "model_drop.add(BatchNormalization())\n",
        "model_drop.add(Dropout(0.5))\n",
        "\n",
        "model_drop.add(Dense(128, activation='sigmoid', kernel_initializer=RandomNormal(mean=0.0, stddev=0.55, seed=None)) )\n",
        "model_drop.add(BatchNormalization())\n",
        "model_drop.add(Dropout(0.5))\n",
        "\n",
        "model_drop.add(Dense(output_dim, activation='softmax'))\n",
        "\n",
        "\n",
        "model_drop.summary()"
      ],
      "execution_count": 101,
      "outputs": [
        {
          "output_type": "stream",
          "text": [
            "Model: \"sequential_30\"\n",
            "_________________________________________________________________\n",
            "Layer (type)                 Output Shape              Param #   \n",
            "=================================================================\n",
            "dense_88 (Dense)             (None, 512)               401920    \n",
            "_________________________________________________________________\n",
            "batch_normalization_21 (Batc (None, 512)               2048      \n",
            "_________________________________________________________________\n",
            "dropout_17 (Dropout)         (None, 512)               0         \n",
            "_________________________________________________________________\n",
            "dense_89 (Dense)             (None, 128)               65664     \n",
            "_________________________________________________________________\n",
            "batch_normalization_22 (Batc (None, 128)               512       \n",
            "_________________________________________________________________\n",
            "dropout_18 (Dropout)         (None, 128)               0         \n",
            "_________________________________________________________________\n",
            "dense_90 (Dense)             (None, 10)                1290      \n",
            "=================================================================\n",
            "Total params: 471,434\n",
            "Trainable params: 470,154\n",
            "Non-trainable params: 1,280\n",
            "_________________________________________________________________\n"
          ],
          "name": "stdout"
        }
      ]
    },
    {
      "cell_type": "code",
      "metadata": {
        "colab_type": "code",
        "id": "J5pc4W_9QKcw",
        "outputId": "6a6a4383-3bbf-4e53-99e3-cdba0dee47a4",
        "colab": {
          "base_uri": "https://localhost:8080/",
          "height": 728
        }
      },
      "source": [
        "model_drop.compile(optimizer='adam', loss='categorical_crossentropy', metrics=['accuracy'])\n",
        "\n",
        "history = model_drop.fit(X_train, Y_train, batch_size=batch_size, epochs=nb_epoch, verbose=1, validation_data=(X_test, Y_test))"
      ],
      "execution_count": 102,
      "outputs": [
        {
          "output_type": "stream",
          "text": [
            "Train on 60000 samples, validate on 10000 samples\n",
            "Epoch 1/20\n",
            "60000/60000 [==============================] - 9s 151us/step - loss: 0.6779 - acc: 0.7916 - val_loss: 0.2975 - val_acc: 0.9120\n",
            "Epoch 2/20\n",
            "60000/60000 [==============================] - 5s 77us/step - loss: 0.4322 - acc: 0.8693 - val_loss: 0.2565 - val_acc: 0.9253\n",
            "Epoch 3/20\n",
            "60000/60000 [==============================] - 5s 77us/step - loss: 0.3904 - acc: 0.8821 - val_loss: 0.2377 - val_acc: 0.9282\n",
            "Epoch 4/20\n",
            "60000/60000 [==============================] - 5s 78us/step - loss: 0.3611 - acc: 0.8906 - val_loss: 0.2200 - val_acc: 0.9335\n",
            "Epoch 5/20\n",
            "60000/60000 [==============================] - 5s 78us/step - loss: 0.3351 - acc: 0.8986 - val_loss: 0.2166 - val_acc: 0.9347\n",
            "Epoch 6/20\n",
            "60000/60000 [==============================] - 5s 77us/step - loss: 0.3230 - acc: 0.9023 - val_loss: 0.2018 - val_acc: 0.9387\n",
            "Epoch 7/20\n",
            "60000/60000 [==============================] - 5s 80us/step - loss: 0.3110 - acc: 0.9070 - val_loss: 0.1949 - val_acc: 0.9409\n",
            "Epoch 8/20\n",
            "60000/60000 [==============================] - 5s 77us/step - loss: 0.2941 - acc: 0.9118 - val_loss: 0.1823 - val_acc: 0.9460\n",
            "Epoch 9/20\n",
            "60000/60000 [==============================] - 5s 82us/step - loss: 0.2837 - acc: 0.9162 - val_loss: 0.1733 - val_acc: 0.9483\n",
            "Epoch 10/20\n",
            "60000/60000 [==============================] - 5s 77us/step - loss: 0.2721 - acc: 0.9183 - val_loss: 0.1734 - val_acc: 0.9499\n",
            "Epoch 11/20\n",
            "60000/60000 [==============================] - 5s 77us/step - loss: 0.2562 - acc: 0.9235 - val_loss: 0.1617 - val_acc: 0.9511\n",
            "Epoch 12/20\n",
            "60000/60000 [==============================] - 5s 78us/step - loss: 0.2502 - acc: 0.9248 - val_loss: 0.1543 - val_acc: 0.9540\n",
            "Epoch 13/20\n",
            "60000/60000 [==============================] - 5s 79us/step - loss: 0.2385 - acc: 0.9276 - val_loss: 0.1455 - val_acc: 0.9541\n",
            "Epoch 14/20\n",
            "60000/60000 [==============================] - 5s 79us/step - loss: 0.2307 - acc: 0.9303 - val_loss: 0.1399 - val_acc: 0.9576\n",
            "Epoch 15/20\n",
            "60000/60000 [==============================] - 5s 79us/step - loss: 0.2217 - acc: 0.9333 - val_loss: 0.1315 - val_acc: 0.9597\n",
            "Epoch 16/20\n",
            "60000/60000 [==============================] - 5s 76us/step - loss: 0.2092 - acc: 0.9368 - val_loss: 0.1258 - val_acc: 0.9637\n",
            "Epoch 17/20\n",
            "60000/60000 [==============================] - 5s 78us/step - loss: 0.2008 - acc: 0.9392 - val_loss: 0.1215 - val_acc: 0.9626\n",
            "Epoch 18/20\n",
            "60000/60000 [==============================] - 5s 78us/step - loss: 0.1923 - acc: 0.9429 - val_loss: 0.1150 - val_acc: 0.9653\n",
            "Epoch 19/20\n",
            "60000/60000 [==============================] - 5s 80us/step - loss: 0.1857 - acc: 0.9445 - val_loss: 0.1129 - val_acc: 0.9662\n",
            "Epoch 20/20\n",
            "60000/60000 [==============================] - 5s 78us/step - loss: 0.1763 - acc: 0.9466 - val_loss: 0.1032 - val_acc: 0.9691\n"
          ],
          "name": "stdout"
        }
      ]
    },
    {
      "cell_type": "code",
      "metadata": {
        "colab_type": "code",
        "id": "i5WcfQRFQKc0",
        "outputId": "b77c5ec2-48fd-425b-e07f-496ddbc1c7fd",
        "colab": {
          "base_uri": "https://localhost:8080/",
          "height": 316
        }
      },
      "source": [
        "score = model_drop.evaluate(X_test, Y_test, verbose=0) \n",
        "print('Test score:', score[0]) \n",
        "print('Test accuracy:', score[1])\n",
        "\n",
        "fig,ax = plt.subplots(1,1)\n",
        "ax.set_xlabel('epoch') ; ax.set_ylabel('Categorical Crossentropy Loss')\n",
        "\n",
        "# list of epoch numbers\n",
        "x = list(range(1,nb_epoch+1))\n",
        "\n",
        "# print(history.history.keys())\n",
        "# dict_keys(['val_loss', 'val_acc', 'loss', 'acc'])\n",
        "# history = model_drop.fit(X_train, Y_train, batch_size=batch_size, epochs=nb_epoch, verbose=1, validation_data=(X_test, Y_test))\n",
        "\n",
        "# we will get val_loss and val_acc only when you pass the paramter validation_data\n",
        "# val_loss : validation loss\n",
        "# val_acc : validation accuracy\n",
        "\n",
        "# loss : training loss\n",
        "# acc : train accuracy\n",
        "# for each key in histrory.histrory we will have a list of length equal to number of epochs\n",
        "\n",
        "vy = history.history['val_loss']\n",
        "ty = history.history['loss']\n",
        "plt_dynamic(x, vy, ty, ax)"
      ],
      "execution_count": 103,
      "outputs": [
        {
          "output_type": "stream",
          "text": [
            "Test score: 0.10323964318521321\n",
            "Test accuracy: 0.9691\n"
          ],
          "name": "stdout"
        },
        {
          "output_type": "display_data",
          "data": {
            "image/png": "[encoded data removed]",
            "text/plain": [
              "<Figure size 432x288 with 1 Axes>"
            ]
          },
          "metadata": {
            "tags": []
          }
        }
      ]
    },
    {
      "cell_type": "code",
      "metadata": {
        "colab_type": "code",
        "id": "U2N2u7xoQKc2",
        "outputId": "3dd5c30a-4f02-4203-86f5-77ac4b23ceaa",
        "colab": {
          "base_uri": "https://localhost:8080/",
          "height": 285
        }
      },
      "source": [
        "w_after = model_drop.get_weights()\n",
        "\n",
        "h1_w = w_after[0].flatten().reshape(-1,1)\n",
        "h2_w = w_after[2].flatten().reshape(-1,1)\n",
        "out_w = w_after[4].flatten().reshape(-1,1)\n",
        "\n",
        "\n",
        "fig = plt.figure()\n",
        "plt.title(\"Weight matrices after model trained\")\n",
        "plt.subplot(1, 3, 1)\n",
        "plt.title(\"Trained model Weights\")\n",
        "ax = sns.violinplot(y=h1_w,color='b')\n",
        "plt.xlabel('Hidden Layer 1')\n",
        "\n",
        "plt.subplot(1, 3, 2)\n",
        "plt.title(\"Trained model Weights\")\n",
        "ax = sns.violinplot(y=h2_w, color='r')\n",
        "plt.xlabel('Hidden Layer 2 ')\n",
        "\n",
        "plt.subplot(1, 3, 3)\n",
        "plt.title(\"Trained model Weights\")\n",
        "ax = sns.violinplot(y=out_w,color='y')\n",
        "plt.xlabel('Output Layer ')\n",
        "plt.show()"
      ],
      "execution_count": 104,
      "outputs": [
        {
          "output_type": "display_data",
          "data": {
            "image/png": "[encoded data removed]",
            "text/plain": [
              "<Figure size 432x288 with 3 Axes>"
            ]
          },
          "metadata": {
            "tags": []
          }
        }
      ]
    },
    {
      "cell_type": "markdown",
      "metadata": {
        "colab_type": "text",
        "id": "ayBTjaZGQKc6"
      },
      "source": [
        "<h2> Hyper-parameter tuning of Keras models using Sklearn </h2>"
      ]
    },
    {
      "cell_type": "code",
      "metadata": {
        "colab_type": "code",
        "id": "8k1L9fZcQKc6",
        "colab": {}
      },
      "source": [
        "from keras.optimizers import Adam,RMSprop,SGD\n",
        "def best_hyperparameters(activ):\n",
        "\n",
        "    model = Sequential()\n",
        "    model.add(Dense(512, activation=activ, input_shape=(input_dim,), kernel_initializer=RandomNormal(mean=0.0, stddev=0.062, seed=None)))\n",
        "    model.add(Dense(128, activation=activ, kernel_initializer=RandomNormal(mean=0.0, stddev=0.125, seed=None)) )\n",
        "    model.add(Dense(output_dim, activation='softmax'))\n",
        "\n",
        "\n",
        "    model.compile(loss='categorical_crossentropy', metrics=['accuracy'], optimizer='adam')\n",
        "    \n",
        "    return model"
      ],
      "execution_count": 0,
      "outputs": []
    },
    {
      "cell_type": "code",
      "metadata": {
        "colab_type": "code",
        "id": "Mj1klnwWQKc7",
        "colab": {}
      },
      "source": [
        "# https://machinelearningmastery.com/grid-search-hyperparameters-deep-learning-models-python-keras/\n",
        "\n",
        "activ = ['sigmoid','relu']\n",
        "\n",
        "from keras.wrappers.scikit_learn import KerasClassifier\n",
        "from sklearn.model_selection import GridSearchCV\n",
        "\n",
        "model = KerasClassifier(build_fn=best_hyperparameters, epochs=nb_epoch, batch_size=batch_size, verbose=0)\n",
        "param_grid = dict(activ=activ)\n",
        "\n",
        "# if you are using CPU\n",
        "# grid = GridSearchCV(estimator=model, param_grid=param_grid, n_jobs=-1)\n",
        "# if you are using GPU dont use the n_jobs parameter\n",
        "\n",
        "grid = GridSearchCV(estimator=model, param_grid=param_grid)\n",
        "grid_result = grid.fit(X_train, Y_train)"
      ],
      "execution_count": 0,
      "outputs": []
    },
    {
      "cell_type": "code",
      "metadata": {
        "colab_type": "code",
        "id": "9UiW9qkmQKc8",
        "outputId": "cfd7f7d4-398c-4e1c-98b2-508b9efb5051",
        "colab": {
          "base_uri": "https://localhost:8080/",
          "height": 69
        }
      },
      "source": [
        "print(\"Best: %f using %s\" % (grid_result.best_score_, grid_result.best_params_))\n",
        "means = grid_result.cv_results_['mean_test_score']\n",
        "stds = grid_result.cv_results_['std_test_score']\n",
        "params = grid_result.cv_results_['params']\n",
        "for mean, stdev, param in zip(means, stds, params):\n",
        "    print(\"%f (%f) with: %r\" % (mean, stdev, param))"
      ],
      "execution_count": 107,
      "outputs": [
        {
          "output_type": "stream",
          "text": [
            "Best: 0.977050 using {'activ': 'sigmoid'}\n",
            "0.977050 (0.001843) with: {'activ': 'sigmoid'}\n",
            "0.976917 (0.003238) with: {'activ': 'relu'}\n"
          ],
          "name": "stdout"
        }
      ]
    },
    {
      "cell_type": "markdown",
      "metadata": {
        "id": "FFp7XWtU-8FM",
        "colab_type": "text"
      },
      "source": [
        "<h2>**Assignment Tasks**:</h2>\n"
      ]
    },
    {
      "cell_type": "markdown",
      "metadata": {
        "id": "T69QvwFHOiRb",
        "colab_type": "text"
      },
      "source": [
        "<h2>Two layer architecture with Dropout+Batch Normalization with ReLU as activation unit and Adam optimiser</h2>"
      ]
    },
    {
      "cell_type": "code",
      "metadata": {
        "id": "8aU-nwspOSTc",
        "colab_type": "code",
        "colab": {
          "base_uri": "https://localhost:8080/",
          "height": 1000
        },
        "outputId": "748372dc-7943-4d17-9afe-aab30ea58e01"
      },
      "source": [
        "\n",
        "from keras.layers.normalization import BatchNormalization\n",
        "\n",
        "model_twolayer = Sequential()\n",
        "model_twolayer.add(Dense(364, activation='relu', input_shape=(input_dim,), kernel_initializer=RandomNormal(mean=0.0, stddev=0.074, seed=None)))\n",
        "model_twolayer.add(BatchNormalization())\n",
        "model_twolayer.add(Dropout(0.5))\n",
        "\n",
        "model_twolayer.add(Dense(52, activation='sigmoid', kernel_initializer=RandomNormal(mean=0.0, stddev=0.196, seed=None)) )\n",
        "model_twolayer.add(BatchNormalization())\n",
        "model_twolayer.add(Dropout(0.5))\n",
        "\n",
        "model_twolayer.add(Dense(output_dim, activation='softmax'))\n",
        "model_twolayer.summary()\n",
        "\n",
        "\n",
        "\n",
        "model_twolayer.compile(optimizer='adam', loss='categorical_crossentropy', metrics=['accuracy'])\n",
        "history = model_twolayer.fit(X_train, Y_train, batch_size=batch_size, epochs=nb_epoch, verbose=1, validation_data=(X_test, Y_test))\n",
        "\n"
      ],
      "execution_count": 108,
      "outputs": [
        {
          "output_type": "stream",
          "text": [
            "Model: \"sequential_42\"\n",
            "_________________________________________________________________\n",
            "Layer (type)                 Output Shape              Param #   \n",
            "=================================================================\n",
            "dense_124 (Dense)            (None, 364)               285740    \n",
            "_________________________________________________________________\n",
            "batch_normalization_23 (Batc (None, 364)               1456      \n",
            "_________________________________________________________________\n",
            "dropout_19 (Dropout)         (None, 364)               0         \n",
            "_________________________________________________________________\n",
            "dense_125 (Dense)            (None, 52)                18980     \n",
            "_________________________________________________________________\n",
            "batch_normalization_24 (Batc (None, 52)                208       \n",
            "_________________________________________________________________\n",
            "dropout_20 (Dropout)         (None, 52)                0         \n",
            "_________________________________________________________________\n",
            "dense_126 (Dense)            (None, 10)                530       \n",
            "=================================================================\n",
            "Total params: 306,914\n",
            "Trainable params: 306,082\n",
            "Non-trainable params: 832\n",
            "_________________________________________________________________\n",
            "Train on 60000 samples, validate on 10000 samples\n",
            "Epoch 1/20\n",
            "60000/60000 [==============================] - 10s 171us/step - loss: 0.6940 - acc: 0.7870 - val_loss: 0.2104 - val_acc: 0.9366\n",
            "Epoch 2/20\n",
            "60000/60000 [==============================] - 5s 81us/step - loss: 0.3306 - acc: 0.9055 - val_loss: 0.1554 - val_acc: 0.9535\n",
            "Epoch 3/20\n",
            "60000/60000 [==============================] - 5s 88us/step - loss: 0.2601 - acc: 0.9257 - val_loss: 0.1360 - val_acc: 0.9586\n",
            "Epoch 4/20\n",
            "60000/60000 [==============================] - 5s 82us/step - loss: 0.2279 - acc: 0.9353 - val_loss: 0.1209 - val_acc: 0.9630\n",
            "Epoch 5/20\n",
            "60000/60000 [==============================] - 5s 80us/step - loss: 0.1965 - acc: 0.9436 - val_loss: 0.1075 - val_acc: 0.9685\n",
            "Epoch 6/20\n",
            "60000/60000 [==============================] - 5s 82us/step - loss: 0.1776 - acc: 0.9495 - val_loss: 0.1004 - val_acc: 0.9715\n",
            "Epoch 7/20\n",
            "60000/60000 [==============================] - 5s 82us/step - loss: 0.1662 - acc: 0.9525 - val_loss: 0.0973 - val_acc: 0.9714\n",
            "Epoch 8/20\n",
            "60000/60000 [==============================] - 5s 80us/step - loss: 0.1529 - acc: 0.9555 - val_loss: 0.0905 - val_acc: 0.9726\n",
            "Epoch 9/20\n",
            "60000/60000 [==============================] - 5s 80us/step - loss: 0.1431 - acc: 0.9587 - val_loss: 0.0868 - val_acc: 0.9753\n",
            "Epoch 10/20\n",
            "60000/60000 [==============================] - 5s 81us/step - loss: 0.1363 - acc: 0.9604 - val_loss: 0.0888 - val_acc: 0.9756\n",
            "Epoch 11/20\n",
            "60000/60000 [==============================] - 5s 79us/step - loss: 0.1273 - acc: 0.9634 - val_loss: 0.0866 - val_acc: 0.9757\n",
            "Epoch 12/20\n",
            "60000/60000 [==============================] - 5s 80us/step - loss: 0.1254 - acc: 0.9639 - val_loss: 0.0803 - val_acc: 0.9775\n",
            "Epoch 13/20\n",
            "60000/60000 [==============================] - 5s 80us/step - loss: 0.1204 - acc: 0.9659 - val_loss: 0.0777 - val_acc: 0.9781\n",
            "Epoch 14/20\n",
            "60000/60000 [==============================] - 5s 79us/step - loss: 0.1141 - acc: 0.9674 - val_loss: 0.0796 - val_acc: 0.9778\n",
            "Epoch 15/20\n",
            "60000/60000 [==============================] - 5s 81us/step - loss: 0.1076 - acc: 0.9686 - val_loss: 0.0758 - val_acc: 0.9794\n",
            "Epoch 16/20\n",
            "60000/60000 [==============================] - 5s 80us/step - loss: 0.1032 - acc: 0.9704 - val_loss: 0.0741 - val_acc: 0.9786\n",
            "Epoch 17/20\n",
            "60000/60000 [==============================] - 5s 82us/step - loss: 0.1022 - acc: 0.9701 - val_loss: 0.0726 - val_acc: 0.9797\n",
            "Epoch 18/20\n",
            "60000/60000 [==============================] - 5s 82us/step - loss: 0.1016 - acc: 0.9707 - val_loss: 0.0745 - val_acc: 0.9797\n",
            "Epoch 19/20\n",
            "60000/60000 [==============================] - 5s 79us/step - loss: 0.0977 - acc: 0.9716 - val_loss: 0.0707 - val_acc: 0.9801\n",
            "Epoch 20/20\n",
            "60000/60000 [==============================] - 5s 80us/step - loss: 0.0918 - acc: 0.9737 - val_loss: 0.0733 - val_acc: 0.9808\n"
          ],
          "name": "stdout"
        }
      ]
    },
    {
      "cell_type": "code",
      "metadata": {
        "id": "G_mvLXB6kVYX",
        "colab_type": "code",
        "colab": {
          "base_uri": "https://localhost:8080/",
          "height": 728
        },
        "outputId": "460d4bda-b197-4f1f-eee7-1edaad337fa5"
      },
      "source": [
        "model_twolayer.compile(optimizer='adam', loss='categorical_crossentropy', metrics=['accuracy'])\n",
        "history = model_twolayer.fit(X_train, Y_train, batch_size=batch_size, epochs=nb_epoch, verbose=1, validation_data=(X_test, Y_test))"
      ],
      "execution_count": 109,
      "outputs": [
        {
          "output_type": "stream",
          "text": [
            "Train on 60000 samples, validate on 10000 samples\n",
            "Epoch 1/20\n",
            "60000/60000 [==============================] - 11s 178us/step - loss: 0.0923 - acc: 0.9737 - val_loss: 0.0736 - val_acc: 0.9789\n",
            "Epoch 2/20\n",
            "60000/60000 [==============================] - 5s 81us/step - loss: 0.0879 - acc: 0.9746 - val_loss: 0.0710 - val_acc: 0.9800\n",
            "Epoch 3/20\n",
            "60000/60000 [==============================] - 5s 81us/step - loss: 0.0853 - acc: 0.9752 - val_loss: 0.0710 - val_acc: 0.9817\n",
            "Epoch 4/20\n",
            "60000/60000 [==============================] - 5s 82us/step - loss: 0.0843 - acc: 0.9752 - val_loss: 0.0700 - val_acc: 0.9799\n",
            "Epoch 5/20\n",
            "60000/60000 [==============================] - 5s 83us/step - loss: 0.0840 - acc: 0.9749 - val_loss: 0.0689 - val_acc: 0.9818\n",
            "Epoch 6/20\n",
            "60000/60000 [==============================] - 5s 80us/step - loss: 0.0830 - acc: 0.9760 - val_loss: 0.0711 - val_acc: 0.9822\n",
            "Epoch 7/20\n",
            "60000/60000 [==============================] - 5s 81us/step - loss: 0.0789 - acc: 0.9772 - val_loss: 0.0661 - val_acc: 0.9823\n",
            "Epoch 8/20\n",
            "60000/60000 [==============================] - 5s 82us/step - loss: 0.0771 - acc: 0.9775 - val_loss: 0.0671 - val_acc: 0.9812\n",
            "Epoch 9/20\n",
            "60000/60000 [==============================] - 5s 81us/step - loss: 0.0754 - acc: 0.9784 - val_loss: 0.0736 - val_acc: 0.9810\n",
            "Epoch 10/20\n",
            "60000/60000 [==============================] - 5s 81us/step - loss: 0.0706 - acc: 0.9794 - val_loss: 0.0718 - val_acc: 0.9818\n",
            "Epoch 11/20\n",
            "60000/60000 [==============================] - 5s 81us/step - loss: 0.0738 - acc: 0.9783 - val_loss: 0.0679 - val_acc: 0.9824\n",
            "Epoch 12/20\n",
            "60000/60000 [==============================] - 5s 81us/step - loss: 0.0679 - acc: 0.9806 - val_loss: 0.0692 - val_acc: 0.9830\n",
            "Epoch 13/20\n",
            "60000/60000 [==============================] - 5s 80us/step - loss: 0.0704 - acc: 0.9794 - val_loss: 0.0685 - val_acc: 0.9828\n",
            "Epoch 14/20\n",
            "60000/60000 [==============================] - 5s 81us/step - loss: 0.0668 - acc: 0.9809 - val_loss: 0.0730 - val_acc: 0.9816\n",
            "Epoch 15/20\n",
            "60000/60000 [==============================] - 5s 79us/step - loss: 0.0657 - acc: 0.9808 - val_loss: 0.0722 - val_acc: 0.9824\n",
            "Epoch 16/20\n",
            "60000/60000 [==============================] - 5s 84us/step - loss: 0.0663 - acc: 0.9807 - val_loss: 0.0695 - val_acc: 0.9824\n",
            "Epoch 17/20\n",
            "60000/60000 [==============================] - 5s 81us/step - loss: 0.0639 - acc: 0.9815 - val_loss: 0.0681 - val_acc: 0.9822\n",
            "Epoch 18/20\n",
            "60000/60000 [==============================] - 5s 81us/step - loss: 0.0660 - acc: 0.9808 - val_loss: 0.0648 - val_acc: 0.9831\n",
            "Epoch 19/20\n",
            "60000/60000 [==============================] - 5s 84us/step - loss: 0.0627 - acc: 0.9813 - val_loss: 0.0698 - val_acc: 0.9826\n",
            "Epoch 20/20\n",
            "60000/60000 [==============================] - 5s 84us/step - loss: 0.0609 - acc: 0.9824 - val_loss: 0.0702 - val_acc: 0.9832\n"
          ],
          "name": "stdout"
        }
      ]
    },
    {
      "cell_type": "code",
      "metadata": {
        "colab_type": "code",
        "outputId": "d23860df-d732-46b7-ae3c-41406e8d4a23",
        "id": "UAX8EQNIohT7",
        "colab": {
          "base_uri": "https://localhost:8080/",
          "height": 314
        }
      },
      "source": [
        "score = model_twolayer.evaluate(X_test, Y_test, verbose=0) \n",
        "print('Test score:', score[0]) \n",
        "print('Test accuracy:', score[1])\n",
        "\n",
        "fig,ax = plt.subplots(1,1)\n",
        "ax.set_xlabel('epoch') ; ax.set_ylabel('Categorical Crossentropy Loss')\n",
        "\n",
        "# list of epoch numbers\n",
        "x = list(range(1,nb_epoch+1))\n",
        "\n",
        "# print(history.history.keys())\n",
        "# dict_keys(['val_loss', 'val_acc', 'loss', 'acc'])\n",
        "# history = model_drop.fit(X_train, Y_train, batch_size=batch_size, epochs=nb_epoch, verbose=1, validation_data=(X_test, Y_test))\n",
        "\n",
        "# we will get val_loss and val_acc only when you pass the paramter validation_data\n",
        "# val_loss : validation loss\n",
        "# val_acc : validation accuracy\n",
        "\n",
        "# loss : training loss\n",
        "# acc : train accuracy\n",
        "# for each key in histrory.histrory we will have a list of length equal to number of epochs\n",
        "\n",
        "vy = history.history['val_loss']\n",
        "ty = history.history['loss']\n",
        "plt_dynamic(x, vy, ty, ax)"
      ],
      "execution_count": 110,
      "outputs": [
        {
          "output_type": "stream",
          "text": [
            "Test score: 0.07015746749795508\n",
            "Test accuracy: 0.9832\n"
          ],
          "name": "stdout"
        },
        {
          "output_type": "display_data",
          "data": {
            "image/png": "[encoded data removed]",
            "text/plain": [
              "<Figure size 432x288 with 1 Axes>"
            ]
          },
          "metadata": {
            "tags": []
          }
        }
      ]
    },
    {
      "cell_type": "markdown",
      "metadata": {
        "colab_type": "text",
        "id": "IPn6e9ITkMDf"
      },
      "source": [
        "<h2>Three layer architecture with Dropout+Batch Normalization with ReLU as activation unit and Adam optimiser</h2>"
      ]
    },
    {
      "cell_type": "code",
      "metadata": {
        "id": "wSfO0NAMkWTS",
        "colab_type": "code",
        "colab": {
          "base_uri": "https://localhost:8080/",
          "height": 1000
        },
        "outputId": "e5416f90-ef18-4aab-f441-ad427b21e461"
      },
      "source": [
        "model_threelayer = Sequential()\n",
        "model_threelayer.add(Dense(512, activation='relu', input_shape=(input_dim,), kernel_initializer=RandomNormal(mean=0.0, stddev=0.062, seed=None)))\n",
        "model_threelayer.add(BatchNormalization())\n",
        "model_threelayer.add(Dropout(0.5))\n",
        "\n",
        "model_threelayer.add(Dense(128, activation='sigmoid', kernel_initializer=RandomNormal(mean=0.0, stddev=0.125, seed=None)) )\n",
        "model_threelayer.add(BatchNormalization())\n",
        "model_threelayer.add(Dropout(0.5))\n",
        "\n",
        "model_threelayer.add(Dense(32, activation='sigmoid', kernel_initializer=RandomNormal(mean=0.0, stddev=0.25, seed=None)) )\n",
        "model_threelayer.add(BatchNormalization())\n",
        "model_threelayer.add(Dropout(0.5))\n",
        "\n",
        "model_threelayer.add(Dense(output_dim, activation='softmax'))\n",
        "model_threelayer.summary()\n",
        "\n",
        "\n",
        "\n",
        "model_threelayer.compile(optimizer='adam', loss='categorical_crossentropy', metrics=['accuracy'])\n",
        "history = model_threelayer.fit(X_train, Y_train, batch_size=batch_size, epochs=nb_epoch, verbose=1, validation_data=(X_test, Y_test))\n",
        "\n"
      ],
      "execution_count": 111,
      "outputs": [
        {
          "output_type": "stream",
          "text": [
            "Model: \"sequential_43\"\n",
            "_________________________________________________________________\n",
            "Layer (type)                 Output Shape              Param #   \n",
            "=================================================================\n",
            "dense_127 (Dense)            (None, 512)               401920    \n",
            "_________________________________________________________________\n",
            "batch_normalization_25 (Batc (None, 512)               2048      \n",
            "_________________________________________________________________\n",
            "dropout_21 (Dropout)         (None, 512)               0         \n",
            "_________________________________________________________________\n",
            "dense_128 (Dense)            (None, 128)               65664     \n",
            "_________________________________________________________________\n",
            "batch_normalization_26 (Batc (None, 128)               512       \n",
            "_________________________________________________________________\n",
            "dropout_22 (Dropout)         (None, 128)               0         \n",
            "_________________________________________________________________\n",
            "dense_129 (Dense)            (None, 32)                4128      \n",
            "_________________________________________________________________\n",
            "batch_normalization_27 (Batc (None, 32)                128       \n",
            "_________________________________________________________________\n",
            "dropout_23 (Dropout)         (None, 32)                0         \n",
            "_________________________________________________________________\n",
            "dense_130 (Dense)            (None, 10)                330       \n",
            "=================================================================\n",
            "Total params: 474,730\n",
            "Trainable params: 473,386\n",
            "Non-trainable params: 1,344\n",
            "_________________________________________________________________\n",
            "Train on 60000 samples, validate on 10000 samples\n",
            "Epoch 1/20\n",
            "60000/60000 [==============================] - 12s 205us/step - loss: 0.9270 - acc: 0.7134 - val_loss: 0.2504 - val_acc: 0.9282\n",
            "Epoch 2/20\n",
            "60000/60000 [==============================] - 6s 100us/step - loss: 0.4324 - acc: 0.8805 - val_loss: 0.1828 - val_acc: 0.9491\n",
            "Epoch 3/20\n",
            "60000/60000 [==============================] - 6s 101us/step - loss: 0.3357 - acc: 0.9116 - val_loss: 0.1617 - val_acc: 0.9554\n",
            "Epoch 4/20\n",
            "60000/60000 [==============================] - 6s 100us/step - loss: 0.2847 - acc: 0.9257 - val_loss: 0.1373 - val_acc: 0.9650\n",
            "Epoch 5/20\n",
            "60000/60000 [==============================] - 6s 102us/step - loss: 0.2542 - acc: 0.9343 - val_loss: 0.1267 - val_acc: 0.9662\n",
            "Epoch 6/20\n",
            "60000/60000 [==============================] - 6s 101us/step - loss: 0.2276 - acc: 0.9413 - val_loss: 0.1257 - val_acc: 0.9684\n",
            "Epoch 7/20\n",
            "60000/60000 [==============================] - 6s 101us/step - loss: 0.2111 - acc: 0.9458 - val_loss: 0.1169 - val_acc: 0.9697\n",
            "Epoch 8/20\n",
            "60000/60000 [==============================] - 6s 103us/step - loss: 0.2043 - acc: 0.9490 - val_loss: 0.1119 - val_acc: 0.9728\n",
            "Epoch 9/20\n",
            "60000/60000 [==============================] - 6s 100us/step - loss: 0.1856 - acc: 0.9531 - val_loss: 0.1033 - val_acc: 0.9733\n",
            "Epoch 10/20\n",
            "60000/60000 [==============================] - 6s 102us/step - loss: 0.1770 - acc: 0.9552 - val_loss: 0.0990 - val_acc: 0.9737\n",
            "Epoch 11/20\n",
            "60000/60000 [==============================] - 6s 101us/step - loss: 0.1701 - acc: 0.9569 - val_loss: 0.1001 - val_acc: 0.9760\n",
            "Epoch 12/20\n",
            "60000/60000 [==============================] - 6s 102us/step - loss: 0.1654 - acc: 0.9582 - val_loss: 0.0942 - val_acc: 0.9767\n",
            "Epoch 13/20\n",
            "60000/60000 [==============================] - 6s 101us/step - loss: 0.1511 - acc: 0.9621 - val_loss: 0.0982 - val_acc: 0.9763\n",
            "Epoch 14/20\n",
            "60000/60000 [==============================] - 6s 101us/step - loss: 0.1497 - acc: 0.9625 - val_loss: 0.0947 - val_acc: 0.9772\n",
            "Epoch 15/20\n",
            "60000/60000 [==============================] - 6s 100us/step - loss: 0.1479 - acc: 0.9626 - val_loss: 0.1013 - val_acc: 0.9755\n",
            "Epoch 16/20\n",
            "60000/60000 [==============================] - 6s 100us/step - loss: 0.1416 - acc: 0.9651 - val_loss: 0.0963 - val_acc: 0.9779\n",
            "Epoch 17/20\n",
            "60000/60000 [==============================] - 6s 99us/step - loss: 0.1350 - acc: 0.9669 - val_loss: 0.0941 - val_acc: 0.9779\n",
            "Epoch 18/20\n",
            "60000/60000 [==============================] - 6s 103us/step - loss: 0.1278 - acc: 0.9677 - val_loss: 0.0929 - val_acc: 0.9782\n",
            "Epoch 19/20\n",
            "60000/60000 [==============================] - 6s 100us/step - loss: 0.1245 - acc: 0.9683 - val_loss: 0.0872 - val_acc: 0.9793\n",
            "Epoch 20/20\n",
            "60000/60000 [==============================] - 6s 103us/step - loss: 0.1232 - acc: 0.9687 - val_loss: 0.0835 - val_acc: 0.9810\n"
          ],
          "name": "stdout"
        }
      ]
    },
    {
      "cell_type": "code",
      "metadata": {
        "colab_type": "code",
        "outputId": "4ec71742-eca6-4a00-9f53-7c2f415936f9",
        "id": "Se41beQn4By4",
        "colab": {
          "base_uri": "https://localhost:8080/",
          "height": 728
        }
      },
      "source": [
        "model_threelayer.compile(optimizer='adam', loss='categorical_crossentropy', metrics=['accuracy'])\n",
        "history = model_threelayer.fit(X_train, Y_train, batch_size=batch_size, epochs=nb_epoch, verbose=1, validation_data=(X_test, Y_test))"
      ],
      "execution_count": 112,
      "outputs": [
        {
          "output_type": "stream",
          "text": [
            "Train on 60000 samples, validate on 10000 samples\n",
            "Epoch 1/20\n",
            "60000/60000 [==============================] - 12s 206us/step - loss: 0.1199 - acc: 0.9701 - val_loss: 0.0827 - val_acc: 0.9802\n",
            "Epoch 2/20\n",
            "60000/60000 [==============================] - 6s 96us/step - loss: 0.1142 - acc: 0.9709 - val_loss: 0.0862 - val_acc: 0.9805\n",
            "Epoch 3/20\n",
            "60000/60000 [==============================] - 6s 100us/step - loss: 0.1136 - acc: 0.9714 - val_loss: 0.0812 - val_acc: 0.9807\n",
            "Epoch 4/20\n",
            "60000/60000 [==============================] - 6s 96us/step - loss: 0.1077 - acc: 0.9727 - val_loss: 0.0819 - val_acc: 0.9807\n",
            "Epoch 5/20\n",
            "60000/60000 [==============================] - 6s 100us/step - loss: 0.1095 - acc: 0.9722 - val_loss: 0.0832 - val_acc: 0.9819\n",
            "Epoch 6/20\n",
            "60000/60000 [==============================] - 6s 99us/step - loss: 0.1066 - acc: 0.9723 - val_loss: 0.0809 - val_acc: 0.9813\n",
            "Epoch 7/20\n",
            "60000/60000 [==============================] - 6s 99us/step - loss: 0.1040 - acc: 0.9737 - val_loss: 0.0756 - val_acc: 0.9827\n",
            "Epoch 8/20\n",
            "60000/60000 [==============================] - 6s 99us/step - loss: 0.0980 - acc: 0.9746 - val_loss: 0.0757 - val_acc: 0.9817\n",
            "Epoch 9/20\n",
            "60000/60000 [==============================] - 6s 97us/step - loss: 0.0961 - acc: 0.9757 - val_loss: 0.0753 - val_acc: 0.9818\n",
            "Epoch 10/20\n",
            "60000/60000 [==============================] - 6s 94us/step - loss: 0.0944 - acc: 0.9759 - val_loss: 0.0794 - val_acc: 0.9814\n",
            "Epoch 11/20\n",
            "60000/60000 [==============================] - 6s 96us/step - loss: 0.0941 - acc: 0.9768 - val_loss: 0.0726 - val_acc: 0.9825\n",
            "Epoch 12/20\n",
            "60000/60000 [==============================] - 6s 95us/step - loss: 0.0933 - acc: 0.9763 - val_loss: 0.0812 - val_acc: 0.9811\n",
            "Epoch 13/20\n",
            "60000/60000 [==============================] - 6s 94us/step - loss: 0.0896 - acc: 0.9775 - val_loss: 0.0852 - val_acc: 0.9811\n",
            "Epoch 14/20\n",
            "60000/60000 [==============================] - 6s 97us/step - loss: 0.0871 - acc: 0.9780 - val_loss: 0.0797 - val_acc: 0.9818\n",
            "Epoch 15/20\n",
            "60000/60000 [==============================] - 6s 93us/step - loss: 0.0840 - acc: 0.9782 - val_loss: 0.0782 - val_acc: 0.9820\n",
            "Epoch 16/20\n",
            "60000/60000 [==============================] - 6s 95us/step - loss: 0.0841 - acc: 0.9790 - val_loss: 0.0769 - val_acc: 0.9821\n",
            "Epoch 17/20\n",
            "60000/60000 [==============================] - 6s 95us/step - loss: 0.0793 - acc: 0.9794 - val_loss: 0.0787 - val_acc: 0.9827\n",
            "Epoch 18/20\n",
            "60000/60000 [==============================] - 6s 96us/step - loss: 0.0785 - acc: 0.9798 - val_loss: 0.0819 - val_acc: 0.9817\n",
            "Epoch 19/20\n",
            "60000/60000 [==============================] - 6s 93us/step - loss: 0.0773 - acc: 0.9799 - val_loss: 0.0769 - val_acc: 0.9833\n",
            "Epoch 20/20\n",
            "60000/60000 [==============================] - 6s 98us/step - loss: 0.0791 - acc: 0.9803 - val_loss: 0.0765 - val_acc: 0.9829\n"
          ],
          "name": "stdout"
        }
      ]
    },
    {
      "cell_type": "code",
      "metadata": {
        "id": "nUSSiEKF38vn",
        "colab_type": "code",
        "colab": {
          "base_uri": "https://localhost:8080/",
          "height": 314
        },
        "outputId": "d152ea90-0149-4394-e4a2-c3a8a67ce3c0"
      },
      "source": [
        "score = model_threelayer.evaluate(X_test, Y_test, verbose=0) \n",
        "print('Test score:', score[0]) \n",
        "print('Test accuracy:', score[1])\n",
        "\n",
        "fig,ax = plt.subplots(1,1)\n",
        "ax.set_xlabel('epoch') ; ax.set_ylabel('Categorical Crossentropy Loss')\n",
        "\n",
        "# list of epoch numbers\n",
        "x = list(range(1,nb_epoch+1))\n",
        "\n",
        "# print(history.history.keys())\n",
        "# dict_keys(['val_loss', 'val_acc', 'loss', 'acc'])\n",
        "# history = model_drop.fit(X_train, Y_train, batch_size=batch_size, epochs=nb_epoch, verbose=1, validation_data=(X_test, Y_test))\n",
        "\n",
        "# we will get val_loss and val_acc only when you pass the paramter validation_data\n",
        "# val_loss : validation loss\n",
        "# val_acc : validation accuracy\n",
        "\n",
        "# loss : training loss\n",
        "# acc : train accuracy\n",
        "# for each key in histrory.histrory we will have a list of length equal to number of epochs\n",
        "\n",
        "vy = history.history['val_loss']\n",
        "ty = history.history['loss']\n",
        "plt_dynamic(x, vy, ty, ax)"
      ],
      "execution_count": 113,
      "outputs": [
        {
          "output_type": "stream",
          "text": [
            "Test score: 0.07649926883412991\n",
            "Test accuracy: 0.9829\n"
          ],
          "name": "stdout"
        },
        {
          "output_type": "display_data",
          "data": {
            "image/png": "[encoded data removed]",
            "text/plain": [
              "<Figure size 432x288 with 1 Axes>"
            ]
          },
          "metadata": {
            "tags": []
          }
        }
      ]
    },
    {
      "cell_type": "markdown",
      "metadata": {
        "colab_type": "text",
        "id": "ZCdWJE0AkKK8"
      },
      "source": [
        "<h2>Five layer architecture with Dropout+Batch Normalization with ReLU as activation unit and Adam optimiser</h2>"
      ]
    },
    {
      "cell_type": "code",
      "metadata": {
        "colab_type": "code",
        "outputId": "9a8ec1a1-5243-424a-cac6-da19c4d58209",
        "id": "1diuCmJN4hfU",
        "colab": {
          "base_uri": "https://localhost:8080/",
          "height": 1000
        }
      },
      "source": [
        "model_fivelayer = Sequential()\n",
        "model_fivelayer.add(Dense(512, activation='relu', input_shape=(input_dim,), kernel_initializer=RandomNormal(mean=0.0, stddev=0.062, seed=None)))\n",
        "model_fivelayer.add(BatchNormalization())\n",
        "model_fivelayer.add(Dropout(0.5))\n",
        "\n",
        "model_fivelayer.add(Dense(256, activation='sigmoid', kernel_initializer=RandomNormal(mean=0.0, stddev=0.088, seed=None)) )\n",
        "model_fivelayer.add(BatchNormalization())\n",
        "model_fivelayer.add(Dropout(0.5))\n",
        "\n",
        "model_fivelayer.add(Dense(128, activation='sigmoid', kernel_initializer=RandomNormal(mean=0.0, stddev=0.125, seed=None)) )\n",
        "model_fivelayer.add(BatchNormalization())\n",
        "model_fivelayer.add(Dropout(0.5))\n",
        "\n",
        "model_fivelayer.add(Dense(64, activation='sigmoid', kernel_initializer=RandomNormal(mean=0.0, stddev=0.1767, seed=None)) )\n",
        "model_fivelayer.add(BatchNormalization())\n",
        "model_fivelayer.add(Dropout(0.5))\n",
        "\n",
        "model_fivelayer.add(Dense(32, activation='sigmoid', kernel_initializer=RandomNormal(mean=0.0, stddev=0.25, seed=None)) )\n",
        "model_fivelayer.add(BatchNormalization())\n",
        "model_fivelayer.add(Dropout(0.5))\n",
        "\n",
        "model_fivelayer.add(Dense(output_dim, activation='softmax'))\n",
        "model_fivelayer.summary()\n",
        "\n",
        "\n",
        "\n",
        "model_fivelayer.compile(optimizer='adam', loss='categorical_crossentropy', metrics=['accuracy'])\n",
        "history = model_fivelayer.fit(X_train, Y_train, batch_size=batch_size, epochs=nb_epoch, verbose=1, validation_data=(X_test, Y_test))\n",
        "\n"
      ],
      "execution_count": 114,
      "outputs": [
        {
          "output_type": "stream",
          "text": [
            "Model: \"sequential_44\"\n",
            "_________________________________________________________________\n",
            "Layer (type)                 Output Shape              Param #   \n",
            "=================================================================\n",
            "dense_131 (Dense)            (None, 512)               401920    \n",
            "_________________________________________________________________\n",
            "batch_normalization_28 (Batc (None, 512)               2048      \n",
            "_________________________________________________________________\n",
            "dropout_24 (Dropout)         (None, 512)               0         \n",
            "_________________________________________________________________\n",
            "dense_132 (Dense)            (None, 256)               131328    \n",
            "_________________________________________________________________\n",
            "batch_normalization_29 (Batc (None, 256)               1024      \n",
            "_________________________________________________________________\n",
            "dropout_25 (Dropout)         (None, 256)               0         \n",
            "_________________________________________________________________\n",
            "dense_133 (Dense)            (None, 128)               32896     \n",
            "_________________________________________________________________\n",
            "batch_normalization_30 (Batc (None, 128)               512       \n",
            "_________________________________________________________________\n",
            "dropout_26 (Dropout)         (None, 128)               0         \n",
            "_________________________________________________________________\n",
            "dense_134 (Dense)            (None, 64)                8256      \n",
            "_________________________________________________________________\n",
            "batch_normalization_31 (Batc (None, 64)                256       \n",
            "_________________________________________________________________\n",
            "dropout_27 (Dropout)         (None, 64)                0         \n",
            "_________________________________________________________________\n",
            "dense_135 (Dense)            (None, 32)                2080      \n",
            "_________________________________________________________________\n",
            "batch_normalization_32 (Batc (None, 32)                128       \n",
            "_________________________________________________________________\n",
            "dropout_28 (Dropout)         (None, 32)                0         \n",
            "_________________________________________________________________\n",
            "dense_136 (Dense)            (None, 10)                330       \n",
            "=================================================================\n",
            "Total params: 580,778\n",
            "Trainable params: 578,794\n",
            "Non-trainable params: 1,984\n",
            "_________________________________________________________________\n",
            "Train on 60000 samples, validate on 10000 samples\n",
            "Epoch 1/20\n",
            "60000/60000 [==============================] - 15s 246us/step - loss: 1.4107 - acc: 0.5433 - val_loss: 0.3302 - val_acc: 0.9081\n",
            "Epoch 2/20\n",
            "60000/60000 [==============================] - 8s 132us/step - loss: 0.6072 - acc: 0.8255 - val_loss: 0.2362 - val_acc: 0.9403\n",
            "Epoch 3/20\n",
            "60000/60000 [==============================] - 8s 135us/step - loss: 0.4347 - acc: 0.8876 - val_loss: 0.1865 - val_acc: 0.9551\n",
            "Epoch 4/20\n",
            "60000/60000 [==============================] - 8s 132us/step - loss: 0.3719 - acc: 0.9096 - val_loss: 0.1776 - val_acc: 0.9594\n",
            "Epoch 5/20\n",
            "60000/60000 [==============================] - 8s 137us/step - loss: 0.3240 - acc: 0.9236 - val_loss: 0.1656 - val_acc: 0.9641\n",
            "Epoch 6/20\n",
            "60000/60000 [==============================] - 8s 137us/step - loss: 0.2981 - acc: 0.9315 - val_loss: 0.1529 - val_acc: 0.9668\n",
            "Epoch 7/20\n",
            "60000/60000 [==============================] - 8s 132us/step - loss: 0.2751 - acc: 0.9372 - val_loss: 0.1467 - val_acc: 0.9688\n",
            "Epoch 8/20\n",
            "60000/60000 [==============================] - 8s 132us/step - loss: 0.2585 - acc: 0.9406 - val_loss: 0.1376 - val_acc: 0.9711\n",
            "Epoch 9/20\n",
            "60000/60000 [==============================] - 8s 134us/step - loss: 0.2456 - acc: 0.9441 - val_loss: 0.1352 - val_acc: 0.9727\n",
            "Epoch 10/20\n",
            "60000/60000 [==============================] - 8s 129us/step - loss: 0.2260 - acc: 0.9500 - val_loss: 0.1320 - val_acc: 0.9731\n",
            "Epoch 11/20\n",
            "60000/60000 [==============================] - 8s 129us/step - loss: 0.2198 - acc: 0.9506 - val_loss: 0.1229 - val_acc: 0.9744\n",
            "Epoch 12/20\n",
            "60000/60000 [==============================] - 8s 131us/step - loss: 0.2091 - acc: 0.9537 - val_loss: 0.1209 - val_acc: 0.9751\n",
            "Epoch 13/20\n",
            "60000/60000 [==============================] - 8s 130us/step - loss: 0.2036 - acc: 0.9555 - val_loss: 0.1248 - val_acc: 0.9750\n",
            "Epoch 14/20\n",
            "60000/60000 [==============================] - 8s 129us/step - loss: 0.1974 - acc: 0.9571 - val_loss: 0.1287 - val_acc: 0.9749\n",
            "Epoch 15/20\n",
            "60000/60000 [==============================] - 8s 131us/step - loss: 0.1891 - acc: 0.9587 - val_loss: 0.1134 - val_acc: 0.9772\n",
            "Epoch 16/20\n",
            "60000/60000 [==============================] - 8s 130us/step - loss: 0.1844 - acc: 0.9591 - val_loss: 0.1123 - val_acc: 0.9782\n",
            "Epoch 17/20\n",
            "60000/60000 [==============================] - 8s 129us/step - loss: 0.1795 - acc: 0.9606 - val_loss: 0.1176 - val_acc: 0.9764\n",
            "Epoch 18/20\n",
            "60000/60000 [==============================] - 8s 130us/step - loss: 0.1776 - acc: 0.9609 - val_loss: 0.1166 - val_acc: 0.9779\n",
            "Epoch 19/20\n",
            "60000/60000 [==============================] - 8s 133us/step - loss: 0.1703 - acc: 0.9628 - val_loss: 0.1140 - val_acc: 0.9767\n",
            "Epoch 20/20\n",
            "60000/60000 [==============================] - 8s 136us/step - loss: 0.1718 - acc: 0.9617 - val_loss: 0.1085 - val_acc: 0.9781\n"
          ],
          "name": "stdout"
        }
      ]
    },
    {
      "cell_type": "code",
      "metadata": {
        "colab_type": "code",
        "id": "D9sbsFQA4aBF",
        "colab": {
          "base_uri": "https://localhost:8080/",
          "height": 728
        },
        "outputId": "276919ef-d871-4f82-ceb1-55f4020fb1e9"
      },
      "source": [
        "model_fivelayer.compile(optimizer='adam', loss='categorical_crossentropy', metrics=['accuracy'])\n",
        "history = model_fivelayer.fit(X_train, Y_train, batch_size=batch_size, epochs=nb_epoch, verbose=1, validation_data=(X_test, Y_test))"
      ],
      "execution_count": 115,
      "outputs": [
        {
          "output_type": "stream",
          "text": [
            "Train on 60000 samples, validate on 10000 samples\n",
            "Epoch 1/20\n",
            "60000/60000 [==============================] - 15s 252us/step - loss: 0.1613 - acc: 0.9650 - val_loss: 0.1108 - val_acc: 0.9792\n",
            "Epoch 2/20\n",
            "60000/60000 [==============================] - 8s 134us/step - loss: 0.1638 - acc: 0.9651 - val_loss: 0.1059 - val_acc: 0.9796\n",
            "Epoch 3/20\n",
            "60000/60000 [==============================] - 8s 136us/step - loss: 0.1574 - acc: 0.9658 - val_loss: 0.1118 - val_acc: 0.9788\n",
            "Epoch 4/20\n",
            "60000/60000 [==============================] - 8s 136us/step - loss: 0.1529 - acc: 0.9671 - val_loss: 0.1101 - val_acc: 0.9791\n",
            "Epoch 5/20\n",
            "60000/60000 [==============================] - 8s 138us/step - loss: 0.1519 - acc: 0.9663 - val_loss: 0.1039 - val_acc: 0.9814\n",
            "Epoch 6/20\n",
            "60000/60000 [==============================] - 8s 137us/step - loss: 0.1514 - acc: 0.9669 - val_loss: 0.1083 - val_acc: 0.9793\n",
            "Epoch 7/20\n",
            "60000/60000 [==============================] - 8s 137us/step - loss: 0.1432 - acc: 0.9685 - val_loss: 0.1056 - val_acc: 0.9813\n",
            "Epoch 8/20\n",
            "60000/60000 [==============================] - 8s 135us/step - loss: 0.1451 - acc: 0.9686 - val_loss: 0.1008 - val_acc: 0.9814\n",
            "Epoch 9/20\n",
            "60000/60000 [==============================] - 8s 135us/step - loss: 0.1440 - acc: 0.9688 - val_loss: 0.0989 - val_acc: 0.9812\n",
            "Epoch 10/20\n",
            "60000/60000 [==============================] - 8s 132us/step - loss: 0.1361 - acc: 0.9704 - val_loss: 0.0963 - val_acc: 0.9825\n",
            "Epoch 11/20\n",
            "60000/60000 [==============================] - 8s 130us/step - loss: 0.1317 - acc: 0.9713 - val_loss: 0.0955 - val_acc: 0.9832\n",
            "Epoch 12/20\n",
            "60000/60000 [==============================] - 8s 136us/step - loss: 0.1345 - acc: 0.9700 - val_loss: 0.1043 - val_acc: 0.9814\n",
            "Epoch 13/20\n",
            "60000/60000 [==============================] - 8s 137us/step - loss: 0.1319 - acc: 0.9718 - val_loss: 0.0951 - val_acc: 0.9816\n",
            "Epoch 14/20\n",
            "60000/60000 [==============================] - 8s 138us/step - loss: 0.1282 - acc: 0.9727 - val_loss: 0.0998 - val_acc: 0.9818\n",
            "Epoch 15/20\n",
            "60000/60000 [==============================] - 8s 135us/step - loss: 0.1245 - acc: 0.9739 - val_loss: 0.1067 - val_acc: 0.9811\n",
            "Epoch 16/20\n",
            "60000/60000 [==============================] - 8s 133us/step - loss: 0.1235 - acc: 0.9731 - val_loss: 0.0983 - val_acc: 0.9820\n",
            "Epoch 17/20\n",
            "60000/60000 [==============================] - 8s 135us/step - loss: 0.1250 - acc: 0.9729 - val_loss: 0.1040 - val_acc: 0.9815\n",
            "Epoch 18/20\n",
            "60000/60000 [==============================] - 8s 134us/step - loss: 0.1206 - acc: 0.9734 - val_loss: 0.1034 - val_acc: 0.9819\n",
            "Epoch 19/20\n",
            "60000/60000 [==============================] - 8s 133us/step - loss: 0.1184 - acc: 0.9746 - val_loss: 0.0986 - val_acc: 0.9821\n",
            "Epoch 20/20\n",
            "60000/60000 [==============================] - 8s 135us/step - loss: 0.1197 - acc: 0.9741 - val_loss: 0.0980 - val_acc: 0.9836\n"
          ],
          "name": "stdout"
        }
      ]
    },
    {
      "cell_type": "code",
      "metadata": {
        "id": "KRiHnPRu4dGO",
        "colab_type": "code",
        "colab": {
          "base_uri": "https://localhost:8080/",
          "height": 314
        },
        "outputId": "783f0b47-cb12-4b85-f7f3-521655fbb985"
      },
      "source": [
        "score = model_fivelayer.evaluate(X_test, Y_test, verbose=0) \n",
        "print('Test score:', score[0]) \n",
        "print('Test accuracy:', score[1])\n",
        "\n",
        "fig,ax = plt.subplots(1,1)\n",
        "ax.set_xlabel('epoch') ; ax.set_ylabel('Categorical Crossentropy Loss')\n",
        "\n",
        "# list of epoch numbers\n",
        "x = list(range(1,nb_epoch+1))\n",
        "\n",
        "# print(history.history.keys())\n",
        "# dict_keys(['val_loss', 'val_acc', 'loss', 'acc'])\n",
        "# history = model_drop.fit(X_train, Y_train, batch_size=batch_size, epochs=nb_epoch, verbose=1, validation_data=(X_test, Y_test))\n",
        "\n",
        "# we will get val_loss and val_acc only when you pass the paramter validation_data\n",
        "# val_loss : validation loss\n",
        "# val_acc : validation accuracy\n",
        "\n",
        "# loss : training loss\n",
        "# acc : train accuracy\n",
        "# for each key in histrory.histrory we will have a list of length equal to number of epochs\n",
        "\n",
        "vy = history.history['val_loss']\n",
        "ty = history.history['loss']\n",
        "plt_dynamic(x, vy, ty, ax)"
      ],
      "execution_count": 116,
      "outputs": [
        {
          "output_type": "stream",
          "text": [
            "Test score: 0.09801922237295657\n",
            "Test accuracy: 0.9836\n"
          ],
          "name": "stdout"
        },
        {
          "output_type": "display_data",
          "data": {
            "image/png": "[encoded data removed]",
            "text/plain": [
              "<Figure size 432x288 with 1 Axes>"
            ]
          },
          "metadata": {
            "tags": []
          }
        }
      ]
    },
    {
      "cell_type": "code",
      "metadata": {
        "id": "Q-nWat1K-cJn",
        "colab_type": "code",
        "colab": {
          "base_uri": "https://localhost:8080/",
          "height": 243
        },
        "outputId": "421c931a-770e-4eb3-92aa-395cb1faba65"
      },
      "source": [
        "from prettytable import PrettyTable\n",
        "x = PrettyTable()\n",
        "x.field_names = [\"No of layers\", \"Model\", \"Test Accuracy\"]\n",
        "x.add_row([\"2\", \"Sigmoid+SGD\", 0.8757])\n",
        "x.add_row([\"2\", \"Sigmoid+Adam\", 0.9818])\n",
        "x.add_row([\"2\", \"Relu+SGD\", 0.9626])\n",
        "x.add_row([\"2\", \"Relu+adam\", 0.981])\n",
        "x.add_row([\"2\", \"Relu+BN+Adam\", 0.9711])\n",
        "x.add_row([\"2\", \"Dropout+Adam\", 0.9691])\n",
        "x.add_row([\"2\", \"BN+Dropout+Relu+Adam\",0.9832])\n",
        "x.add_row([\"3\", \"BN+Dropout+Relu+Adam\",0.9829])\n",
        "x.add_row([\"5\", \"BN+Dropout+Relu+Adam\",0.9836])\n",
        "print(x)"
      ],
      "execution_count": 117,
      "outputs": [
        {
          "output_type": "stream",
          "text": [
            "+--------------+----------------------+---------------+\n",
            "| No of layers |        Model         | Test Accuracy |\n",
            "+--------------+----------------------+---------------+\n",
            "|      2       |     Sigmoid+SGD      |     0.8757    |\n",
            "|      2       |     Sigmoid+Adam     |     0.9818    |\n",
            "|      2       |       Relu+SGD       |     0.9626    |\n",
            "|      2       |      Relu+adam       |     0.981     |\n",
            "|      2       |     Relu+BN+Adam     |     0.9711    |\n",
            "|      2       |     Dropout+Adam     |     0.9691    |\n",
            "|      2       | BN+Dropout+Relu+Adam |     0.9832    |\n",
            "|      3       | BN+Dropout+Relu+Adam |     0.9829    |\n",
            "|      5       | BN+Dropout+Relu+Adam |     0.9836    |\n",
            "+--------------+----------------------+---------------+\n"
          ],
          "name": "stdout"
        }
      ]
    }
  ]
}