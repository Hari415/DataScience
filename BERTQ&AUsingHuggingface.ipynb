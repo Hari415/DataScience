{
  "nbformat": 4,
  "nbformat_minor": 0,
  "metadata": {
    "colab": {
      "name": "BERTQ&AUsingHuggingface.ipynb",
      "provenance": [],
      "authorship_tag": "ABX9TyPxOsFFgECBNBCnMkH4bFYN"
    },
    "kernelspec": {
      "name": "python3",
      "display_name": "Python 3"
    },
    "widgets": {
      "application/vnd.jupyter.widget-state+json": {
        "ccb36f50fe9044df94c148588841a7c7": {
          "model_module": "@jupyter-widgets/controls",
          "model_name": "HBoxModel",
          "state": {
            "_view_name": "HBoxView",
            "_dom_classes": [],
            "_model_name": "HBoxModel",
            "_view_module": "@jupyter-widgets/controls",
            "_model_module_version": "1.5.0",
            "_view_count": null,
            "_view_module_version": "1.5.0",
            "box_style": "",
            "layout": "IPY_MODEL_4beb4e62b05b4e7b9bc207c1b9009418",
            "_model_module": "@jupyter-widgets/controls",
            "children": [
              "IPY_MODEL_d041f1f4d0bc4d8f824a7faaed37183e",
              "IPY_MODEL_5e60f50a79ee4ec2b11601aa0d6e9679"
            ]
          }
        },
        "4beb4e62b05b4e7b9bc207c1b9009418": {
          "model_module": "@jupyter-widgets/base",
          "model_name": "LayoutModel",
          "state": {
            "_view_name": "LayoutView",
            "grid_template_rows": null,
            "right": null,
            "justify_content": null,
            "_view_module": "@jupyter-widgets/base",
            "overflow": null,
            "_model_module_version": "1.2.0",
            "_view_count": null,
            "flex_flow": null,
            "width": null,
            "min_width": null,
            "border": null,
            "align_items": null,
            "bottom": null,
            "_model_module": "@jupyter-widgets/base",
            "top": null,
            "grid_column": null,
            "overflow_y": null,
            "overflow_x": null,
            "grid_auto_flow": null,
            "grid_area": null,
            "grid_template_columns": null,
            "flex": null,
            "_model_name": "LayoutModel",
            "justify_items": null,
            "grid_row": null,
            "max_height": null,
            "align_content": null,
            "visibility": null,
            "align_self": null,
            "height": null,
            "min_height": null,
            "padding": null,
            "grid_auto_rows": null,
            "grid_gap": null,
            "max_width": null,
            "order": null,
            "_view_module_version": "1.2.0",
            "grid_template_areas": null,
            "object_position": null,
            "object_fit": null,
            "grid_auto_columns": null,
            "margin": null,
            "display": null,
            "left": null
          }
        },
        "d041f1f4d0bc4d8f824a7faaed37183e": {
          "model_module": "@jupyter-widgets/controls",
          "model_name": "FloatProgressModel",
          "state": {
            "_view_name": "ProgressView",
            "style": "IPY_MODEL_065cfb9f29ac4814b7126594e5f9a523",
            "_dom_classes": [],
            "description": "Downloading: 100%",
            "_model_name": "FloatProgressModel",
            "bar_style": "success",
            "max": 231508,
            "_view_module": "@jupyter-widgets/controls",
            "_model_module_version": "1.5.0",
            "value": 231508,
            "_view_count": null,
            "_view_module_version": "1.5.0",
            "orientation": "horizontal",
            "min": 0,
            "description_tooltip": null,
            "_model_module": "@jupyter-widgets/controls",
            "layout": "IPY_MODEL_79d2dced99ea48c0a62f6c108ec9023f"
          }
        },
        "5e60f50a79ee4ec2b11601aa0d6e9679": {
          "model_module": "@jupyter-widgets/controls",
          "model_name": "HTMLModel",
          "state": {
            "_view_name": "HTMLView",
            "style": "IPY_MODEL_d1c466a2d8e84488a50b374ae018946e",
            "_dom_classes": [],
            "description": "",
            "_model_name": "HTMLModel",
            "placeholder": "​",
            "_view_module": "@jupyter-widgets/controls",
            "_model_module_version": "1.5.0",
            "value": " 232k/232k [00:00&lt;00:00, 897kB/s]",
            "_view_count": null,
            "_view_module_version": "1.5.0",
            "description_tooltip": null,
            "_model_module": "@jupyter-widgets/controls",
            "layout": "IPY_MODEL_b924258d539f4443a2dcbeac1432534d"
          }
        },
        "065cfb9f29ac4814b7126594e5f9a523": {
          "model_module": "@jupyter-widgets/controls",
          "model_name": "ProgressStyleModel",
          "state": {
            "_view_name": "StyleView",
            "_model_name": "ProgressStyleModel",
            "description_width": "initial",
            "_view_module": "@jupyter-widgets/base",
            "_model_module_version": "1.5.0",
            "_view_count": null,
            "_view_module_version": "1.2.0",
            "bar_color": null,
            "_model_module": "@jupyter-widgets/controls"
          }
        },
        "79d2dced99ea48c0a62f6c108ec9023f": {
          "model_module": "@jupyter-widgets/base",
          "model_name": "LayoutModel",
          "state": {
            "_view_name": "LayoutView",
            "grid_template_rows": null,
            "right": null,
            "justify_content": null,
            "_view_module": "@jupyter-widgets/base",
            "overflow": null,
            "_model_module_version": "1.2.0",
            "_view_count": null,
            "flex_flow": null,
            "width": null,
            "min_width": null,
            "border": null,
            "align_items": null,
            "bottom": null,
            "_model_module": "@jupyter-widgets/base",
            "top": null,
            "grid_column": null,
            "overflow_y": null,
            "overflow_x": null,
            "grid_auto_flow": null,
            "grid_area": null,
            "grid_template_columns": null,
            "flex": null,
            "_model_name": "LayoutModel",
            "justify_items": null,
            "grid_row": null,
            "max_height": null,
            "align_content": null,
            "visibility": null,
            "align_self": null,
            "height": null,
            "min_height": null,
            "padding": null,
            "grid_auto_rows": null,
            "grid_gap": null,
            "max_width": null,
            "order": null,
            "_view_module_version": "1.2.0",
            "grid_template_areas": null,
            "object_position": null,
            "object_fit": null,
            "grid_auto_columns": null,
            "margin": null,
            "display": null,
            "left": null
          }
        },
        "d1c466a2d8e84488a50b374ae018946e": {
          "model_module": "@jupyter-widgets/controls",
          "model_name": "DescriptionStyleModel",
          "state": {
            "_view_name": "StyleView",
            "_model_name": "DescriptionStyleModel",
            "description_width": "",
            "_view_module": "@jupyter-widgets/base",
            "_model_module_version": "1.5.0",
            "_view_count": null,
            "_view_module_version": "1.2.0",
            "_model_module": "@jupyter-widgets/controls"
          }
        },
        "b924258d539f4443a2dcbeac1432534d": {
          "model_module": "@jupyter-widgets/base",
          "model_name": "LayoutModel",
          "state": {
            "_view_name": "LayoutView",
            "grid_template_rows": null,
            "right": null,
            "justify_content": null,
            "_view_module": "@jupyter-widgets/base",
            "overflow": null,
            "_model_module_version": "1.2.0",
            "_view_count": null,
            "flex_flow": null,
            "width": null,
            "min_width": null,
            "border": null,
            "align_items": null,
            "bottom": null,
            "_model_module": "@jupyter-widgets/base",
            "top": null,
            "grid_column": null,
            "overflow_y": null,
            "overflow_x": null,
            "grid_auto_flow": null,
            "grid_area": null,
            "grid_template_columns": null,
            "flex": null,
            "_model_name": "LayoutModel",
            "justify_items": null,
            "grid_row": null,
            "max_height": null,
            "align_content": null,
            "visibility": null,
            "align_self": null,
            "height": null,
            "min_height": null,
            "padding": null,
            "grid_auto_rows": null,
            "grid_gap": null,
            "max_width": null,
            "order": null,
            "_view_module_version": "1.2.0",
            "grid_template_areas": null,
            "object_position": null,
            "object_fit": null,
            "grid_auto_columns": null,
            "margin": null,
            "display": null,
            "left": null
          }
        },
        "6d5253ef39ca4c76bde104fa0c534a65": {
          "model_module": "@jupyter-widgets/controls",
          "model_name": "HBoxModel",
          "state": {
            "_view_name": "HBoxView",
            "_dom_classes": [],
            "_model_name": "HBoxModel",
            "_view_module": "@jupyter-widgets/controls",
            "_model_module_version": "1.5.0",
            "_view_count": null,
            "_view_module_version": "1.5.0",
            "box_style": "",
            "layout": "IPY_MODEL_836eb8109da1488aaa96a67c652fa372",
            "_model_module": "@jupyter-widgets/controls",
            "children": [
              "IPY_MODEL_219916925c184f90aa5833fb6c1ebdaa",
              "IPY_MODEL_57beaa9c5cdd460da41297b3510fbb1e"
            ]
          }
        },
        "836eb8109da1488aaa96a67c652fa372": {
          "model_module": "@jupyter-widgets/base",
          "model_name": "LayoutModel",
          "state": {
            "_view_name": "LayoutView",
            "grid_template_rows": null,
            "right": null,
            "justify_content": null,
            "_view_module": "@jupyter-widgets/base",
            "overflow": null,
            "_model_module_version": "1.2.0",
            "_view_count": null,
            "flex_flow": null,
            "width": null,
            "min_width": null,
            "border": null,
            "align_items": null,
            "bottom": null,
            "_model_module": "@jupyter-widgets/base",
            "top": null,
            "grid_column": null,
            "overflow_y": null,
            "overflow_x": null,
            "grid_auto_flow": null,
            "grid_area": null,
            "grid_template_columns": null,
            "flex": null,
            "_model_name": "LayoutModel",
            "justify_items": null,
            "grid_row": null,
            "max_height": null,
            "align_content": null,
            "visibility": null,
            "align_self": null,
            "height": null,
            "min_height": null,
            "padding": null,
            "grid_auto_rows": null,
            "grid_gap": null,
            "max_width": null,
            "order": null,
            "_view_module_version": "1.2.0",
            "grid_template_areas": null,
            "object_position": null,
            "object_fit": null,
            "grid_auto_columns": null,
            "margin": null,
            "display": null,
            "left": null
          }
        },
        "219916925c184f90aa5833fb6c1ebdaa": {
          "model_module": "@jupyter-widgets/controls",
          "model_name": "FloatProgressModel",
          "state": {
            "_view_name": "ProgressView",
            "style": "IPY_MODEL_6b298838bfe64559b2f2ebc247e0f6d3",
            "_dom_classes": [],
            "description": "Downloading: 100%",
            "_model_name": "FloatProgressModel",
            "bar_style": "success",
            "max": 443,
            "_view_module": "@jupyter-widgets/controls",
            "_model_module_version": "1.5.0",
            "value": 443,
            "_view_count": null,
            "_view_module_version": "1.5.0",
            "orientation": "horizontal",
            "min": 0,
            "description_tooltip": null,
            "_model_module": "@jupyter-widgets/controls",
            "layout": "IPY_MODEL_73ebc55dd6e3407593cf2a85ece6660c"
          }
        },
        "57beaa9c5cdd460da41297b3510fbb1e": {
          "model_module": "@jupyter-widgets/controls",
          "model_name": "HTMLModel",
          "state": {
            "_view_name": "HTMLView",
            "style": "IPY_MODEL_e473c25b4ebd4d8c8d57f542603eb712",
            "_dom_classes": [],
            "description": "",
            "_model_name": "HTMLModel",
            "placeholder": "​",
            "_view_module": "@jupyter-widgets/controls",
            "_model_module_version": "1.5.0",
            "value": " 443/443 [00:53&lt;00:00, 8.32B/s]",
            "_view_count": null,
            "_view_module_version": "1.5.0",
            "description_tooltip": null,
            "_model_module": "@jupyter-widgets/controls",
            "layout": "IPY_MODEL_dc3b4205665a4f4d9a78ca8a8261e81e"
          }
        },
        "6b298838bfe64559b2f2ebc247e0f6d3": {
          "model_module": "@jupyter-widgets/controls",
          "model_name": "ProgressStyleModel",
          "state": {
            "_view_name": "StyleView",
            "_model_name": "ProgressStyleModel",
            "description_width": "initial",
            "_view_module": "@jupyter-widgets/base",
            "_model_module_version": "1.5.0",
            "_view_count": null,
            "_view_module_version": "1.2.0",
            "bar_color": null,
            "_model_module": "@jupyter-widgets/controls"
          }
        },
        "73ebc55dd6e3407593cf2a85ece6660c": {
          "model_module": "@jupyter-widgets/base",
          "model_name": "LayoutModel",
          "state": {
            "_view_name": "LayoutView",
            "grid_template_rows": null,
            "right": null,
            "justify_content": null,
            "_view_module": "@jupyter-widgets/base",
            "overflow": null,
            "_model_module_version": "1.2.0",
            "_view_count": null,
            "flex_flow": null,
            "width": null,
            "min_width": null,
            "border": null,
            "align_items": null,
            "bottom": null,
            "_model_module": "@jupyter-widgets/base",
            "top": null,
            "grid_column": null,
            "overflow_y": null,
            "overflow_x": null,
            "grid_auto_flow": null,
            "grid_area": null,
            "grid_template_columns": null,
            "flex": null,
            "_model_name": "LayoutModel",
            "justify_items": null,
            "grid_row": null,
            "max_height": null,
            "align_content": null,
            "visibility": null,
            "align_self": null,
            "height": null,
            "min_height": null,
            "padding": null,
            "grid_auto_rows": null,
            "grid_gap": null,
            "max_width": null,
            "order": null,
            "_view_module_version": "1.2.0",
            "grid_template_areas": null,
            "object_position": null,
            "object_fit": null,
            "grid_auto_columns": null,
            "margin": null,
            "display": null,
            "left": null
          }
        },
        "e473c25b4ebd4d8c8d57f542603eb712": {
          "model_module": "@jupyter-widgets/controls",
          "model_name": "DescriptionStyleModel",
          "state": {
            "_view_name": "StyleView",
            "_model_name": "DescriptionStyleModel",
            "description_width": "",
            "_view_module": "@jupyter-widgets/base",
            "_model_module_version": "1.5.0",
            "_view_count": null,
            "_view_module_version": "1.2.0",
            "_model_module": "@jupyter-widgets/controls"
          }
        },
        "dc3b4205665a4f4d9a78ca8a8261e81e": {
          "model_module": "@jupyter-widgets/base",
          "model_name": "LayoutModel",
          "state": {
            "_view_name": "LayoutView",
            "grid_template_rows": null,
            "right": null,
            "justify_content": null,
            "_view_module": "@jupyter-widgets/base",
            "overflow": null,
            "_model_module_version": "1.2.0",
            "_view_count": null,
            "flex_flow": null,
            "width": null,
            "min_width": null,
            "border": null,
            "align_items": null,
            "bottom": null,
            "_model_module": "@jupyter-widgets/base",
            "top": null,
            "grid_column": null,
            "overflow_y": null,
            "overflow_x": null,
            "grid_auto_flow": null,
            "grid_area": null,
            "grid_template_columns": null,
            "flex": null,
            "_model_name": "LayoutModel",
            "justify_items": null,
            "grid_row": null,
            "max_height": null,
            "align_content": null,
            "visibility": null,
            "align_self": null,
            "height": null,
            "min_height": null,
            "padding": null,
            "grid_auto_rows": null,
            "grid_gap": null,
            "max_width": null,
            "order": null,
            "_view_module_version": "1.2.0",
            "grid_template_areas": null,
            "object_position": null,
            "object_fit": null,
            "grid_auto_columns": null,
            "margin": null,
            "display": null,
            "left": null
          }
        },
        "b9d2225320a348768e0ec0447248b143": {
          "model_module": "@jupyter-widgets/controls",
          "model_name": "HBoxModel",
          "state": {
            "_view_name": "HBoxView",
            "_dom_classes": [],
            "_model_name": "HBoxModel",
            "_view_module": "@jupyter-widgets/controls",
            "_model_module_version": "1.5.0",
            "_view_count": null,
            "_view_module_version": "1.5.0",
            "box_style": "",
            "layout": "IPY_MODEL_fb889e4834bf40a18c5a3fdcf938fbef",
            "_model_module": "@jupyter-widgets/controls",
            "children": [
              "IPY_MODEL_eac4e54c05d74faba48fc21ca956b8f8",
              "IPY_MODEL_f64af5d580dd492e8a915de01abc0fd0"
            ]
          }
        },
        "fb889e4834bf40a18c5a3fdcf938fbef": {
          "model_module": "@jupyter-widgets/base",
          "model_name": "LayoutModel",
          "state": {
            "_view_name": "LayoutView",
            "grid_template_rows": null,
            "right": null,
            "justify_content": null,
            "_view_module": "@jupyter-widgets/base",
            "overflow": null,
            "_model_module_version": "1.2.0",
            "_view_count": null,
            "flex_flow": null,
            "width": null,
            "min_width": null,
            "border": null,
            "align_items": null,
            "bottom": null,
            "_model_module": "@jupyter-widgets/base",
            "top": null,
            "grid_column": null,
            "overflow_y": null,
            "overflow_x": null,
            "grid_auto_flow": null,
            "grid_area": null,
            "grid_template_columns": null,
            "flex": null,
            "_model_name": "LayoutModel",
            "justify_items": null,
            "grid_row": null,
            "max_height": null,
            "align_content": null,
            "visibility": null,
            "align_self": null,
            "height": null,
            "min_height": null,
            "padding": null,
            "grid_auto_rows": null,
            "grid_gap": null,
            "max_width": null,
            "order": null,
            "_view_module_version": "1.2.0",
            "grid_template_areas": null,
            "object_position": null,
            "object_fit": null,
            "grid_auto_columns": null,
            "margin": null,
            "display": null,
            "left": null
          }
        },
        "eac4e54c05d74faba48fc21ca956b8f8": {
          "model_module": "@jupyter-widgets/controls",
          "model_name": "FloatProgressModel",
          "state": {
            "_view_name": "ProgressView",
            "style": "IPY_MODEL_e17d457c72c2475c87b18f9a969c9471",
            "_dom_classes": [],
            "description": "Downloading: 100%",
            "_model_name": "FloatProgressModel",
            "bar_style": "success",
            "max": 1341090760,
            "_view_module": "@jupyter-widgets/controls",
            "_model_module_version": "1.5.0",
            "value": 1341090760,
            "_view_count": null,
            "_view_module_version": "1.5.0",
            "orientation": "horizontal",
            "min": 0,
            "description_tooltip": null,
            "_model_module": "@jupyter-widgets/controls",
            "layout": "IPY_MODEL_386cce4a066149fda7a615c59f25825c"
          }
        },
        "f64af5d580dd492e8a915de01abc0fd0": {
          "model_module": "@jupyter-widgets/controls",
          "model_name": "HTMLModel",
          "state": {
            "_view_name": "HTMLView",
            "style": "IPY_MODEL_6fa28498872a47e1aff2f5b7d0b73acb",
            "_dom_classes": [],
            "description": "",
            "_model_name": "HTMLModel",
            "placeholder": "​",
            "_view_module": "@jupyter-widgets/controls",
            "_model_module_version": "1.5.0",
            "value": " 1.34G/1.34G [00:52&lt;00:00, 25.3MB/s]",
            "_view_count": null,
            "_view_module_version": "1.5.0",
            "description_tooltip": null,
            "_model_module": "@jupyter-widgets/controls",
            "layout": "IPY_MODEL_87fbe26cee1846e8ba39e78250ee49fa"
          }
        },
        "e17d457c72c2475c87b18f9a969c9471": {
          "model_module": "@jupyter-widgets/controls",
          "model_name": "ProgressStyleModel",
          "state": {
            "_view_name": "StyleView",
            "_model_name": "ProgressStyleModel",
            "description_width": "initial",
            "_view_module": "@jupyter-widgets/base",
            "_model_module_version": "1.5.0",
            "_view_count": null,
            "_view_module_version": "1.2.0",
            "bar_color": null,
            "_model_module": "@jupyter-widgets/controls"
          }
        },
        "386cce4a066149fda7a615c59f25825c": {
          "model_module": "@jupyter-widgets/base",
          "model_name": "LayoutModel",
          "state": {
            "_view_name": "LayoutView",
            "grid_template_rows": null,
            "right": null,
            "justify_content": null,
            "_view_module": "@jupyter-widgets/base",
            "overflow": null,
            "_model_module_version": "1.2.0",
            "_view_count": null,
            "flex_flow": null,
            "width": null,
            "min_width": null,
            "border": null,
            "align_items": null,
            "bottom": null,
            "_model_module": "@jupyter-widgets/base",
            "top": null,
            "grid_column": null,
            "overflow_y": null,
            "overflow_x": null,
            "grid_auto_flow": null,
            "grid_area": null,
            "grid_template_columns": null,
            "flex": null,
            "_model_name": "LayoutModel",
            "justify_items": null,
            "grid_row": null,
            "max_height": null,
            "align_content": null,
            "visibility": null,
            "align_self": null,
            "height": null,
            "min_height": null,
            "padding": null,
            "grid_auto_rows": null,
            "grid_gap": null,
            "max_width": null,
            "order": null,
            "_view_module_version": "1.2.0",
            "grid_template_areas": null,
            "object_position": null,
            "object_fit": null,
            "grid_auto_columns": null,
            "margin": null,
            "display": null,
            "left": null
          }
        },
        "6fa28498872a47e1aff2f5b7d0b73acb": {
          "model_module": "@jupyter-widgets/controls",
          "model_name": "DescriptionStyleModel",
          "state": {
            "_view_name": "StyleView",
            "_model_name": "DescriptionStyleModel",
            "description_width": "",
            "_view_module": "@jupyter-widgets/base",
            "_model_module_version": "1.5.0",
            "_view_count": null,
            "_view_module_version": "1.2.0",
            "_model_module": "@jupyter-widgets/controls"
          }
        },
        "87fbe26cee1846e8ba39e78250ee49fa": {
          "model_module": "@jupyter-widgets/base",
          "model_name": "LayoutModel",
          "state": {
            "_view_name": "LayoutView",
            "grid_template_rows": null,
            "right": null,
            "justify_content": null,
            "_view_module": "@jupyter-widgets/base",
            "overflow": null,
            "_model_module_version": "1.2.0",
            "_view_count": null,
            "flex_flow": null,
            "width": null,
            "min_width": null,
            "border": null,
            "align_items": null,
            "bottom": null,
            "_model_module": "@jupyter-widgets/base",
            "top": null,
            "grid_column": null,
            "overflow_y": null,
            "overflow_x": null,
            "grid_auto_flow": null,
            "grid_area": null,
            "grid_template_columns": null,
            "flex": null,
            "_model_name": "LayoutModel",
            "justify_items": null,
            "grid_row": null,
            "max_height": null,
            "align_content": null,
            "visibility": null,
            "align_self": null,
            "height": null,
            "min_height": null,
            "padding": null,
            "grid_auto_rows": null,
            "grid_gap": null,
            "max_width": null,
            "order": null,
            "_view_module_version": "1.2.0",
            "grid_template_areas": null,
            "object_position": null,
            "object_fit": null,
            "grid_auto_columns": null,
            "margin": null,
            "display": null,
            "left": null
          }
        }
      }
    }
  },
  "cells": [
    {
      "cell_type": "code",
      "metadata": {
        "id": "K_i1Jt9EEsyv",
        "colab_type": "code",
        "colab": {
          "base_uri": "https://localhost:8080/",
          "height": 644
        },
        "outputId": "9d9de578-e495-4048-cb00-bf0dcdf5a5ea"
      },
      "source": [
        "! pip install transformers\n",
        "import tensorflow as tf\n",
        "print(tf.__version__)"
      ],
      "execution_count": 2,
      "outputs": [
        {
          "output_type": "stream",
          "text": [
            "Collecting transformers\n",
            "\u001b[?25l  Downloading https://files.pythonhosted.org/packages/27/3c/91ed8f5c4e7ef3227b4119200fc0ed4b4fd965b1f0172021c25701087825/transformers-3.0.2-py3-none-any.whl (769kB)\n",
            "\r\u001b[K     |▍                               | 10kB 16.7MB/s eta 0:00:01\r\u001b[K     |▉                               | 20kB 2.8MB/s eta 0:00:01\r\u001b[K     |█▎                              | 30kB 3.7MB/s eta 0:00:01\r\u001b[K     |█▊                              | 40kB 4.1MB/s eta 0:00:01\r\u001b[K     |██▏                             | 51kB 3.2MB/s eta 0:00:01\r\u001b[K     |██▋                             | 61kB 3.6MB/s eta 0:00:01\r\u001b[K     |███                             | 71kB 3.9MB/s eta 0:00:01\r\u001b[K     |███▍                            | 81kB 4.2MB/s eta 0:00:01\r\u001b[K     |███▉                            | 92kB 4.6MB/s eta 0:00:01\r\u001b[K     |████▎                           | 102kB 4.4MB/s eta 0:00:01\r\u001b[K     |████▊                           | 112kB 4.4MB/s eta 0:00:01\r\u001b[K     |█████▏                          | 122kB 4.4MB/s eta 0:00:01\r\u001b[K     |█████▌                          | 133kB 4.4MB/s eta 0:00:01\r\u001b[K     |██████                          | 143kB 4.4MB/s eta 0:00:01\r\u001b[K     |██████▍                         | 153kB 4.4MB/s eta 0:00:01\r\u001b[K     |██████▉                         | 163kB 4.4MB/s eta 0:00:01\r\u001b[K     |███████▎                        | 174kB 4.4MB/s eta 0:00:01\r\u001b[K     |███████▊                        | 184kB 4.4MB/s eta 0:00:01\r\u001b[K     |████████                        | 194kB 4.4MB/s eta 0:00:01\r\u001b[K     |████████▌                       | 204kB 4.4MB/s eta 0:00:01\r\u001b[K     |█████████                       | 215kB 4.4MB/s eta 0:00:01\r\u001b[K     |█████████▍                      | 225kB 4.4MB/s eta 0:00:01\r\u001b[K     |█████████▉                      | 235kB 4.4MB/s eta 0:00:01\r\u001b[K     |██████████▎                     | 245kB 4.4MB/s eta 0:00:01\r\u001b[K     |██████████▋                     | 256kB 4.4MB/s eta 0:00:01\r\u001b[K     |███████████                     | 266kB 4.4MB/s eta 0:00:01\r\u001b[K     |███████████▌                    | 276kB 4.4MB/s eta 0:00:01\r\u001b[K     |████████████                    | 286kB 4.4MB/s eta 0:00:01\r\u001b[K     |████████████▍                   | 296kB 4.4MB/s eta 0:00:01\r\u001b[K     |████████████▉                   | 307kB 4.4MB/s eta 0:00:01\r\u001b[K     |█████████████▏                  | 317kB 4.4MB/s eta 0:00:01\r\u001b[K     |█████████████▋                  | 327kB 4.4MB/s eta 0:00:01\r\u001b[K     |██████████████                  | 337kB 4.4MB/s eta 0:00:01\r\u001b[K     |██████████████▌                 | 348kB 4.4MB/s eta 0:00:01\r\u001b[K     |███████████████                 | 358kB 4.4MB/s eta 0:00:01\r\u001b[K     |███████████████▍                | 368kB 4.4MB/s eta 0:00:01\r\u001b[K     |███████████████▊                | 378kB 4.4MB/s eta 0:00:01\r\u001b[K     |████████████████▏               | 389kB 4.4MB/s eta 0:00:01\r\u001b[K     |████████████████▋               | 399kB 4.4MB/s eta 0:00:01\r\u001b[K     |█████████████████               | 409kB 4.4MB/s eta 0:00:01\r\u001b[K     |█████████████████▌              | 419kB 4.4MB/s eta 0:00:01\r\u001b[K     |██████████████████              | 430kB 4.4MB/s eta 0:00:01\r\u001b[K     |██████████████████▎             | 440kB 4.4MB/s eta 0:00:01\r\u001b[K     |██████████████████▊             | 450kB 4.4MB/s eta 0:00:01\r\u001b[K     |███████████████████▏            | 460kB 4.4MB/s eta 0:00:01\r\u001b[K     |███████████████████▋            | 471kB 4.4MB/s eta 0:00:01\r\u001b[K     |████████████████████            | 481kB 4.4MB/s eta 0:00:01\r\u001b[K     |████████████████████▌           | 491kB 4.4MB/s eta 0:00:01\r\u001b[K     |████████████████████▉           | 501kB 4.4MB/s eta 0:00:01\r\u001b[K     |█████████████████████▎          | 512kB 4.4MB/s eta 0:00:01\r\u001b[K     |█████████████████████▊          | 522kB 4.4MB/s eta 0:00:01\r\u001b[K     |██████████████████████▏         | 532kB 4.4MB/s eta 0:00:01\r\u001b[K     |██████████████████████▋         | 542kB 4.4MB/s eta 0:00:01\r\u001b[K     |███████████████████████         | 552kB 4.4MB/s eta 0:00:01\r\u001b[K     |███████████████████████▍        | 563kB 4.4MB/s eta 0:00:01\r\u001b[K     |███████████████████████▉        | 573kB 4.4MB/s eta 0:00:01\r\u001b[K     |████████████████████████▎       | 583kB 4.4MB/s eta 0:00:01\r\u001b[K     |████████████████████████▊       | 593kB 4.4MB/s eta 0:00:01\r\u001b[K     |█████████████████████████▏      | 604kB 4.4MB/s eta 0:00:01\r\u001b[K     |█████████████████████████▋      | 614kB 4.4MB/s eta 0:00:01\r\u001b[K     |██████████████████████████      | 624kB 4.4MB/s eta 0:00:01\r\u001b[K     |██████████████████████████▍     | 634kB 4.4MB/s eta 0:00:01\r\u001b[K     |██████████████████████████▉     | 645kB 4.4MB/s eta 0:00:01\r\u001b[K     |███████████████████████████▎    | 655kB 4.4MB/s eta 0:00:01\r\u001b[K     |███████████████████████████▊    | 665kB 4.4MB/s eta 0:00:01\r\u001b[K     |████████████████████████████▏   | 675kB 4.4MB/s eta 0:00:01\r\u001b[K     |████████████████████████████▌   | 686kB 4.4MB/s eta 0:00:01\r\u001b[K     |█████████████████████████████   | 696kB 4.4MB/s eta 0:00:01\r\u001b[K     |█████████████████████████████▍  | 706kB 4.4MB/s eta 0:00:01\r\u001b[K     |█████████████████████████████▉  | 716kB 4.4MB/s eta 0:00:01\r\u001b[K     |██████████████████████████████▎ | 727kB 4.4MB/s eta 0:00:01\r\u001b[K     |██████████████████████████████▊ | 737kB 4.4MB/s eta 0:00:01\r\u001b[K     |███████████████████████████████ | 747kB 4.4MB/s eta 0:00:01\r\u001b[K     |███████████████████████████████▌| 757kB 4.4MB/s eta 0:00:01\r\u001b[K     |████████████████████████████████| 768kB 4.4MB/s eta 0:00:01\r\u001b[K     |████████████████████████████████| 778kB 4.4MB/s \n",
            "\u001b[?25hRequirement already satisfied: requests in /usr/local/lib/python3.6/dist-packages (from transformers) (2.23.0)\n",
            "Collecting sentencepiece!=0.1.92\n",
            "\u001b[?25l  Downloading https://files.pythonhosted.org/packages/d4/a4/d0a884c4300004a78cca907a6ff9a5e9fe4f090f5d95ab341c53d28cbc58/sentencepiece-0.1.91-cp36-cp36m-manylinux1_x86_64.whl (1.1MB)\n",
            "\u001b[K     |████████████████████████████████| 1.1MB 19.1MB/s \n",
            "\u001b[?25hRequirement already satisfied: filelock in /usr/local/lib/python3.6/dist-packages (from transformers) (3.0.12)\n",
            "Requirement already satisfied: tqdm>=4.27 in /usr/local/lib/python3.6/dist-packages (from transformers) (4.41.1)\n",
            "Collecting tokenizers==0.8.1.rc1\n",
            "\u001b[?25l  Downloading https://files.pythonhosted.org/packages/40/d0/30d5f8d221a0ed981a186c8eb986ce1c94e3a6e87f994eae9f4aa5250217/tokenizers-0.8.1rc1-cp36-cp36m-manylinux1_x86_64.whl (3.0MB)\n",
            "\u001b[K     |████████████████████████████████| 3.0MB 28.4MB/s \n",
            "\u001b[?25hRequirement already satisfied: numpy in /usr/local/lib/python3.6/dist-packages (from transformers) (1.18.5)\n",
            "Collecting sacremoses\n",
            "\u001b[?25l  Downloading https://files.pythonhosted.org/packages/7d/34/09d19aff26edcc8eb2a01bed8e98f13a1537005d31e95233fd48216eed10/sacremoses-0.0.43.tar.gz (883kB)\n",
            "\u001b[K     |████████████████████████████████| 890kB 13.8MB/s \n",
            "\u001b[?25hRequirement already satisfied: packaging in /usr/local/lib/python3.6/dist-packages (from transformers) (20.4)\n",
            "Requirement already satisfied: regex!=2019.12.17 in /usr/local/lib/python3.6/dist-packages (from transformers) (2019.12.20)\n",
            "Requirement already satisfied: dataclasses; python_version < \"3.7\" in /usr/local/lib/python3.6/dist-packages (from transformers) (0.7)\n",
            "Requirement already satisfied: urllib3!=1.25.0,!=1.25.1,<1.26,>=1.21.1 in /usr/local/lib/python3.6/dist-packages (from requests->transformers) (1.24.3)\n",
            "Requirement already satisfied: idna<3,>=2.5 in /usr/local/lib/python3.6/dist-packages (from requests->transformers) (2.10)\n",
            "Requirement already satisfied: certifi>=2017.4.17 in /usr/local/lib/python3.6/dist-packages (from requests->transformers) (2020.6.20)\n",
            "Requirement already satisfied: chardet<4,>=3.0.2 in /usr/local/lib/python3.6/dist-packages (from requests->transformers) (3.0.4)\n",
            "Requirement already satisfied: six in /usr/local/lib/python3.6/dist-packages (from sacremoses->transformers) (1.15.0)\n",
            "Requirement already satisfied: click in /usr/local/lib/python3.6/dist-packages (from sacremoses->transformers) (7.1.2)\n",
            "Requirement already satisfied: joblib in /usr/local/lib/python3.6/dist-packages (from sacremoses->transformers) (0.16.0)\n",
            "Requirement already satisfied: pyparsing>=2.0.2 in /usr/local/lib/python3.6/dist-packages (from packaging->transformers) (2.4.7)\n",
            "Building wheels for collected packages: sacremoses\n",
            "  Building wheel for sacremoses (setup.py) ... \u001b[?25l\u001b[?25hdone\n",
            "  Created wheel for sacremoses: filename=sacremoses-0.0.43-cp36-none-any.whl size=893260 sha256=0434ca8e05a45ed70099fc84ff0fe418c3f3ccac5d7d65cf42093ec59f7fd9e9\n",
            "  Stored in directory: /root/.cache/pip/wheels/29/3c/fd/7ce5c3f0666dab31a50123635e6fb5e19ceb42ce38d4e58f45\n",
            "Successfully built sacremoses\n",
            "Installing collected packages: sentencepiece, tokenizers, sacremoses, transformers\n",
            "Successfully installed sacremoses-0.0.43 sentencepiece-0.1.91 tokenizers-0.8.1rc1 transformers-3.0.2\n",
            "2.3.0\n"
          ],
          "name": "stdout"
        }
      ]
    },
    {
      "cell_type": "code",
      "metadata": {
        "id": "lJYEjPneE_HM",
        "colab_type": "code",
        "colab": {
          "base_uri": "https://localhost:8080/",
          "height": 272,
          "referenced_widgets": [
            "ccb36f50fe9044df94c148588841a7c7",
            "4beb4e62b05b4e7b9bc207c1b9009418",
            "d041f1f4d0bc4d8f824a7faaed37183e",
            "5e60f50a79ee4ec2b11601aa0d6e9679",
            "065cfb9f29ac4814b7126594e5f9a523",
            "79d2dced99ea48c0a62f6c108ec9023f",
            "d1c466a2d8e84488a50b374ae018946e",
            "b924258d539f4443a2dcbeac1432534d",
            "6d5253ef39ca4c76bde104fa0c534a65",
            "836eb8109da1488aaa96a67c652fa372",
            "219916925c184f90aa5833fb6c1ebdaa",
            "57beaa9c5cdd460da41297b3510fbb1e",
            "6b298838bfe64559b2f2ebc247e0f6d3",
            "73ebc55dd6e3407593cf2a85ece6660c",
            "e473c25b4ebd4d8c8d57f542603eb712",
            "dc3b4205665a4f4d9a78ca8a8261e81e",
            "b9d2225320a348768e0ec0447248b143",
            "fb889e4834bf40a18c5a3fdcf938fbef",
            "eac4e54c05d74faba48fc21ca956b8f8",
            "f64af5d580dd492e8a915de01abc0fd0",
            "e17d457c72c2475c87b18f9a969c9471",
            "386cce4a066149fda7a615c59f25825c",
            "6fa28498872a47e1aff2f5b7d0b73acb",
            "87fbe26cee1846e8ba39e78250ee49fa"
          ]
        },
        "outputId": "dba1fc37-10ba-45a9-be00-20f2e92ef73f"
      },
      "source": [
        "#using Hugging face Question answering model\n",
        "\n",
        "from transformers import BertTokenizer, TFBertForQuestionAnswering\n",
        "\n",
        "modelname = 'bert-large-uncased-whole-word-masking-finetuned-squad'\n",
        "\n",
        "tokenizer = BertTokenizer.from_pretrained(modelname)\n",
        "model = TFBertForQuestionAnswering.from_pretrained(modelname)\n",
        "print(model)\n"
      ],
      "execution_count": 3,
      "outputs": [
        {
          "output_type": "display_data",
          "data": {
            "application/vnd.jupyter.widget-view+json": {
              "model_id": "ccb36f50fe9044df94c148588841a7c7",
              "version_minor": 0,
              "version_major": 2
            },
            "text/plain": [
              "HBox(children=(FloatProgress(value=0.0, description='Downloading', max=231508.0, style=ProgressStyle(descripti…"
            ]
          },
          "metadata": {
            "tags": []
          }
        },
        {
          "output_type": "stream",
          "text": [
            "\n"
          ],
          "name": "stdout"
        },
        {
          "output_type": "display_data",
          "data": {
            "application/vnd.jupyter.widget-view+json": {
              "model_id": "6d5253ef39ca4c76bde104fa0c534a65",
              "version_minor": 0,
              "version_major": 2
            },
            "text/plain": [
              "HBox(children=(FloatProgress(value=0.0, description='Downloading', max=443.0, style=ProgressStyle(description_…"
            ]
          },
          "metadata": {
            "tags": []
          }
        },
        {
          "output_type": "stream",
          "text": [
            "\n"
          ],
          "name": "stdout"
        },
        {
          "output_type": "display_data",
          "data": {
            "application/vnd.jupyter.widget-view+json": {
              "model_id": "b9d2225320a348768e0ec0447248b143",
              "version_minor": 0,
              "version_major": 2
            },
            "text/plain": [
              "HBox(children=(FloatProgress(value=0.0, description='Downloading', max=1341090760.0, style=ProgressStyle(descr…"
            ]
          },
          "metadata": {
            "tags": []
          }
        },
        {
          "output_type": "stream",
          "text": [
            "\n"
          ],
          "name": "stdout"
        },
        {
          "output_type": "stream",
          "text": [
            "All model checkpoint weights were used when initializing TFBertForQuestionAnswering.\n",
            "\n",
            "All the weights of TFBertForQuestionAnswering were initialized from the model checkpoint at bert-large-uncased-whole-word-masking-finetuned-squad.\n",
            "If your task is similar to the task the model of the ckeckpoint was trained on, you can already use TFBertForQuestionAnswering for predictions without further training.\n"
          ],
          "name": "stderr"
        },
        {
          "output_type": "stream",
          "text": [
            "<transformers.modeling_tf_bert.TFBertForQuestionAnswering object at 0x7f04956e7198>\n"
          ],
          "name": "stdout"
        }
      ]
    },
    {
      "cell_type": "code",
      "metadata": {
        "id": "1u-a8oqhE_Kf",
        "colab_type": "code",
        "colab": {}
      },
      "source": [
        "text = r\"\"\"The Amazon rainforest (Portuguese: Floresta Amazônica or Amazônia; Spanish: Selva Amazónica, Amazonía or usually Amazonia; French: Forêt amazonienne; Dutch: Amazoneregenwoud), also known in English as Amazonia or the Amazon Jungle, is a moist broadleaf forest that covers most of the Amazon basin of South America. This basin encompasses 7,000,000 square kilometres (2,700,000 sq mi), of which 5,500,000 square kilometres (2,100,000 sq mi) are covered by the rainforest. This region includes territory belonging to nine nations. The majority of the forest is contained within Brazil, with 60% of the rainforest, followed by Peru with 13%, Colombia with 10%, and with minor amounts in Venezuela, Ecuador, Bolivia, Guyana, Suriname and French Guiana. States or departments in four nations contain \"Amazonas\" in their names. The Amazon represents over half of the planet's remaining rainforests, and comprises the largest and most biodiverse tract of tropical rainforest in the world, with an estimated 390 billion individual trees divided into 16,000 species.\"\"\"\n",
        "question =r\"\"\"What percentage does the Amazon represents in rainforests on the planet?\"\"\"\n"
      ],
      "execution_count": 4,
      "outputs": []
    },
    {
      "cell_type": "code",
      "metadata": {
        "id": "o1eRra67E_Ps",
        "colab_type": "code",
        "colab": {
          "base_uri": "https://localhost:8080/",
          "height": 453
        },
        "outputId": "beb07f9f-85f8-4e27-e534-bfa291246ccd"
      },
      "source": [
        "#input_text = \"[CLS] \" + question + \" [SEP] \" + text + \" [SEP]\"\n",
        "input_text = question + \" [SEP]\" + text\n",
        "input_ids = tokenizer.encode(input_text)\n",
        "print(len(input_text))\n",
        "print(tokenizer.decode(input_ids))\n",
        "\n",
        "#Pass input to the model\n",
        "\n",
        "input = tf.constant(input_ids)[None,:]\n",
        "print(input)"
      ],
      "execution_count": 17,
      "outputs": [
        {
          "output_type": "stream",
          "text": [
            "1135\n",
            "[CLS] what percentage does the amazon represents in rainforests on the planet? [SEP] the amazon rainforest ( portuguese : floresta amazonica or amazonia ; spanish : selva amazonica, amazonia or usually amazonia ; french : foret amazonienne ; dutch : amazoneregenwoud ), also known in english as amazonia or the amazon jungle, is a moist broadleaf forest that covers most of the amazon basin of south america. this basin encompasses 7, 000, 000 square kilometres ( 2, 700, 000 sq mi ), of which 5, 500, 000 square kilometres ( 2, 100, 000 sq mi ) are covered by the rainforest. this region includes territory belonging to nine nations. the majority of the forest is contained within brazil, with 60 % of the rainforest, followed by peru with 13 %, colombia with 10 %, and with minor amounts in venezuela, ecuador, bolivia, guyana, suriname and french guiana. states or departments in four nations contain \" amazonas \" in their names. the amazon represents over half of the planet's remaining rainforests, and comprises the largest and most biodiverse tract of tropical rainforest in the world, with an estimated 390 billion individual trees divided into 16, 000 species. [SEP]\n",
            "tf.Tensor(\n",
            "[[  101  2054  7017  2515  1996  9733  5836  1999 18951  2015  2006  1996\n",
            "   4774  1029   102  1996  9733 18951  1006  5077  1024 17343  2696  9733\n",
            "   5555  2030  9733  2401  1025  3009  1024  7367 22144  9733  5555  1010\n",
            "   9733  2401  2030  2788  9733  2401  1025  2413  1024 18921  2102  9733\n",
            "   9013  2638  1025  3803  1024  9733  7869  6914 12155  6784  1007  1010\n",
            "   2036  2124  1999  2394  2004  9733  2401  2030  1996  9733  8894  1010\n",
            "   2003  1037 11052  5041 19213  3224  2008  4472  2087  1997  1996  9733\n",
            "   6403  1997  2148  2637  1012  2023  6403 13974  1021  1010  2199  1010\n",
            "   2199  2675  3717  1006  1016  1010  6352  1010  2199  5490  2771  1007\n",
            "   1010  1997  2029  1019  1010  3156  1010  2199  2675  3717  1006  1016\n",
            "   1010  2531  1010  2199  5490  2771  1007  2024  3139  2011  1996 18951\n",
            "   1012  2023  2555  2950  3700  7495  2000  3157  3741  1012  1996  3484\n",
            "   1997  1996  3224  2003  4838  2306  4380  1010  2007  3438  1003  1997\n",
            "   1996 18951  1010  2628  2011  7304  2007  2410  1003  1010  7379  2007\n",
            "   2184  1003  1010  1998  2007  3576  8310  1999  8326  1010 10378  1010\n",
            "  11645  1010 18786  1010 25050  1998  2413 23568  1012  2163  2030  7640\n",
            "   1999  2176  3741  5383  1000  9733  3022  1000  1999  2037  3415  1012\n",
            "   1996  9733  5836  2058  2431  1997  1996  4774  1005  1055  3588 18951\n",
            "   2015  1010  1998  8681  1996  2922  1998  2087 16012  4305 16070 12859\n",
            "   1997  5133 18951  1999  1996  2088  1010  2007  2019  4358 20024  4551\n",
            "   3265  3628  4055  2046  2385  1010  2199  2427  1012   102]], shape=(1, 250), dtype=int32)\n"
          ],
          "name": "stdout"
        }
      ]
    },
    {
      "cell_type": "code",
      "metadata": {
        "id": "OOLvZ1um-nLV",
        "colab_type": "code",
        "colab": {
          "base_uri": "https://localhost:8080/",
          "height": 72
        },
        "outputId": "f7988281-f3c1-4373-92b6-7b0ce30e4794"
      },
      "source": [
        "# Text+Q&A from SQuAD Test data: https://rajpurkar.github.io/SQuAD-explorer/explore/v2.0/dev/Amazon_rainforest.html?model=nlnet%20(single%20model)%20(Microsoft%20Research%20Asia)&version=v2.0\n",
        "text = r\"\"\"The Amazon rainforest (Portuguese: Floresta Amazônica or Amazônia; Spanish: Selva Amazónica, Amazonía or usually Amazonia; French: Forêt amazonienne; Dutch: Amazoneregenwoud), also known in English as Amazonia or the Amazon Jungle, is a moist broadleaf forest that covers most of the Amazon basin of South America. This basin encompasses 7,000,000 square kilometres (2,700,000 sq mi), of which 5,500,000 square kilometres (2,100,000 sq mi) are covered by the rainforest. This region includes territory belonging to nine nations. The majority of the forest is contained within Brazil, with 60% of the rainforest, followed by Peru with 13%, Colombia with 10%, and with minor amounts in Venezuela, Ecuador, Bolivia, Guyana, Suriname and French Guiana. States or departments in four nations contain \"Amazonas\" in their names. The Amazon represents over half of the planet's remaining rainforests, and comprises the largest and most biodiverse tract of tropical rainforest in the world, with an estimated 390 billion individual trees divided into 16,000 species.\"\"\"\n",
        "question =r\"\"\"What percentage does the Amazon represents in rainforests on the planet?\"\"\"\n",
        "\n",
        "#question = r\"\"\"How many nations contain \"Amazonas\" in their names?\"\"\"\n",
        "\n",
        "\n",
        "#input_text = \"[CLS] \" + question + \" [SEP] \" + text + \" [SEP]\"\n",
        "input_text =  question + \" [SEP] \" + text \n",
        "input_ids = tokenizer.encode(input_text)\n",
        "\n",
        "print(len(input_ids))\n",
        "print(tokenizer.decode(input_ids))\n",
        "\n",
        "input = tf.constant(input_ids)[None, :]  # Batch size 1 \n"
      ],
      "execution_count": 18,
      "outputs": [
        {
          "output_type": "stream",
          "text": [
            "250\n",
            "[CLS] what percentage does the amazon represents in rainforests on the planet? [SEP] the amazon rainforest ( portuguese : floresta amazonica or amazonia ; spanish : selva amazonica, amazonia or usually amazonia ; french : foret amazonienne ; dutch : amazoneregenwoud ), also known in english as amazonia or the amazon jungle, is a moist broadleaf forest that covers most of the amazon basin of south america. this basin encompasses 7, 000, 000 square kilometres ( 2, 700, 000 sq mi ), of which 5, 500, 000 square kilometres ( 2, 100, 000 sq mi ) are covered by the rainforest. this region includes territory belonging to nine nations. the majority of the forest is contained within brazil, with 60 % of the rainforest, followed by peru with 13 %, colombia with 10 %, and with minor amounts in venezuela, ecuador, bolivia, guyana, suriname and french guiana. states or departments in four nations contain \" amazonas \" in their names. the amazon represents over half of the planet's remaining rainforests, and comprises the largest and most biodiverse tract of tropical rainforest in the world, with an estimated 390 billion individual trees divided into 16, 000 species. [SEP]\n"
          ],
          "name": "stdout"
        }
      ]
    },
    {
      "cell_type": "code",
      "metadata": {
        "id": "70d03AxBE_TQ",
        "colab_type": "code",
        "colab": {
          "base_uri": "https://localhost:8080/",
          "height": 55
        },
        "outputId": "c9623f58-7324-4ad0-f2ad-9acee751ae8f"
      },
      "source": [
        "#[SEP] =  102 (token_id)\n",
        "# token_type_ids has 0 corresponding to the qeustion part of the input_text and 1 corresponding to the \n",
        "# text/part \n",
        "token_type  = [0 if i <= input_ids.index(102)  else 1 for i in range(len(input_ids))]\n",
        "\n",
        "#token_type_ids = [0 if i <= input_ids.index(102) else 1 for i in range(len(input_ids))]\n",
        "\n",
        "print(token_type)"
      ],
      "execution_count": 19,
      "outputs": [
        {
          "output_type": "stream",
          "text": [
            "[0, 0, 0, 0, 0, 0, 0, 0, 0, 0, 0, 0, 0, 0, 0, 1, 1, 1, 1, 1, 1, 1, 1, 1, 1, 1, 1, 1, 1, 1, 1, 1, 1, 1, 1, 1, 1, 1, 1, 1, 1, 1, 1, 1, 1, 1, 1, 1, 1, 1, 1, 1, 1, 1, 1, 1, 1, 1, 1, 1, 1, 1, 1, 1, 1, 1, 1, 1, 1, 1, 1, 1, 1, 1, 1, 1, 1, 1, 1, 1, 1, 1, 1, 1, 1, 1, 1, 1, 1, 1, 1, 1, 1, 1, 1, 1, 1, 1, 1, 1, 1, 1, 1, 1, 1, 1, 1, 1, 1, 1, 1, 1, 1, 1, 1, 1, 1, 1, 1, 1, 1, 1, 1, 1, 1, 1, 1, 1, 1, 1, 1, 1, 1, 1, 1, 1, 1, 1, 1, 1, 1, 1, 1, 1, 1, 1, 1, 1, 1, 1, 1, 1, 1, 1, 1, 1, 1, 1, 1, 1, 1, 1, 1, 1, 1, 1, 1, 1, 1, 1, 1, 1, 1, 1, 1, 1, 1, 1, 1, 1, 1, 1, 1, 1, 1, 1, 1, 1, 1, 1, 1, 1, 1, 1, 1, 1, 1, 1, 1, 1, 1, 1, 1, 1, 1, 1, 1, 1, 1, 1, 1, 1, 1, 1, 1, 1, 1, 1, 1, 1, 1, 1, 1, 1, 1, 1, 1, 1, 1, 1, 1, 1, 1, 1, 1, 1, 1, 1, 1, 1, 1, 1, 1, 1, 1, 1, 1, 1, 1, 1]\n"
          ],
          "name": "stdout"
        }
      ]
    },
    {
      "cell_type": "code",
      "metadata": {
        "id": "3Q2-O_3FTKzO",
        "colab_type": "code",
        "colab": {}
      },
      "source": [
        ""
      ],
      "execution_count": null,
      "outputs": []
    },
    {
      "cell_type": "code",
      "metadata": {
        "id": "_vOQzhb9E_ah",
        "colab_type": "code",
        "colab": {
          "base_uri": "https://localhost:8080/",
          "height": 52
        },
        "outputId": "f31e33ab-1471-4082-a277-eab1052a6f6d"
      },
      "source": [
        "#predit the answer \n",
        "answer = model(input,token_type_ids= tf.convert_to_tensor([token_type]))\n",
        "print(type(answer))\n",
        "print(len(answer)) #length of the answer is 2, it provides max logit\n",
        "# Where start and end answer is present"
      ],
      "execution_count": 23,
      "outputs": [
        {
          "output_type": "stream",
          "text": [
            "<class 'tuple'>\n",
            "2\n"
          ],
          "name": "stdout"
        }
      ]
    },
    {
      "cell_type": "code",
      "metadata": {
        "id": "1qsgZVJBLnsQ",
        "colab_type": "code",
        "colab": {}
      },
      "source": [
        "startscores, endscores = answer"
      ],
      "execution_count": 24,
      "outputs": []
    },
    {
      "cell_type": "code",
      "metadata": {
        "id": "ZDOhXNLLR7FR",
        "colab_type": "code",
        "colab": {
          "base_uri": "https://localhost:8080/",
          "height": 35
        },
        "outputId": "ee6ba59c-6900-46f3-96dd-1cc2d59b3700"
      },
      "source": [
        "print((tf.math.argmax(startscores[0],0)).numpy())"
      ],
      "execution_count": 25,
      "outputs": [
        {
          "output_type": "stream",
          "text": [
            "207\n"
          ],
          "name": "stdout"
        }
      ]
    },
    {
      "cell_type": "code",
      "metadata": {
        "id": "CvLqshcpLnxk",
        "colab_type": "code",
        "colab": {
          "base_uri": "https://localhost:8080/",
          "height": 35
        },
        "outputId": "ef2dad36-b428-4eca-ab34-dd87aa4cb488"
      },
      "source": [
        "startidx = tf.math.argmax(startscores[0],0).numpy()\n",
        "endidx = tf.math.argmax(endscores[0],0).numpy()+1\n",
        "print(startidx, endidx)"
      ],
      "execution_count": 26,
      "outputs": [
        {
          "output_type": "stream",
          "text": [
            "207 209\n"
          ],
          "name": "stdout"
        }
      ]
    },
    {
      "cell_type": "code",
      "metadata": {
        "id": "t2YNuRyDSVvS",
        "colab_type": "code",
        "colab": {}
      },
      "source": [
        "input_tokens = tokenizer.convert_ids_to_tokens(input_ids)"
      ],
      "execution_count": 27,
      "outputs": []
    },
    {
      "cell_type": "code",
      "metadata": {
        "id": "gg16fx5nLn0X",
        "colab_type": "code",
        "colab": {
          "base_uri": "https://localhost:8080/",
          "height": 35
        },
        "outputId": "e2fa772a-6cde-4d00-ee11-bafef9de241d"
      },
      "source": [
        "print(\" \".join(input_tokens[startidx:endidx]))"
      ],
      "execution_count": 28,
      "outputs": [
        {
          "output_type": "stream",
          "text": [
            "over half\n"
          ],
          "name": "stdout"
        }
      ]
    }
  ]
}