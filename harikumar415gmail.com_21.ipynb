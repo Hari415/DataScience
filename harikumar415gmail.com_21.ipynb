{
 "cells": [
  {
   "cell_type": "code",
   "execution_count": 61,
   "metadata": {},
   "outputs": [],
   "source": [
    "# Importing Libraries"
   ]
  },
  {
   "cell_type": "code",
   "execution_count": 87,
   "metadata": {},
   "outputs": [],
   "source": [
    "import pandas as pd\n",
    "import numpy as np"
   ]
  },
  {
   "cell_type": "code",
   "execution_count": 88,
   "metadata": {},
   "outputs": [],
   "source": [
    "# Activities are the class labels\n",
    "# It is a 6 class classification\n",
    "ACTIVITIES = {\n",
    "    0: 'WALKING',\n",
    "    1: 'WALKING_UPSTAIRS',\n",
    "    2: 'WALKING_DOWNSTAIRS',\n",
    "    3: 'SITTING',\n",
    "    4: 'STANDING',\n",
    "    5: 'LAYING',\n",
    "}\n",
    "\n",
    "# Utility function to print the confusion matrix\n",
    "def confusion_matrix(Y_true, Y_pred):\n",
    "    Y_true = pd.Series([ACTIVITIES[y] for y in np.argmax(Y_true, axis=1)])\n",
    "    Y_pred = pd.Series([ACTIVITIES[y] for y in np.argmax(Y_pred, axis=1)])\n",
    "\n",
    "    return pd.crosstab(Y_true, Y_pred, rownames=['True'], colnames=['Pred'])"
   ]
  },
  {
   "cell_type": "markdown",
   "metadata": {},
   "source": [
    "### Data"
   ]
  },
  {
   "cell_type": "code",
   "execution_count": 89,
   "metadata": {},
   "outputs": [],
   "source": [
    "# Data directory\n",
    "DATADIR = 'UCI_HAR_Dataset'"
   ]
  },
  {
   "cell_type": "code",
   "execution_count": 90,
   "metadata": {},
   "outputs": [],
   "source": [
    "# Raw data signals\n",
    "# Signals are from Accelerometer and Gyroscope\n",
    "# The signals are in x,y,z directions\n",
    "# Sensor signals are filtered to have only body acceleration\n",
    "# excluding the acceleration due to gravity\n",
    "# Triaxial acceleration from the accelerometer is total acceleration\n",
    "SIGNALS = [\n",
    "    \"body_acc_x\",\n",
    "    \"body_acc_y\",\n",
    "    \"body_acc_z\",\n",
    "    \"body_gyro_x\",\n",
    "    \"body_gyro_y\",\n",
    "    \"body_gyro_z\",\n",
    "    \"total_acc_x\",\n",
    "    \"total_acc_y\",\n",
    "    \"total_acc_z\"\n",
    "]"
   ]
  },
  {
   "cell_type": "code",
   "execution_count": 91,
   "metadata": {},
   "outputs": [],
   "source": [
    "# Utility function to read the data from csv file\n",
    "def _read_csv(filename):\n",
    "    return pd.read_csv(filename, delim_whitespace=True, header=None)\n",
    "\n",
    "# Utility function to load the load\n",
    "def load_signals(subset):\n",
    "    signals_data = []\n",
    "\n",
    "    for signal in SIGNALS:\n",
    "        filename = f'UCI_HAR_Dataset/{subset}/Inertial Signals/{signal}_{subset}.txt'\n",
    "        signals_data.append(\n",
    "            _read_csv(filename).as_matrix()\n",
    "        ) \n",
    "\n",
    "    # Transpose is used to change the dimensionality of the output,\n",
    "    # aggregating the signals by combination of sample/timestep.\n",
    "    # Resultant shape is (7352 train/2947 test samples, 128 timesteps, 9 signals)\n",
    "    return np.transpose(signals_data, (1, 2, 0))"
   ]
  },
  {
   "cell_type": "code",
   "execution_count": 92,
   "metadata": {},
   "outputs": [],
   "source": [
    "\n",
    "def load_y(subset):\n",
    "    \"\"\"\n",
    "    The objective that we are trying to predict is a integer, from 1 to 6,\n",
    "    that represents a human activity. We return a binary representation of \n",
    "    every sample objective as a 6 bits vector using One Hot Encoding\n",
    "    (https://pandas.pydata.org/pandas-docs/stable/generated/pandas.get_dummies.html)\n",
    "    \"\"\"\n",
    "    filename = f'UCI_HAR_Dataset/{subset}/y_{subset}.txt'\n",
    "    y = _read_csv(filename)[0]\n",
    "\n",
    "    return pd.get_dummies(y).as_matrix()"
   ]
  },
  {
   "cell_type": "code",
   "execution_count": 93,
   "metadata": {},
   "outputs": [],
   "source": [
    "def load_data():\n",
    "    \"\"\"\n",
    "    Obtain the dataset from multiple files.\n",
    "    Returns: X_train, X_test, y_train, y_test\n",
    "    \"\"\"\n",
    "    X_train, X_test = load_signals('train'), load_signals('test')\n",
    "    y_train, y_test = load_y('train'), load_y('test')\n",
    "\n",
    "    return X_train, X_test, y_train, y_test"
   ]
  },
  {
   "cell_type": "code",
   "execution_count": 94,
   "metadata": {},
   "outputs": [],
   "source": [
    "# Importing tensorflow\n",
    "np.random.seed(42)\n",
    "import tensorflow as tf\n",
    "tf.set_random_seed(42)"
   ]
  },
  {
   "cell_type": "code",
   "execution_count": 95,
   "metadata": {},
   "outputs": [],
   "source": [
    "# Configuring a session\n",
    "session_conf = tf.ConfigProto(\n",
    "    intra_op_parallelism_threads=1,\n",
    "    inter_op_parallelism_threads=1\n",
    ")"
   ]
  },
  {
   "cell_type": "code",
   "execution_count": 96,
   "metadata": {},
   "outputs": [],
   "source": [
    "# Import Keras\n",
    "from keras import backend as K\n",
    "sess = tf.Session(graph=tf.get_default_graph(), config=session_conf)\n",
    "K.set_session(sess)"
   ]
  },
  {
   "cell_type": "code",
   "execution_count": 97,
   "metadata": {},
   "outputs": [],
   "source": [
    "# Importing libraries\n",
    "from keras.models import Sequential\n",
    "from keras.layers import LSTM\n",
    "from keras.layers.core import Dense, Dropout"
   ]
  },
  {
   "cell_type": "code",
   "execution_count": 98,
   "metadata": {},
   "outputs": [],
   "source": [
    "# Initializing parameters\n",
    "epochs = 30\n",
    "batch_size = 16\n",
    "n_hidden = 32"
   ]
  },
  {
   "cell_type": "code",
   "execution_count": 99,
   "metadata": {},
   "outputs": [],
   "source": [
    "# Utility function to count the number of classes\n",
    "def _count_classes(y):\n",
    "    return len(set([tuple(category) for category in y]))"
   ]
  },
  {
   "cell_type": "code",
   "execution_count": 100,
   "metadata": {},
   "outputs": [
    {
     "name": "stderr",
     "output_type": "stream",
     "text": [
      "C:\\Anaconda3\\lib\\site-packages\\ipykernel_launcher.py:12: FutureWarning: Method .as_matrix will be removed in a future version. Use .values instead.\n",
      "  if sys.path[0] == '':\n",
      "C:\\Anaconda3\\lib\\site-packages\\ipykernel_launcher.py:11: FutureWarning: Method .as_matrix will be removed in a future version. Use .values instead.\n",
      "  # This is added back by InteractiveShellApp.init_path()\n"
     ]
    }
   ],
   "source": [
    "# Loading the train and test data\n",
    "X_train, X_test, Y_train, Y_test = load_data()"
   ]
  },
  {
   "cell_type": "code",
   "execution_count": 101,
   "metadata": {},
   "outputs": [
    {
     "name": "stdout",
     "output_type": "stream",
     "text": [
      "128\n",
      "9\n",
      "7352\n"
     ]
    }
   ],
   "source": [
    "timesteps = len(X_train[0])\n",
    "input_dim = len(X_train[0][0])\n",
    "n_classes = _count_classes(Y_train)\n",
    "\n",
    "print(timesteps)\n",
    "print(input_dim)\n",
    "print(len(X_train))"
   ]
  },
  {
   "cell_type": "markdown",
   "metadata": {},
   "source": [
    "- Defining the Architecture of LSTM"
   ]
  },
  {
   "cell_type": "code",
   "execution_count": 77,
   "metadata": {},
   "outputs": [
    {
     "name": "stdout",
     "output_type": "stream",
     "text": [
      "Model: \"sequential_7\"\n",
      "_________________________________________________________________\n",
      "Layer (type)                 Output Shape              Param #   \n",
      "=================================================================\n",
      "lstm_10 (LSTM)               (None, 32)                5376      \n",
      "_________________________________________________________________\n",
      "dropout_6 (Dropout)          (None, 32)                0         \n",
      "_________________________________________________________________\n",
      "dense_6 (Dense)              (None, 6)                 198       \n",
      "=================================================================\n",
      "Total params: 5,574\n",
      "Trainable params: 5,574\n",
      "Non-trainable params: 0\n",
      "_________________________________________________________________\n"
     ]
    }
   ],
   "source": [
    "# Initiliazing the sequential model\n",
    "model = Sequential()\n",
    "# Configuring the parameters\n",
    "model.add(LSTM(n_hidden, input_shape=(timesteps, input_dim)))\n",
    "# Adding a dropout layer\n",
    "model.add(Dropout(0.5))\n",
    "# Adding a dense output layer with sigmoid activation\n",
    "model.add(Dense(n_classes, activation='sigmoid'))\n",
    "model.summary()"
   ]
  },
  {
   "cell_type": "code",
   "execution_count": 78,
   "metadata": {},
   "outputs": [],
   "source": [
    "# Compiling the model\n",
    "model.compile(loss='categorical_crossentropy',\n",
    "              optimizer='rmsprop',\n",
    "              metrics=['accuracy'])"
   ]
  },
  {
   "cell_type": "code",
   "execution_count": 79,
   "metadata": {},
   "outputs": [
    {
     "name": "stdout",
     "output_type": "stream",
     "text": [
      "Train on 7352 samples, validate on 2947 samples\n",
      "Epoch 1/30\n",
      "7352/7352 [==============================] - 25s 3ms/step - loss: 1.2941 - accuracy: 0.4523 - val_loss: 1.1074 - val_accuracy: 0.4924\n",
      "Epoch 2/30\n",
      "7352/7352 [==============================] - 23s 3ms/step - loss: 0.9406 - accuracy: 0.5964 - val_loss: 0.8839 - val_accuracy: 0.5938\n",
      "Epoch 3/30\n",
      "7352/7352 [==============================] - 25s 3ms/step - loss: 0.7833 - accuracy: 0.6432 - val_loss: 0.7483 - val_accuracy: 0.6125\n",
      "Epoch 4/30\n",
      "7352/7352 [==============================] - 28s 4ms/step - loss: 0.6809 - accuracy: 0.6619 - val_loss: 0.7228 - val_accuracy: 0.6169\n",
      "Epoch 5/30\n",
      "7352/7352 [==============================] - 27s 4ms/step - loss: 0.6409 - accuracy: 0.6759 - val_loss: 0.7215 - val_accuracy: 0.6328\n",
      "Epoch 6/30\n",
      "7352/7352 [==============================] - 26s 3ms/step - loss: 0.5755 - accuracy: 0.7025 - val_loss: 0.7347 - val_accuracy: 0.6586\n",
      "Epoch 7/30\n",
      "7352/7352 [==============================] - 31s 4ms/step - loss: 0.5586 - accuracy: 0.7500 - val_loss: 0.6474 - val_accuracy: 0.7441\n",
      "Epoch 8/30\n",
      "7352/7352 [==============================] - 27s 4ms/step - loss: 0.4938 - accuracy: 0.7784 - val_loss: 0.7891 - val_accuracy: 0.7112\n",
      "Epoch 9/30\n",
      "7352/7352 [==============================] - 57s 8ms/step - loss: 0.4602 - accuracy: 0.7907 - val_loss: 0.7612 - val_accuracy: 0.7177\n",
      "Epoch 10/30\n",
      "7352/7352 [==============================] - 55s 8ms/step - loss: 0.4374 - accuracy: 0.7922 - val_loss: 0.6681 - val_accuracy: 0.7245\n",
      "Epoch 11/30\n",
      "7352/7352 [==============================] - 64s 9ms/step - loss: 0.4076 - accuracy: 0.8082 - val_loss: 0.5656 - val_accuracy: 0.7540\n",
      "Epoch 12/30\n",
      "7352/7352 [==============================] - 36s 5ms/step - loss: 0.3870 - accuracy: 0.8371 - val_loss: 0.5157 - val_accuracy: 0.8392\n",
      "Epoch 13/30\n",
      "7352/7352 [==============================] - 25s 3ms/step - loss: 0.3303 - accuracy: 0.8954 - val_loss: 0.5163 - val_accuracy: 0.8782\n",
      "Epoch 14/30\n",
      "7352/7352 [==============================] - 24s 3ms/step - loss: 0.2876 - accuracy: 0.9210 - val_loss: 0.5793 - val_accuracy: 0.8446\n",
      "Epoch 15/30\n",
      "7352/7352 [==============================] - 24s 3ms/step - loss: 0.2383 - accuracy: 0.9291 - val_loss: 0.3697 - val_accuracy: 0.8975\n",
      "Epoch 16/30\n",
      "7352/7352 [==============================] - 23s 3ms/step - loss: 0.2225 - accuracy: 0.9309 - val_loss: 0.3675 - val_accuracy: 0.8924\n",
      "Epoch 17/30\n",
      "7352/7352 [==============================] - 24s 3ms/step - loss: 0.2062 - accuracy: 0.9363 - val_loss: 0.4045 - val_accuracy: 0.8999\n",
      "Epoch 18/30\n",
      "7352/7352 [==============================] - 26s 4ms/step - loss: 0.1936 - accuracy: 0.9411 - val_loss: 0.6056 - val_accuracy: 0.8707\n",
      "Epoch 19/30\n",
      "7352/7352 [==============================] - 34s 5ms/step - loss: 0.2009 - accuracy: 0.9408 - val_loss: 0.7823 - val_accuracy: 0.8524\n",
      "Epoch 20/30\n",
      "7352/7352 [==============================] - 22s 3ms/step - loss: 0.2246 - accuracy: 0.9381 - val_loss: 0.3956 - val_accuracy: 0.8996\n",
      "Epoch 21/30\n",
      "7352/7352 [==============================] - 22s 3ms/step - loss: 0.1845 - accuracy: 0.9412 - val_loss: 0.4611 - val_accuracy: 0.8918\n",
      "Epoch 22/30\n",
      "7352/7352 [==============================] - 22s 3ms/step - loss: 0.1814 - accuracy: 0.9457 - val_loss: 0.4755 - val_accuracy: 0.9013\n",
      "Epoch 23/30\n",
      "7352/7352 [==============================] - 21s 3ms/step - loss: 0.2044 - accuracy: 0.9389 - val_loss: 0.4691 - val_accuracy: 0.8948\n",
      "Epoch 24/30\n",
      "7352/7352 [==============================] - 22s 3ms/step - loss: 0.2306 - accuracy: 0.9384 - val_loss: 0.5468 - val_accuracy: 0.8948\n",
      "Epoch 25/30\n",
      "7352/7352 [==============================] - 24s 3ms/step - loss: 0.2119 - accuracy: 0.9397 - val_loss: 0.4385 - val_accuracy: 0.8928\n",
      "Epoch 26/30\n",
      "7352/7352 [==============================] - 22s 3ms/step - loss: 0.1913 - accuracy: 0.9423 - val_loss: 0.5487 - val_accuracy: 0.8843\n",
      "Epoch 27/30\n",
      "7352/7352 [==============================] - 22s 3ms/step - loss: 0.1650 - accuracy: 0.9470 - val_loss: 0.5596 - val_accuracy: 0.8965\n",
      "Epoch 28/30\n",
      "7352/7352 [==============================] - 25s 3ms/step - loss: 0.1642 - accuracy: 0.9475 - val_loss: 0.5737 - val_accuracy: 0.8968\n",
      "Epoch 29/30\n",
      "7352/7352 [==============================] - 24s 3ms/step - loss: 0.1988 - accuracy: 0.9430 - val_loss: 0.5129 - val_accuracy: 0.8935\n",
      "Epoch 30/30\n",
      "7352/7352 [==============================] - 22s 3ms/step - loss: 0.1878 - accuracy: 0.9467 - val_loss: 0.5882 - val_accuracy: 0.8951\n"
     ]
    },
    {
     "data": {
      "text/plain": [
       "<keras.callbacks.callbacks.History at 0x21532451948>"
      ]
     },
     "execution_count": 79,
     "metadata": {},
     "output_type": "execute_result"
    }
   ],
   "source": [
    "# Training the model\n",
    "model.fit(X_train,\n",
    "          Y_train,\n",
    "          batch_size=batch_size,\n",
    "          validation_data=(X_test, Y_test),\n",
    "          epochs=epochs)"
   ]
  },
  {
   "cell_type": "code",
   "execution_count": 80,
   "metadata": {},
   "outputs": [
    {
     "name": "stdout",
     "output_type": "stream",
     "text": [
      "Pred                LAYING  SITTING  STANDING  WALKING  WALKING_DOWNSTAIRS  \\\n",
      "True                                                                         \n",
      "LAYING                 510        0         0        0                   0   \n",
      "SITTING                  0      380       101        0                   0   \n",
      "STANDING                 0       75       457        0                   0   \n",
      "WALKING                  0        0         1      441                  35   \n",
      "WALKING_DOWNSTAIRS       0        0         0        0                 415   \n",
      "WALKING_UPSTAIRS         0        1         0        2                  33   \n",
      "\n",
      "Pred                WALKING_UPSTAIRS  \n",
      "True                                  \n",
      "LAYING                            27  \n",
      "SITTING                           10  \n",
      "STANDING                           0  \n",
      "WALKING                           19  \n",
      "WALKING_DOWNSTAIRS                 5  \n",
      "WALKING_UPSTAIRS                 435  \n"
     ]
    }
   ],
   "source": [
    "# Confusion Matrix\n",
    "print(confusion_matrix(Y_test, model.predict(X_test)))"
   ]
  },
  {
   "cell_type": "code",
   "execution_count": 81,
   "metadata": {},
   "outputs": [
    {
     "name": "stdout",
     "output_type": "stream",
     "text": [
      "2947/2947 [==============================] - 1s 445us/step\n"
     ]
    }
   ],
   "source": [
    "score = model.evaluate(X_test, Y_test)"
   ]
  },
  {
   "cell_type": "code",
   "execution_count": 82,
   "metadata": {},
   "outputs": [
    {
     "data": {
      "text/plain": [
       "[0.5882155524368978, 0.8951476216316223]"
      ]
     },
     "execution_count": 82,
     "metadata": {},
     "output_type": "execute_result"
    }
   ],
   "source": [
    "score"
   ]
  },
  {
   "cell_type": "markdown",
   "metadata": {},
   "source": [
    "- With a simple 2 layer architecture we got 90.09% accuracy and a loss of 0.30\n",
    "- We can further imporve the performace with Hyperparameter tuning"
   ]
  },
  {
   "cell_type": "markdown",
   "metadata": {},
   "source": [
    "### Task 1 Use different No of LSTM units"
   ]
  },
  {
   "cell_type": "code",
   "execution_count": 83,
   "metadata": {},
   "outputs": [],
   "source": [
    "# Initializing parameters\n",
    "epochs = 30\n",
    "batch_size = 16\n",
    "n_hidden = 64"
   ]
  },
  {
   "cell_type": "code",
   "execution_count": 113,
   "metadata": {},
   "outputs": [
    {
     "name": "stdout",
     "output_type": "stream",
     "text": [
      "Model: \"sequential_10\"\n",
      "_________________________________________________________________\n",
      "Layer (type)                 Output Shape              Param #   \n",
      "=================================================================\n",
      "lstm_14 (LSTM)               (None, 128)               70656     \n",
      "_________________________________________________________________\n",
      "dropout_9 (Dropout)          (None, 128)               0         \n",
      "_________________________________________________________________\n",
      "dense_9 (Dense)              (None, 6)                 774       \n",
      "=================================================================\n",
      "Total params: 71,430\n",
      "Trainable params: 71,430\n",
      "Non-trainable params: 0\n",
      "_________________________________________________________________\n"
     ]
    }
   ],
   "source": [
    "# Initiliazing the sequential model\n",
    "model = Sequential()\n",
    "# Configuring the parameters\n",
    "model.add(LSTM(n_hidden, input_shape=(timesteps, input_dim)))\n",
    "# Adding a dropout layer\n",
    "model.add(Dropout(0.5))\n",
    "# Adding a dense output layer with sigmoid activation\n",
    "model.add(Dense(n_classes, activation='sigmoid'))\n",
    "model.summary()"
   ]
  },
  {
   "cell_type": "code",
   "execution_count": 114,
   "metadata": {},
   "outputs": [],
   "source": [
    "# Compiling the model\n",
    "model.compile(loss='categorical_crossentropy',\n",
    "              optimizer='rmsprop',\n",
    "              metrics=['accuracy'])\n"
   ]
  },
  {
   "cell_type": "code",
   "execution_count": 115,
   "metadata": {},
   "outputs": [
    {
     "name": "stdout",
     "output_type": "stream",
     "text": [
      "Train on 7352 samples, validate on 2947 samples\n",
      "Epoch 1/30\n",
      "7352/7352 [==============================] - 65s 9ms/step - loss: 1.3818 - accuracy: 0.3885 - val_loss: 1.4502 - val_accuracy: 0.3610\n",
      "Epoch 2/30\n",
      "7352/7352 [==============================] - 62s 8ms/step - loss: 1.1629 - accuracy: 0.4943 - val_loss: 1.4035 - val_accuracy: 0.3648\n",
      "Epoch 3/30\n",
      "7352/7352 [==============================] - 61s 8ms/step - loss: 1.0246 - accuracy: 0.5706 - val_loss: 1.1373 - val_accuracy: 0.4455\n",
      "Epoch 4/30\n",
      "7352/7352 [==============================] - 57s 8ms/step - loss: 0.8515 - accuracy: 0.6096 - val_loss: 1.1883 - val_accuracy: 0.4690\n",
      "Epoch 5/30\n",
      "7352/7352 [==============================] - 59s 8ms/step - loss: 0.8079 - accuracy: 0.6160 - val_loss: 0.9130 - val_accuracy: 0.5572\n",
      "Epoch 6/30\n",
      "7352/7352 [==============================] - 58s 8ms/step - loss: 0.7202 - accuracy: 0.6582 - val_loss: 0.7115 - val_accuracy: 0.6702\n",
      "Epoch 7/30\n",
      "7352/7352 [==============================] - 58s 8ms/step - loss: 0.6391 - accuracy: 0.7074 - val_loss: 0.6723 - val_accuracy: 0.7163\n",
      "Epoch 8/30\n",
      "7352/7352 [==============================] - 59s 8ms/step - loss: 0.6069 - accuracy: 0.7476 - val_loss: 0.6834 - val_accuracy: 0.7838\n",
      "Epoch 9/30\n",
      "7352/7352 [==============================] - 58s 8ms/step - loss: 0.5505 - accuracy: 0.7964 - val_loss: 0.6404 - val_accuracy: 0.7302\n",
      "Epoch 10/30\n",
      "7352/7352 [==============================] - 59s 8ms/step - loss: 0.4734 - accuracy: 0.8304 - val_loss: 0.6038 - val_accuracy: 0.8096\n",
      "Epoch 11/30\n",
      "7352/7352 [==============================] - 58s 8ms/step - loss: 0.3909 - accuracy: 0.8659 - val_loss: 0.6283 - val_accuracy: 0.7947\n",
      "Epoch 12/30\n",
      "7352/7352 [==============================] - 59s 8ms/step - loss: 0.3461 - accuracy: 0.8794 - val_loss: 0.4655 - val_accuracy: 0.8364\n",
      "Epoch 13/30\n",
      "7352/7352 [==============================] - 59s 8ms/step - loss: 0.2827 - accuracy: 0.9010 - val_loss: 0.3969 - val_accuracy: 0.8633\n",
      "Epoch 14/30\n",
      "7352/7352 [==============================] - 59s 8ms/step - loss: 0.2860 - accuracy: 0.9052 - val_loss: 0.4154 - val_accuracy: 0.8473\n",
      "Epoch 15/30\n",
      "7352/7352 [==============================] - 58s 8ms/step - loss: 0.2255 - accuracy: 0.9165 - val_loss: 0.3588 - val_accuracy: 0.8948\n",
      "Epoch 16/30\n",
      "7352/7352 [==============================] - 58s 8ms/step - loss: 0.2286 - accuracy: 0.9234 - val_loss: 0.3904 - val_accuracy: 0.8812\n",
      "Epoch 17/30\n",
      "7352/7352 [==============================] - 58s 8ms/step - loss: 0.1933 - accuracy: 0.9263 - val_loss: 0.3424 - val_accuracy: 0.9009\n",
      "Epoch 18/30\n",
      "7352/7352 [==============================] - 58s 8ms/step - loss: 0.2040 - accuracy: 0.9283 - val_loss: 0.2941 - val_accuracy: 0.8894\n",
      "Epoch 19/30\n",
      "7352/7352 [==============================] - 58s 8ms/step - loss: 0.1933 - accuracy: 0.9329 - val_loss: 0.3821 - val_accuracy: 0.8972\n",
      "Epoch 20/30\n",
      "7352/7352 [==============================] - 58s 8ms/step - loss: 0.1879 - accuracy: 0.9302 - val_loss: 0.3770 - val_accuracy: 0.8982\n",
      "Epoch 21/30\n",
      "7352/7352 [==============================] - 59s 8ms/step - loss: 0.1798 - accuracy: 0.9316 - val_loss: 0.3269 - val_accuracy: 0.9002\n",
      "Epoch 22/30\n",
      "7352/7352 [==============================] - 58s 8ms/step - loss: 0.1901 - accuracy: 0.9314 - val_loss: 0.2736 - val_accuracy: 0.9128\n",
      "Epoch 23/30\n",
      "7352/7352 [==============================] - 58s 8ms/step - loss: 0.1624 - accuracy: 0.9402 - val_loss: 0.3529 - val_accuracy: 0.8979\n",
      "Epoch 24/30\n",
      "7352/7352 [==============================] - 60s 8ms/step - loss: 0.1760 - accuracy: 0.9369 - val_loss: 0.3087 - val_accuracy: 0.9036\n",
      "Epoch 25/30\n",
      "7352/7352 [==============================] - 60s 8ms/step - loss: 0.1752 - accuracy: 0.9389 - val_loss: 0.3794 - val_accuracy: 0.8982\n",
      "Epoch 26/30\n",
      "7352/7352 [==============================] - 58s 8ms/step - loss: 0.1571 - accuracy: 0.9410 - val_loss: 0.3525 - val_accuracy: 0.8996\n",
      "Epoch 27/30\n",
      "7352/7352 [==============================] - 59s 8ms/step - loss: 0.1577 - accuracy: 0.9421 - val_loss: 0.2771 - val_accuracy: 0.9108\n",
      "Epoch 28/30\n",
      "7352/7352 [==============================] - 60s 8ms/step - loss: 0.1533 - accuracy: 0.9430 - val_loss: 0.2955 - val_accuracy: 0.9182\n",
      "Epoch 29/30\n",
      "7352/7352 [==============================] - 59s 8ms/step - loss: 0.1451 - accuracy: 0.9472 - val_loss: 0.3409 - val_accuracy: 0.9084\n",
      "Epoch 30/30\n",
      "7352/7352 [==============================] - 59s 8ms/step - loss: 0.1349 - accuracy: 0.9465 - val_loss: 0.2619 - val_accuracy: 0.9206\n"
     ]
    },
    {
     "data": {
      "text/plain": [
       "<keras.callbacks.callbacks.History at 0x2154e1566c8>"
      ]
     },
     "execution_count": 115,
     "metadata": {},
     "output_type": "execute_result"
    }
   ],
   "source": [
    "# Training the model\n",
    "model.fit(X_train,\n",
    "          Y_train,\n",
    "          batch_size=batch_size,\n",
    "          validation_data=(X_test, Y_test),\n",
    "          epochs=epochs)"
   ]
  },
  {
   "cell_type": "code",
   "execution_count": 116,
   "metadata": {},
   "outputs": [
    {
     "name": "stdout",
     "output_type": "stream",
     "text": [
      "Pred                LAYING  SITTING  STANDING  WALKING  WALKING_DOWNSTAIRS  \\\n",
      "True                                                                         \n",
      "LAYING                 522        0         0        0                   0   \n",
      "SITTING                  0      403        88        0                   0   \n",
      "STANDING                 0       92       438        2                   0   \n",
      "WALKING                  0        0         0      470                  24   \n",
      "WALKING_DOWNSTAIRS       0        0         0        0                 417   \n",
      "WALKING_UPSTAIRS         0        0         1        6                   1   \n",
      "\n",
      "Pred                WALKING_UPSTAIRS  \n",
      "True                                  \n",
      "LAYING                            15  \n",
      "SITTING                            0  \n",
      "STANDING                           0  \n",
      "WALKING                            2  \n",
      "WALKING_DOWNSTAIRS                 3  \n",
      "WALKING_UPSTAIRS                 463  \n"
     ]
    }
   ],
   "source": [
    "# Confusion Matrix\n",
    "print(confusion_matrix(Y_test, model.predict(X_test)))"
   ]
  },
  {
   "cell_type": "code",
   "execution_count": 117,
   "metadata": {},
   "outputs": [
    {
     "name": "stdout",
     "output_type": "stream",
     "text": [
      "2947/2947 [==============================] - 7s 2ms/step\n"
     ]
    }
   ],
   "source": [
    "score = model.evaluate(X_test, Y_test)"
   ]
  },
  {
   "cell_type": "code",
   "execution_count": 118,
   "metadata": {},
   "outputs": [
    {
     "data": {
      "text/plain": [
       "[0.2619004359412457, 0.9205971956253052]"
      ]
     },
     "execution_count": 118,
     "metadata": {},
     "output_type": "execute_result"
    }
   ],
   "source": [
    "score"
   ]
  },
  {
   "cell_type": "markdown",
   "metadata": {},
   "source": [
    "### Task 2 Use different No of LSTM units and dropout rates"
   ]
  },
  {
   "cell_type": "code",
   "execution_count": 119,
   "metadata": {},
   "outputs": [],
   "source": [
    "# Initializing parameters\n",
    "epochs = 30\n",
    "batch_size = 16\n",
    "n_hidden = 128\n",
    "dropout = 0.3"
   ]
  },
  {
   "cell_type": "code",
   "execution_count": 120,
   "metadata": {},
   "outputs": [
    {
     "name": "stdout",
     "output_type": "stream",
     "text": [
      "Model: \"sequential_11\"\n",
      "_________________________________________________________________\n",
      "Layer (type)                 Output Shape              Param #   \n",
      "=================================================================\n",
      "lstm_15 (LSTM)               (None, 128)               70656     \n",
      "_________________________________________________________________\n",
      "dropout_10 (Dropout)         (None, 128)               0         \n",
      "_________________________________________________________________\n",
      "dense_10 (Dense)             (None, 6)                 774       \n",
      "=================================================================\n",
      "Total params: 71,430\n",
      "Trainable params: 71,430\n",
      "Non-trainable params: 0\n",
      "_________________________________________________________________\n"
     ]
    }
   ],
   "source": [
    "# Initiliazing the sequential model\n",
    "model = Sequential()\n",
    "# Configuring the parameters\n",
    "model.add(LSTM(n_hidden, input_shape=(timesteps, input_dim)))\n",
    "# Adding a dropout layer\n",
    "model.add(Dropout(dropout))\n",
    "# Adding a dense output layer with sigmoid activation\n",
    "model.add(Dense(n_classes, activation='sigmoid'))\n",
    "model.summary()"
   ]
  },
  {
   "cell_type": "code",
   "execution_count": 121,
   "metadata": {},
   "outputs": [],
   "source": [
    "# Compiling the model\n",
    "model.compile(loss='categorical_crossentropy',\n",
    "              optimizer='rmsprop',\n",
    "              metrics=['accuracy'])"
   ]
  },
  {
   "cell_type": "code",
   "execution_count": 122,
   "metadata": {},
   "outputs": [
    {
     "name": "stdout",
     "output_type": "stream",
     "text": [
      "Train on 7352 samples, validate on 2947 samples\n",
      "Epoch 1/30\n",
      "7352/7352 [==============================] - 105s 14ms/step - loss: 1.2461 - accuracy: 0.4517 - val_loss: 1.3328 - val_accuracy: 0.3899\n",
      "Epoch 2/30\n",
      "7352/7352 [==============================] - 104s 14ms/step - loss: 0.8492 - accuracy: 0.6179 - val_loss: 0.7678 - val_accuracy: 0.6780\n",
      "Epoch 3/30\n",
      "7352/7352 [==============================] - 648s 88ms/step - loss: 0.6293 - accuracy: 0.7285 - val_loss: 0.5633 - val_accuracy: 0.7883\n",
      "Epoch 4/30\n",
      "7352/7352 [==============================] - 79s 11ms/step - loss: 0.3868 - accuracy: 0.8717 - val_loss: 0.3816 - val_accuracy: 0.8395\n",
      "Epoch 5/30\n",
      "7352/7352 [==============================] - 67s 9ms/step - loss: 0.2463 - accuracy: 0.9143 - val_loss: 0.3857 - val_accuracy: 0.8527\n",
      "Epoch 6/30\n",
      "7352/7352 [==============================] - 65s 9ms/step - loss: 0.2153 - accuracy: 0.9215 - val_loss: 0.2930 - val_accuracy: 0.8836\n",
      "Epoch 7/30\n",
      "7352/7352 [==============================] - 68s 9ms/step - loss: 0.1830 - accuracy: 0.9340 - val_loss: 0.3282 - val_accuracy: 0.8935\n",
      "Epoch 8/30\n",
      "7352/7352 [==============================] - 66s 9ms/step - loss: 0.1554 - accuracy: 0.9408 - val_loss: 0.2282 - val_accuracy: 0.9030\n",
      "Epoch 9/30\n",
      "7352/7352 [==============================] - 65s 9ms/step - loss: 0.1528 - accuracy: 0.9431 - val_loss: 0.3094 - val_accuracy: 0.9213\n",
      "Epoch 10/30\n",
      "7352/7352 [==============================] - 65s 9ms/step - loss: 0.1422 - accuracy: 0.9449 - val_loss: 0.3920 - val_accuracy: 0.8928\n",
      "Epoch 11/30\n",
      "7352/7352 [==============================] - 65s 9ms/step - loss: 0.1386 - accuracy: 0.9457 - val_loss: 0.2764 - val_accuracy: 0.9206\n",
      "Epoch 12/30\n",
      "7352/7352 [==============================] - 66s 9ms/step - loss: 0.1361 - accuracy: 0.9467 - val_loss: 0.3510 - val_accuracy: 0.8979\n",
      "Epoch 13/30\n",
      "7352/7352 [==============================] - 66s 9ms/step - loss: 0.1381 - accuracy: 0.9464 - val_loss: 0.3601 - val_accuracy: 0.8982\n",
      "Epoch 14/30\n",
      "7352/7352 [==============================] - 66s 9ms/step - loss: 0.1299 - accuracy: 0.9499 - val_loss: 0.3040 - val_accuracy: 0.9141\n",
      "Epoch 15/30\n",
      "7352/7352 [==============================] - 74s 10ms/step - loss: 0.1409 - accuracy: 0.9456 - val_loss: 0.3245 - val_accuracy: 0.8992\n",
      "Epoch 16/30\n",
      "7352/7352 [==============================] - 65s 9ms/step - loss: 0.1278 - accuracy: 0.9505 - val_loss: 0.3248 - val_accuracy: 0.9220\n",
      "Epoch 17/30\n",
      "7352/7352 [==============================] - 65s 9ms/step - loss: 0.1272 - accuracy: 0.9504 - val_loss: 0.3393 - val_accuracy: 0.9199\n",
      "Epoch 18/30\n",
      "7352/7352 [==============================] - 65s 9ms/step - loss: 0.1261 - accuracy: 0.9510 - val_loss: 0.5156 - val_accuracy: 0.8938\n",
      "Epoch 19/30\n",
      "7352/7352 [==============================] - 73s 10ms/step - loss: 0.1433 - accuracy: 0.9456 - val_loss: 0.6378 - val_accuracy: 0.8816\n",
      "Epoch 20/30\n",
      "7352/7352 [==============================] - 65s 9ms/step - loss: 0.1208 - accuracy: 0.9528 - val_loss: 0.3785 - val_accuracy: 0.8989\n",
      "Epoch 21/30\n",
      "7352/7352 [==============================] - 65s 9ms/step - loss: 0.1276 - accuracy: 0.9512 - val_loss: 0.3128 - val_accuracy: 0.9192\n",
      "Epoch 22/30\n",
      "7352/7352 [==============================] - 65s 9ms/step - loss: 0.1194 - accuracy: 0.9520 - val_loss: 0.3955 - val_accuracy: 0.9158\n",
      "Epoch 23/30\n",
      "7352/7352 [==============================] - 64s 9ms/step - loss: 0.1216 - accuracy: 0.9532 - val_loss: 0.3253 - val_accuracy: 0.9311\n",
      "Epoch 24/30\n",
      "7352/7352 [==============================] - 65s 9ms/step - loss: 0.1255 - accuracy: 0.9540 - val_loss: 0.3328 - val_accuracy: 0.9172\n",
      "Epoch 25/30\n",
      "7352/7352 [==============================] - 65s 9ms/step - loss: 0.1358 - accuracy: 0.9531 - val_loss: 0.3584 - val_accuracy: 0.9101\n",
      "Epoch 26/30\n",
      "7352/7352 [==============================] - 65s 9ms/step - loss: 0.1098 - accuracy: 0.9539 - val_loss: 0.3276 - val_accuracy: 0.9155\n",
      "Epoch 27/30\n",
      "7352/7352 [==============================] - 65s 9ms/step - loss: 0.1297 - accuracy: 0.9491 - val_loss: 0.2939 - val_accuracy: 0.9304\n",
      "Epoch 28/30\n",
      "7352/7352 [==============================] - 64s 9ms/step - loss: 0.1302 - accuracy: 0.9529 - val_loss: 0.6009 - val_accuracy: 0.9026\n",
      "Epoch 29/30\n",
      "7352/7352 [==============================] - 64s 9ms/step - loss: 0.1205 - accuracy: 0.9540 - val_loss: 0.4111 - val_accuracy: 0.9111\n",
      "Epoch 30/30\n",
      "7352/7352 [==============================] - 66s 9ms/step - loss: 0.1200 - accuracy: 0.9538 - val_loss: 0.3174 - val_accuracy: 0.9108\n"
     ]
    },
    {
     "data": {
      "text/plain": [
       "<keras.callbacks.callbacks.History at 0x2155485f408>"
      ]
     },
     "execution_count": 122,
     "metadata": {},
     "output_type": "execute_result"
    }
   ],
   "source": [
    "# Training the model\n",
    "model.fit(X_train,\n",
    "          Y_train,\n",
    "          batch_size=batch_size,\n",
    "          validation_data=(X_test, Y_test),\n",
    "          epochs=epochs)"
   ]
  },
  {
   "cell_type": "code",
   "execution_count": 123,
   "metadata": {},
   "outputs": [
    {
     "name": "stdout",
     "output_type": "stream",
     "text": [
      "Pred                LAYING  SITTING  STANDING  WALKING  WALKING_DOWNSTAIRS  \\\n",
      "True                                                                         \n",
      "LAYING                 515        0         0        0                   0   \n",
      "SITTING                  3      412        74        0                   0   \n",
      "STANDING                 0      110       421        0                   0   \n",
      "WALKING                  0        1         0      469                  14   \n",
      "WALKING_DOWNSTAIRS       0        1         3        2                 412   \n",
      "WALKING_UPSTAIRS         0        6         0        8                   2   \n",
      "\n",
      "Pred                WALKING_UPSTAIRS  \n",
      "True                                  \n",
      "LAYING                            22  \n",
      "SITTING                            2  \n",
      "STANDING                           1  \n",
      "WALKING                           12  \n",
      "WALKING_DOWNSTAIRS                 2  \n",
      "WALKING_UPSTAIRS                 455  \n"
     ]
    }
   ],
   "source": [
    "# Confusion Matrix\n",
    "print(confusion_matrix(Y_test, model.predict(X_test)))"
   ]
  },
  {
   "cell_type": "code",
   "execution_count": 124,
   "metadata": {},
   "outputs": [
    {
     "name": "stdout",
     "output_type": "stream",
     "text": [
      "2947/2947 [==============================] - 5s 2ms/step\n"
     ]
    }
   ],
   "source": [
    "score = model.evaluate(X_test, Y_test)"
   ]
  },
  {
   "cell_type": "code",
   "execution_count": 125,
   "metadata": {},
   "outputs": [
    {
     "data": {
      "text/plain": [
       "[0.3174159591353597, 0.9107567071914673]"
      ]
     },
     "execution_count": 125,
     "metadata": {},
     "output_type": "execute_result"
    }
   ],
   "source": [
    "score"
   ]
  },
  {
   "cell_type": "markdown",
   "metadata": {},
   "source": [
    "### Task 3 Use Stacked LSTM units and dropout rates"
   ]
  },
  {
   "cell_type": "code",
   "execution_count": 102,
   "metadata": {},
   "outputs": [],
   "source": [
    "## increase dropout rate and use stacked LSTM units\n",
    "# Initializing parameters\n",
    "epochs = 30\n",
    "batch_size = 128\n",
    "n_hidden = 128\n",
    "dropout = 0.7"
   ]
  },
  {
   "cell_type": "code",
   "execution_count": 109,
   "metadata": {},
   "outputs": [],
   "source": [
    "model.compile(optimizer='rmsprop', loss='categorical_crossentropy', metrics=['accuracy'])"
   ]
  },
  {
   "cell_type": "code",
   "execution_count": 110,
   "metadata": {},
   "outputs": [
    {
     "name": "stdout",
     "output_type": "stream",
     "text": [
      "Train on 7352 samples, validate on 2947 samples\n",
      "Epoch 1/30\n",
      "7352/7352 [==============================] - 93s 13ms/step - loss: 0.1897 - accuracy: 0.9212 - val_loss: 0.3190 - val_accuracy: 0.9013\n",
      "Epoch 2/30\n",
      "7352/7352 [==============================] - 94s 13ms/step - loss: 0.1530 - accuracy: 0.9416 - val_loss: 0.2599 - val_accuracy: 0.9182\n",
      "Epoch 3/30\n",
      "7352/7352 [==============================] - 97s 13ms/step - loss: 0.1465 - accuracy: 0.9430 - val_loss: 0.2814 - val_accuracy: 0.9101\n",
      "Epoch 4/30\n",
      "7352/7352 [==============================] - 94s 13ms/step - loss: 0.1535 - accuracy: 0.9441 - val_loss: 0.3064 - val_accuracy: 0.9189\n",
      "Epoch 5/30\n",
      "7352/7352 [==============================] - 94s 13ms/step - loss: 0.1429 - accuracy: 0.9471 - val_loss: 0.2867 - val_accuracy: 0.9152\n",
      "Epoch 6/30\n",
      "7352/7352 [==============================] - 94s 13ms/step - loss: 0.1412 - accuracy: 0.9483 - val_loss: 0.2744 - val_accuracy: 0.9111\n",
      "Epoch 7/30\n",
      "7352/7352 [==============================] - 94s 13ms/step - loss: 0.1180 - accuracy: 0.9495 - val_loss: 0.3207 - val_accuracy: 0.8985\n",
      "Epoch 8/30\n",
      "7352/7352 [==============================] - 94s 13ms/step - loss: 0.1275 - accuracy: 0.9464 - val_loss: 0.3201 - val_accuracy: 0.9172\n",
      "Epoch 9/30\n",
      "7352/7352 [==============================] - 98s 13ms/step - loss: 0.1313 - accuracy: 0.9494 - val_loss: 0.3580 - val_accuracy: 0.9101\n",
      "Epoch 10/30\n",
      "7352/7352 [==============================] - 95s 13ms/step - loss: 0.1250 - accuracy: 0.9502 - val_loss: 0.3543 - val_accuracy: 0.9057\n",
      "Epoch 11/30\n",
      "7352/7352 [==============================] - 95s 13ms/step - loss: 0.1218 - accuracy: 0.9514 - val_loss: 0.3826 - val_accuracy: 0.9162\n",
      "Epoch 12/30\n",
      "7352/7352 [==============================] - 97s 13ms/step - loss: 0.1338 - accuracy: 0.9509 - val_loss: 0.3044 - val_accuracy: 0.9141\n",
      "Epoch 13/30\n",
      "7352/7352 [==============================] - 95s 13ms/step - loss: 0.1188 - accuracy: 0.9486 - val_loss: 0.3930 - val_accuracy: 0.9141\n",
      "Epoch 14/30\n",
      "7352/7352 [==============================] - 95s 13ms/step - loss: 0.1117 - accuracy: 0.9540 - val_loss: 0.4045 - val_accuracy: 0.9199\n",
      "Epoch 15/30\n",
      "7352/7352 [==============================] - 94s 13ms/step - loss: 0.1244 - accuracy: 0.9509 - val_loss: 0.3481 - val_accuracy: 0.9135\n",
      "Epoch 16/30\n",
      "7352/7352 [==============================] - 95s 13ms/step - loss: 0.1163 - accuracy: 0.9538 - val_loss: 0.4129 - val_accuracy: 0.9213\n",
      "Epoch 17/30\n",
      "7352/7352 [==============================] - 95s 13ms/step - loss: 0.1154 - accuracy: 0.9518 - val_loss: 0.3539 - val_accuracy: 0.9186\n",
      "Epoch 18/30\n",
      "7352/7352 [==============================] - 96s 13ms/step - loss: 0.1223 - accuracy: 0.9502 - val_loss: 0.5041 - val_accuracy: 0.9141\n",
      "Epoch 19/30\n",
      "7352/7352 [==============================] - 95s 13ms/step - loss: 0.1143 - accuracy: 0.9538 - val_loss: 0.3253 - val_accuracy: 0.9243\n",
      "Epoch 20/30\n",
      "7352/7352 [==============================] - 96s 13ms/step - loss: 0.1151 - accuracy: 0.9523 - val_loss: 0.3279 - val_accuracy: 0.9175\n",
      "Epoch 21/30\n",
      "7352/7352 [==============================] - 97s 13ms/step - loss: 0.1113 - accuracy: 0.9528 - val_loss: 0.2842 - val_accuracy: 0.9264\n",
      "Epoch 22/30\n",
      "7352/7352 [==============================] - 96s 13ms/step - loss: 0.1079 - accuracy: 0.9561 - val_loss: 0.3187 - val_accuracy: 0.9243\n",
      "Epoch 23/30\n",
      "7352/7352 [==============================] - 96s 13ms/step - loss: 0.2390 - accuracy: 0.9369 - val_loss: 0.3639 - val_accuracy: 0.9141\n",
      "Epoch 24/30\n",
      "7352/7352 [==============================] - 98s 13ms/step - loss: 0.1063 - accuracy: 0.9502 - val_loss: 0.3217 - val_accuracy: 0.9243\n",
      "Epoch 25/30\n",
      "7352/7352 [==============================] - 95s 13ms/step - loss: 0.1205 - accuracy: 0.9528 - val_loss: 0.3100 - val_accuracy: 0.9213\n",
      "Epoch 26/30\n",
      "7352/7352 [==============================] - 96s 13ms/step - loss: 0.1319 - accuracy: 0.9528 - val_loss: 0.2349 - val_accuracy: 0.9298\n",
      "Epoch 27/30\n",
      "7352/7352 [==============================] - 96s 13ms/step - loss: 0.1499 - accuracy: 0.9470 - val_loss: 0.3578 - val_accuracy: 0.9186\n",
      "Epoch 28/30\n",
      "7352/7352 [==============================] - 97s 13ms/step - loss: 0.1181 - accuracy: 0.9539 - val_loss: 0.5274 - val_accuracy: 0.9033\n",
      "Epoch 29/30\n",
      "7352/7352 [==============================] - 96s 13ms/step - loss: 0.1375 - accuracy: 0.9535 - val_loss: 0.3604 - val_accuracy: 0.9233\n",
      "Epoch 30/30\n",
      "7352/7352 [==============================] - 94s 13ms/step - loss: 0.1157 - accuracy: 0.9531 - val_loss: 0.3252 - val_accuracy: 0.9247\n"
     ]
    },
    {
     "data": {
      "text/plain": [
       "<keras.callbacks.callbacks.History at 0x21535eafdc8>"
      ]
     },
     "execution_count": 110,
     "metadata": {},
     "output_type": "execute_result"
    }
   ],
   "source": [
    "# Training the model\n",
    "model.fit(X_train,\n",
    "          Y_train,\n",
    "          batch_size=batch_size,\n",
    "          validation_data=(X_test, Y_test),\n",
    "          epochs=epochs)"
   ]
  },
  {
   "cell_type": "code",
   "execution_count": 111,
   "metadata": {},
   "outputs": [
    {
     "name": "stdout",
     "output_type": "stream",
     "text": [
      "Pred                LAYING  SITTING  STANDING  WALKING  WALKING_DOWNSTAIRS  \\\n",
      "True                                                                         \n",
      "LAYING                 537        0         0        0                   0   \n",
      "SITTING                  2      408        76        0                   3   \n",
      "STANDING                 0      109       423        0                   0   \n",
      "WALKING                  0        0         0      469                  21   \n",
      "WALKING_DOWNSTAIRS       0        0         0        1                 418   \n",
      "WALKING_UPSTAIRS         0        0         0        0                   1   \n",
      "\n",
      "Pred                WALKING_UPSTAIRS  \n",
      "True                                  \n",
      "LAYING                             0  \n",
      "SITTING                            2  \n",
      "STANDING                           0  \n",
      "WALKING                            6  \n",
      "WALKING_DOWNSTAIRS                 1  \n",
      "WALKING_UPSTAIRS                 470  \n",
      "2947/2947 [==============================] - 10s 3ms/step\n"
     ]
    },
    {
     "data": {
      "text/plain": [
       "[0.32517735768649997, 0.9246691465377808]"
      ]
     },
     "execution_count": 111,
     "metadata": {},
     "output_type": "execute_result"
    }
   ],
   "source": [
    "# Confusion Matrix\n",
    "print(confusion_matrix(Y_test, model.predict(X_test)))\n",
    "score = model.evaluate(X_test, Y_test)\n",
    "score"
   ]
  },
  {
   "cell_type": "markdown",
   "metadata": {},
   "source": [
    "### Observations"
   ]
  },
  {
   "cell_type": "code",
   "execution_count": 126,
   "metadata": {},
   "outputs": [
    {
     "name": "stdout",
     "output_type": "stream",
     "text": [
      "+---------------------------+----------+------+\n",
      "|           Model           | Accuracy | Loss |\n",
      "+---------------------------+----------+------+\n",
      "|        Simple LSTM        |   0.89   | 0.58 |\n",
      "| Modified No of LSTM units |   0.92   | 0.26 |\n",
      "|    With M_LSTM+ dropout   |   0.91   | 0.31 |\n",
      "|        Stacked LSTM       |  0.924   | 0.32 |\n",
      "+---------------------------+----------+------+\n"
     ]
    }
   ],
   "source": [
    "from prettytable import PrettyTable\n",
    "x = PrettyTable()\n",
    "x.field_names = [\"Model\",\"Accuracy\", \"Loss\"]\n",
    "x.add_row([\"Simple LSTM\",0.89,0.58 ])\n",
    "x.add_row([\"Modified No of LSTM units\", 0.92, 0.26])\n",
    "x.add_row([\"With M_LSTM+ dropout\",0.91, 0.31])\n",
    "x.add_row([\"Stacked LSTM\", 0.924, 0.32])\n",
    "print(x)"
   ]
  },
  {
   "cell_type": "markdown",
   "metadata": {},
   "source": [
    "### Conclusions"
   ]
  },
  {
   "cell_type": "markdown",
   "metadata": {},
   "source": [
    "#### Stacked LSTM is performed better than other models, Could differentiate activities well when compared to other models"
   ]
  }
 ],
 "metadata": {
  "kernelspec": {
   "display_name": "Python 3",
   "language": "python",
   "name": "python3"
  },
  "language_info": {
   "codemirror_mode": {
    "name": "ipython",
    "version": 3
   },
   "file_extension": ".py",
   "mimetype": "text/x-python",
   "name": "python",
   "nbconvert_exporter": "python",
   "pygments_lexer": "ipython3",
   "version": "3.7.4"
  }
 },
 "nbformat": 4,
 "nbformat_minor": 2
}
